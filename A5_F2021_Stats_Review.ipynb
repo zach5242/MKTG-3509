{
 "cells": [
  {
   "cell_type": "markdown",
   "metadata": {
    "id": "I_GfWSOmUL9h"
   },
   "source": [
    "**Rationale** Hypothesis testing is foundational to the entire field of statistics. Without the Central Limit Theorem and hypothesis testing, we would not have modern day (social) science. In marketing, this is generally most important when doing A/B testing of ads. In this assignment, you will practice computing basic summary statistics and conducting hypothesis tests. \n",
    "\n",
    "[Datasets](https://drive.google.com/drive/folders/1D6D-zRU3oiP12c0dFMQjs66JDhBZBtax?usp=sharing) required:\n",
    "1. [FB ad campaign data](https://drive.google.com/file/d/1JfwvumxS2oys8ZcQtsb8GGmeRfnkzFdy/view?usp=sharing).\n",
    "1. [Starbucks Promos](https://drive.google.com/file/d/1W7x5_PU5KszT8mqXqqEmRfXuR8CRr1DX/view?usp=sharing)"
   ]
  },
  {
   "cell_type": "markdown",
   "metadata": {
    "id": "DdmKkAgxwLZB"
   },
   "source": [
    "# 1. (2 points) FB Ad campaigns\n",
    "\n",
    "1. Use a groupby operation create a dataframe called `sumstats` consisting of the total impressions and clicks for each `xyz_campaign_id`.\n",
    "1. Using `sumstats`, create a new column called `ctr` that represents the [click through rate](https://support.google.com/google-ads/answer/2615875?hl=en) for each campaign. Which campaign had the highest CTR?\n",
    "1. Create a column for `sd` for standard deviation of the click through rate. \n",
    "\n",
    "Hint: Recall from the notes that the standard deviation of a binomial distribution with $Pr(Success) = p$ is .$SD(p) = \\sqrt{p(1-p)}$. So if the probability of a binary outcome (such as clicking on an ad) is observed to be .3, the standard deviation is $\\sqrt{.3(.7)}=\\sqrt{.21}$."
   ]
  },
  {
   "cell_type": "code",
   "execution_count": 3,
   "metadata": {
    "colab": {
     "base_uri": "https://localhost:8080/"
    },
    "id": "5zHCASKUwPwY",
    "outputId": "c6134db0-f70a-4db9-9f69-632a165b1b4f"
   },
   "outputs": [],
   "source": [
    "# imports and mount google drive\n",
    "import os\n",
    "import pandas\n",
    "import numpy as np\n",
    "from scipy import stats\n",
    "\n",
    "##from google.colab import drive\n",
    "##drive.mount('drive')"
   ]
  },
  {
   "cell_type": "code",
   "execution_count": 4,
   "metadata": {},
   "outputs": [
    {
     "name": "stdout",
     "output_type": "stream",
     "text": [
      "/home/johndoe/A5\r\n"
     ]
    }
   ],
   "source": [
    "!pwd"
   ]
  },
  {
   "cell_type": "code",
   "execution_count": 5,
   "metadata": {
    "id": "gV3R6R-6v3tG"
   },
   "outputs": [
    {
     "data": {
      "text/plain": [
       "['starbucks_promos.csv',\n",
       " '.ipynb_checkpoints',\n",
       " 'A5_F2021_Stats_Review.ipynb',\n",
       " 'facebook_ads.csv']"
      ]
     },
     "execution_count": 5,
     "metadata": {},
     "output_type": "execute_result"
    }
   ],
   "source": [
    "# set the path to the datasets for A5\n",
    "\n",
    "fpath = '/home/johndoe/A5'\n",
    "os.listdir(fpath)"
   ]
  },
  {
   "cell_type": "code",
   "execution_count": 6,
   "metadata": {
    "id": "kgp10eMov30B"
   },
   "outputs": [],
   "source": [
    "# read in the facebook_ads.csv file as the dataframe variable named fb\n",
    "fb_df = pandas.read_csv('facebook_ads.csv')"
   ]
  },
  {
   "cell_type": "code",
   "execution_count": 7,
   "metadata": {
    "id": "Lcc5ZfCYv36W"
   },
   "outputs": [
    {
     "data": {
      "text/html": [
       "<div>\n",
       "<style scoped>\n",
       "    .dataframe tbody tr th:only-of-type {\n",
       "        vertical-align: middle;\n",
       "    }\n",
       "\n",
       "    .dataframe tbody tr th {\n",
       "        vertical-align: top;\n",
       "    }\n",
       "\n",
       "    .dataframe thead th {\n",
       "        text-align: right;\n",
       "    }\n",
       "</style>\n",
       "<table border=\"1\" class=\"dataframe\">\n",
       "  <thead>\n",
       "    <tr style=\"text-align: right;\">\n",
       "      <th></th>\n",
       "      <th>ad_id</th>\n",
       "      <th>xyz_campaign_id</th>\n",
       "      <th>fb_campaign_id</th>\n",
       "      <th>age</th>\n",
       "      <th>gender</th>\n",
       "      <th>interest</th>\n",
       "      <th>Impressions</th>\n",
       "      <th>Clicks</th>\n",
       "      <th>Spent</th>\n",
       "      <th>Total_Conversion</th>\n",
       "      <th>Approved_Conversion</th>\n",
       "    </tr>\n",
       "  </thead>\n",
       "  <tbody>\n",
       "    <tr>\n",
       "      <th>0</th>\n",
       "      <td>708746</td>\n",
       "      <td>916</td>\n",
       "      <td>103916</td>\n",
       "      <td>30-34</td>\n",
       "      <td>M</td>\n",
       "      <td>15</td>\n",
       "      <td>7350</td>\n",
       "      <td>1</td>\n",
       "      <td>1.43</td>\n",
       "      <td>2</td>\n",
       "      <td>1</td>\n",
       "    </tr>\n",
       "    <tr>\n",
       "      <th>1</th>\n",
       "      <td>708749</td>\n",
       "      <td>916</td>\n",
       "      <td>103917</td>\n",
       "      <td>30-34</td>\n",
       "      <td>M</td>\n",
       "      <td>16</td>\n",
       "      <td>17861</td>\n",
       "      <td>2</td>\n",
       "      <td>1.82</td>\n",
       "      <td>2</td>\n",
       "      <td>0</td>\n",
       "    </tr>\n",
       "    <tr>\n",
       "      <th>2</th>\n",
       "      <td>708771</td>\n",
       "      <td>916</td>\n",
       "      <td>103920</td>\n",
       "      <td>30-34</td>\n",
       "      <td>M</td>\n",
       "      <td>20</td>\n",
       "      <td>693</td>\n",
       "      <td>0</td>\n",
       "      <td>0.00</td>\n",
       "      <td>1</td>\n",
       "      <td>0</td>\n",
       "    </tr>\n",
       "    <tr>\n",
       "      <th>3</th>\n",
       "      <td>708815</td>\n",
       "      <td>916</td>\n",
       "      <td>103928</td>\n",
       "      <td>30-34</td>\n",
       "      <td>M</td>\n",
       "      <td>28</td>\n",
       "      <td>4259</td>\n",
       "      <td>1</td>\n",
       "      <td>1.25</td>\n",
       "      <td>1</td>\n",
       "      <td>0</td>\n",
       "    </tr>\n",
       "    <tr>\n",
       "      <th>4</th>\n",
       "      <td>708818</td>\n",
       "      <td>916</td>\n",
       "      <td>103928</td>\n",
       "      <td>30-34</td>\n",
       "      <td>M</td>\n",
       "      <td>28</td>\n",
       "      <td>4133</td>\n",
       "      <td>1</td>\n",
       "      <td>1.29</td>\n",
       "      <td>1</td>\n",
       "      <td>1</td>\n",
       "    </tr>\n",
       "  </tbody>\n",
       "</table>\n",
       "</div>"
      ],
      "text/plain": [
       "    ad_id  xyz_campaign_id  fb_campaign_id    age gender  interest  \\\n",
       "0  708746              916          103916  30-34      M        15   \n",
       "1  708749              916          103917  30-34      M        16   \n",
       "2  708771              916          103920  30-34      M        20   \n",
       "3  708815              916          103928  30-34      M        28   \n",
       "4  708818              916          103928  30-34      M        28   \n",
       "\n",
       "   Impressions  Clicks  Spent  Total_Conversion  Approved_Conversion  \n",
       "0         7350       1   1.43                 2                    1  \n",
       "1        17861       2   1.82                 2                    0  \n",
       "2          693       0   0.00                 1                    0  \n",
       "3         4259       1   1.25                 1                    0  \n",
       "4         4133       1   1.29                 1                    1  "
      ]
     },
     "execution_count": 7,
     "metadata": {},
     "output_type": "execute_result"
    }
   ],
   "source": [
    "# Take a look at the first 5 rows\n",
    "# Observe that each row represents 1 ad from 1 campaign and a target demographic group (age, gender, interest)\n",
    "fb_df.head(5)"
   ]
  },
  {
   "cell_type": "code",
   "execution_count": 8,
   "metadata": {
    "id": "ed4vShBTwO8e"
   },
   "outputs": [
    {
     "data": {
      "text/html": [
       "<div>\n",
       "<style scoped>\n",
       "    .dataframe tbody tr th:only-of-type {\n",
       "        vertical-align: middle;\n",
       "    }\n",
       "\n",
       "    .dataframe tbody tr th {\n",
       "        vertical-align: top;\n",
       "    }\n",
       "\n",
       "    .dataframe thead th {\n",
       "        text-align: right;\n",
       "    }\n",
       "</style>\n",
       "<table border=\"1\" class=\"dataframe\">\n",
       "  <thead>\n",
       "    <tr style=\"text-align: right;\">\n",
       "      <th></th>\n",
       "      <th>xyz_campaign_id</th>\n",
       "      <th>Clicks</th>\n",
       "      <th>Impressions</th>\n",
       "    </tr>\n",
       "  </thead>\n",
       "  <tbody>\n",
       "    <tr>\n",
       "      <th>0</th>\n",
       "      <td>916</td>\n",
       "      <td>113</td>\n",
       "      <td>482925</td>\n",
       "    </tr>\n",
       "    <tr>\n",
       "      <th>1</th>\n",
       "      <td>936</td>\n",
       "      <td>1984</td>\n",
       "      <td>8128187</td>\n",
       "    </tr>\n",
       "    <tr>\n",
       "      <th>2</th>\n",
       "      <td>1178</td>\n",
       "      <td>36068</td>\n",
       "      <td>204823716</td>\n",
       "    </tr>\n",
       "  </tbody>\n",
       "</table>\n",
       "</div>"
      ],
      "text/plain": [
       "   xyz_campaign_id  Clicks  Impressions\n",
       "0              916     113       482925\n",
       "1              936    1984      8128187\n",
       "2             1178   36068    204823716"
      ]
     },
     "execution_count": 8,
     "metadata": {},
     "output_type": "execute_result"
    }
   ],
   "source": [
    "# use a groupby to create new dataframe, sumstats that tabulates the total clicks and impressions for each campaign.\n",
    "# Generic groupby syntax: sumstats = df.groupby('groupbyvariable')[['summary_variable1', 'summary_variable2']].summaryfunction().reset_index()\n",
    "# use the correct dataframe name, variables (i.e. column names) and summaryfunction\n",
    "sumstats_df = fb_df.groupby('xyz_campaign_id')[['Clicks', 'Impressions']].sum().reset_index()\n",
    "sumstats_df\n",
    "            "
   ]
  },
  {
   "cell_type": "code",
   "execution_count": 9,
   "metadata": {
    "id": "-fRgZWiJwO_E"
   },
   "outputs": [],
   "source": [
    "# create a new column in sumstats called 'ctr' (short for click through rate)\n",
    "# recall that ctr = clicks / impressions\n",
    "sumstats_df['ctr']  = (sumstats_df['Clicks'])/(sumstats_df['Impressions'])\n",
    "\n",
    "\n"
   ]
  },
  {
   "cell_type": "code",
   "execution_count": 10,
   "metadata": {
    "id": "whB7lmTmwPBy"
   },
   "outputs": [
    {
     "data": {
      "text/html": [
       "<div>\n",
       "<style scoped>\n",
       "    .dataframe tbody tr th:only-of-type {\n",
       "        vertical-align: middle;\n",
       "    }\n",
       "\n",
       "    .dataframe tbody tr th {\n",
       "        vertical-align: top;\n",
       "    }\n",
       "\n",
       "    .dataframe thead th {\n",
       "        text-align: right;\n",
       "    }\n",
       "</style>\n",
       "<table border=\"1\" class=\"dataframe\">\n",
       "  <thead>\n",
       "    <tr style=\"text-align: right;\">\n",
       "      <th></th>\n",
       "      <th>xyz_campaign_id</th>\n",
       "      <th>Clicks</th>\n",
       "      <th>Impressions</th>\n",
       "      <th>ctr</th>\n",
       "    </tr>\n",
       "  </thead>\n",
       "  <tbody>\n",
       "    <tr>\n",
       "      <th>0</th>\n",
       "      <td>916</td>\n",
       "      <td>113</td>\n",
       "      <td>482925</td>\n",
       "      <td>0.000234</td>\n",
       "    </tr>\n",
       "    <tr>\n",
       "      <th>1</th>\n",
       "      <td>936</td>\n",
       "      <td>1984</td>\n",
       "      <td>8128187</td>\n",
       "      <td>0.000244</td>\n",
       "    </tr>\n",
       "    <tr>\n",
       "      <th>2</th>\n",
       "      <td>1178</td>\n",
       "      <td>36068</td>\n",
       "      <td>204823716</td>\n",
       "      <td>0.000176</td>\n",
       "    </tr>\n",
       "  </tbody>\n",
       "</table>\n",
       "</div>"
      ],
      "text/plain": [
       "   xyz_campaign_id  Clicks  Impressions       ctr\n",
       "0              916     113       482925  0.000234\n",
       "1              936    1984      8128187  0.000244\n",
       "2             1178   36068    204823716  0.000176"
      ]
     },
     "execution_count": 10,
     "metadata": {},
     "output_type": "execute_result"
    }
   ],
   "source": [
    "# take a look at the whole sumstats dataframe\n",
    "sumstats_df\n"
   ]
  },
  {
   "cell_type": "code",
   "execution_count": 11,
   "metadata": {},
   "outputs": [
    {
     "data": {
      "text/html": [
       "<div>\n",
       "<style scoped>\n",
       "    .dataframe tbody tr th:only-of-type {\n",
       "        vertical-align: middle;\n",
       "    }\n",
       "\n",
       "    .dataframe tbody tr th {\n",
       "        vertical-align: top;\n",
       "    }\n",
       "\n",
       "    .dataframe thead th {\n",
       "        text-align: right;\n",
       "    }\n",
       "</style>\n",
       "<table border=\"1\" class=\"dataframe\">\n",
       "  <thead>\n",
       "    <tr style=\"text-align: right;\">\n",
       "      <th></th>\n",
       "      <th>xyz_campaign_id</th>\n",
       "      <th>Clicks</th>\n",
       "      <th>Impressions</th>\n",
       "      <th>ctr</th>\n",
       "      <th>ctr_sd</th>\n",
       "    </tr>\n",
       "  </thead>\n",
       "  <tbody>\n",
       "    <tr>\n",
       "      <th>0</th>\n",
       "      <td>916</td>\n",
       "      <td>113</td>\n",
       "      <td>482925</td>\n",
       "      <td>0.000234</td>\n",
       "      <td>0.015295</td>\n",
       "    </tr>\n",
       "    <tr>\n",
       "      <th>1</th>\n",
       "      <td>936</td>\n",
       "      <td>1984</td>\n",
       "      <td>8128187</td>\n",
       "      <td>0.000244</td>\n",
       "      <td>0.015621</td>\n",
       "    </tr>\n",
       "    <tr>\n",
       "      <th>2</th>\n",
       "      <td>1178</td>\n",
       "      <td>36068</td>\n",
       "      <td>204823716</td>\n",
       "      <td>0.000176</td>\n",
       "      <td>0.013269</td>\n",
       "    </tr>\n",
       "  </tbody>\n",
       "</table>\n",
       "</div>"
      ],
      "text/plain": [
       "   xyz_campaign_id  Clicks  Impressions       ctr    ctr_sd\n",
       "0              916     113       482925  0.000234  0.015295\n",
       "1              936    1984      8128187  0.000244  0.015621\n",
       "2             1178   36068    204823716  0.000176  0.013269"
      ]
     },
     "execution_count": 11,
     "metadata": {},
     "output_type": "execute_result"
    }
   ],
   "source": [
    "# create a new column ctr_sd for the std. dev of the ctr (See hint above)\n",
    "# pay attention to PEMDAS, esp. that you want to take the sqrt after computing p*(1-p)\n",
    "# np.sqrt(x) returns the sqrt of some number xsumstats_df['ctr']create a new column ctr_sd for the std. dev of the ctr (See hint above)\n",
    "# pay attention to PEMDAS, esp. that you want to take the sqrt after computing p*(1-p)\n",
    "# np.sqrt(x) returns the sqrt of some number x\n",
    "# alternatively, x**.5 also returns the sqrt of x\n",
    "# $SD(p) = \\sqrt{p(1-p)}$\n",
    "# p = sumstats_df['ctr']\n",
    "\n",
    "sumstats_df['ctr_sd'] = np.sqrt(sumstats_df['ctr']*(1 - sumstats_df['ctr']))\n",
    "sumstats_df"
   ]
  },
  {
   "cell_type": "code",
   "execution_count": 12,
   "metadata": {
    "id": "F1-_ImT28dJe"
   },
   "outputs": [
    {
     "name": "stdout",
     "output_type": "stream",
     "text": [
      "sd for line 0 equals:  0.015295268680216115\n"
     ]
    },
    {
     "data": {
      "text/html": [
       "<div>\n",
       "<style scoped>\n",
       "    .dataframe tbody tr th:only-of-type {\n",
       "        vertical-align: middle;\n",
       "    }\n",
       "\n",
       "    .dataframe tbody tr th {\n",
       "        vertical-align: top;\n",
       "    }\n",
       "\n",
       "    .dataframe thead th {\n",
       "        text-align: right;\n",
       "    }\n",
       "</style>\n",
       "<table border=\"1\" class=\"dataframe\">\n",
       "  <thead>\n",
       "    <tr style=\"text-align: right;\">\n",
       "      <th></th>\n",
       "      <th>xyz_campaign_id</th>\n",
       "      <th>Clicks</th>\n",
       "      <th>Impressions</th>\n",
       "      <th>ctr</th>\n",
       "      <th>ctr_sd</th>\n",
       "    </tr>\n",
       "  </thead>\n",
       "  <tbody>\n",
       "    <tr>\n",
       "      <th>0</th>\n",
       "      <td>916</td>\n",
       "      <td>113</td>\n",
       "      <td>482925</td>\n",
       "      <td>0.000234</td>\n",
       "      <td>0.015295</td>\n",
       "    </tr>\n",
       "    <tr>\n",
       "      <th>1</th>\n",
       "      <td>936</td>\n",
       "      <td>1984</td>\n",
       "      <td>8128187</td>\n",
       "      <td>0.000244</td>\n",
       "      <td>0.015621</td>\n",
       "    </tr>\n",
       "    <tr>\n",
       "      <th>2</th>\n",
       "      <td>1178</td>\n",
       "      <td>36068</td>\n",
       "      <td>204823716</td>\n",
       "      <td>0.000176</td>\n",
       "      <td>0.013269</td>\n",
       "    </tr>\n",
       "  </tbody>\n",
       "</table>\n",
       "</div>"
      ],
      "text/plain": [
       "   xyz_campaign_id  Clicks  Impressions       ctr    ctr_sd\n",
       "0              916     113       482925  0.000234  0.015295\n",
       "1              936    1984      8128187  0.000244  0.015621\n",
       "2             1178   36068    204823716  0.000176  0.013269"
      ]
     },
     "execution_count": 12,
     "metadata": {},
     "output_type": "execute_result"
    }
   ],
   "source": [
    "# take another look at the whole sumstats dataframe\n",
    "# compare the ctr_std to calculating it by hand, make sure you did this correctly.\n",
    "p = 0.000234\n",
    "sd = (p*(1.0 - p))**(.5)\n",
    "print('sd for line 0 equals: ', sd)\n",
    "sumstats_df\n"
   ]
  },
  {
   "cell_type": "markdown",
   "metadata": {
    "id": "8HRyqz1Exl4Y"
   },
   "source": [
    "## Answer (edit this cell)\n",
    "The campaign with the highest CTR is: **936**\n",
    "\n"
   ]
  },
  {
   "cell_type": "markdown",
   "metadata": {
    "id": "cEYwuOWowQaF"
   },
   "source": [
    "# 2. (4 points) Hypothesis testing and confidence intervals\n",
    "\n",
    "1. Compute the 95% confidence interval for the CTR for each campaign. Compare the confidence intervals of campaign 916 and 936. What can you conclude about the relative perfrmance of the 2 ads in the population (e.g. are they very different, similar, etc.)? How about 916 vs. 1178?\n",
    "1. Was campaign 936 statistically different compared to campaign 916? How about 936 vs. 1178? Use the `ttest_2sample` function from the notes. Remember, you must define it in your Colab session in order to use it (execute the cell w/ the function).\n",
    "\n",
    "Given these statistical tests what would you recommend in terms of allocation of the ad budget? "
   ]
  },
  {
   "cell_type": "code",
   "execution_count": 13,
   "metadata": {
    "id": "DJdbML1BCQ7X"
   },
   "outputs": [
    {
     "data": {
      "text/html": [
       "<div>\n",
       "<style scoped>\n",
       "    .dataframe tbody tr th:only-of-type {\n",
       "        vertical-align: middle;\n",
       "    }\n",
       "\n",
       "    .dataframe tbody tr th {\n",
       "        vertical-align: top;\n",
       "    }\n",
       "\n",
       "    .dataframe thead th {\n",
       "        text-align: right;\n",
       "    }\n",
       "</style>\n",
       "<table border=\"1\" class=\"dataframe\">\n",
       "  <thead>\n",
       "    <tr style=\"text-align: right;\">\n",
       "      <th></th>\n",
       "      <th>xyz_campaign_id</th>\n",
       "      <th>Clicks</th>\n",
       "      <th>Impressions</th>\n",
       "      <th>ctr</th>\n",
       "      <th>ctr_sd</th>\n",
       "      <th>std_error</th>\n",
       "    </tr>\n",
       "  </thead>\n",
       "  <tbody>\n",
       "    <tr>\n",
       "      <th>0</th>\n",
       "      <td>916</td>\n",
       "      <td>113</td>\n",
       "      <td>482925</td>\n",
       "      <td>0.000234</td>\n",
       "      <td>0.015295</td>\n",
       "      <td>2.200943e-05</td>\n",
       "    </tr>\n",
       "    <tr>\n",
       "      <th>1</th>\n",
       "      <td>936</td>\n",
       "      <td>1984</td>\n",
       "      <td>8128187</td>\n",
       "      <td>0.000244</td>\n",
       "      <td>0.015621</td>\n",
       "      <td>5.479288e-06</td>\n",
       "    </tr>\n",
       "    <tr>\n",
       "      <th>2</th>\n",
       "      <td>1178</td>\n",
       "      <td>36068</td>\n",
       "      <td>204823716</td>\n",
       "      <td>0.000176</td>\n",
       "      <td>0.013269</td>\n",
       "      <td>9.271341e-07</td>\n",
       "    </tr>\n",
       "  </tbody>\n",
       "</table>\n",
       "</div>"
      ],
      "text/plain": [
       "   xyz_campaign_id  Clicks  Impressions       ctr    ctr_sd     std_error\n",
       "0              916     113       482925  0.000234  0.015295  2.200943e-05\n",
       "1              936    1984      8128187  0.000244  0.015621  5.479288e-06\n",
       "2             1178   36068    204823716  0.000176  0.013269  9.271341e-07"
      ]
     },
     "execution_count": 13,
     "metadata": {},
     "output_type": "execute_result"
    }
   ],
   "source": [
    "# use stats.norm.ppf([.025, .975], mean, std error)\n",
    "# where mean is sample mean and std error is std dev / sqrt(obs) (from Central Limit Theorem)\n",
    "#\n",
    "# confidence interval for ad 916\n",
    "\n",
    "# mean = ctr\n",
    "# std = ctr_sd\n",
    "# obs = impressions\n",
    "##sumstats_df['mean'] = sumstats_df['Clicks']/sumstats_df['Impressions']\n",
    "sumstats_df['std_error'] = sumstats_df['ctr_sd']/((sumstats_df['Impressions'])**(.5))\n",
    "##sumstats_df['conf_interval'] = stats.norm.ppf([.025, .975], sumstats_df['mean'], sumstats_df['std_error'])\n",
    "##conf_interval_916 = stats.norm.ppf([.025, .975], 113/, sumstats_df['ctr_sd']/(np.sqrt(sumstats_df['Impressions'])) )\n",
    "sumstats_df"
   ]
  },
  {
   "cell_type": "code",
   "execution_count": 16,
   "metadata": {},
   "outputs": [
    {
     "name": "stdout",
     "output_type": "stream",
     "text": [
      "916 conf interval = [0.00019086 0.00027714]\n",
      "span =  8.627538024051079e-05\n"
     ]
    }
   ],
   "source": [
    "# confidence intervalf for ad 916\n",
    "conf_interval_916 = stats.norm.ppf([.025, .975], 0.000234, .00002200943)\n",
    "span_916 = conf_interval_916[1] - conf_interval_916[0]\n",
    "print('916 conf interval =', conf_interval_916)\n",
    "print('span = ', span)"
   ]
  },
  {
   "cell_type": "code",
   "execution_count": 17,
   "metadata": {
    "id": "5iw0uMWEyzX1"
   },
   "outputs": [
    {
     "name": "stdout",
     "output_type": "stream",
     "text": [
      "936 conf interval = [0.00023326 0.00025474]\n",
      "span =  2.1478414281845008e-05\n"
     ]
    }
   ],
   "source": [
    "# confidence interval for ad 936\n",
    "conf_interval_936 = stats.norm.ppf([.025, .975], 0.000244, .000005479288)\n",
    "span_936 = conf_interval_936[1] - conf_interval_936[0]\n",
    "print('936 conf interval =', conf_interval_936)\n",
    "print('span = ', span_936)"
   ]
  },
  {
   "cell_type": "code",
   "execution_count": 18,
   "metadata": {
    "id": "z2rG1Vd2y3GH"
   },
   "outputs": [
    {
     "name": "stdout",
     "output_type": "stream",
     "text": [
      "1178 conf interval = [0.00017418 0.00017782]\n",
      "span =  3.6342988896778997e-06\n"
     ]
    }
   ],
   "source": [
    "# confidence interval for ad 1178\n",
    "conf_interval_1178 = stats.norm.ppf([.025, .975], 0.000176, .0000009271341)\n",
    "span_1178 = conf_interval_1178[1] - conf_interval_1178[0]\n",
    "print('1178 conf interval =', conf_interval_1178)\n",
    "print('span = ', span_1178)"
   ]
  },
  {
   "cell_type": "markdown",
   "metadata": {
    "id": "a3WMsEHX9VOa"
   },
   "source": [
    "**Edit this cell**\n",
    "\n",
    "1. (write 1-2 sentences to compare the confidence interval of 916 vs 936's CTR):\n",
    "** The confidence interval for the mean for campaign 916 is much wider--about 4 times as wide--as the confidence interval for 936.  The confidence interval is the range of values (in this case at the 95% level) within which we expect the true mean to exist. For campaign 916, our ability to estimate the true mean is less powerful because of the large range of values within which the true mean could be.  Campaign 936 is the opposite (or ability to estimate the true mean is more powerful). For campaign 916, the true mean for click through rate exists between .0001908 and .0002771.  For campaign 936, the true mean click through rate exists between .0002332 and .0002547. **\n",
    "1. (write 1-2 sentences to compare the confidence interval of 916 vs 1178's CTR) \n",
    "** The 95% confidence interval for campaign 1178 is also narrower than the confidence interval for 916. Our ability to say where the true mean click through rate lies for campaign 1178 lies within a tighter range of values (.000174 and .000177) then the broader seen in campaign 916, where our ability to estimate the true mean lies within a broader range of values, between .0001908 and .0002771.**"
   ]
  },
  {
   "cell_type": "code",
   "execution_count": 20,
   "metadata": {
    "id": "u_jk2UHrAGoX"
   },
   "outputs": [],
   "source": [
    "# Use this custom funciton\n",
    "\n",
    "def ttest_2sample(m1,sd1,N1,m2,sd2,N2, twotail = True, equalvar = False):\n",
    "    \"\"\"\n",
    "    This function requires you tu supply:\n",
    "    m1: mean of sample 1\n",
    "    sd1: std. dev of sample 1\n",
    "    N1: number of obs of sample 1\n",
    "    m2: mean of sample 2\n",
    "    sd2: std dev of sample 2\n",
    "    N2: number of obs of sample 2\n",
    "\n",
    "    Optional inputs:\n",
    "    twotail = True (default) / False. If False, then 1 tail\n",
    "    equalvar = True / False (default). If True, assumes equal population variance.\n",
    "    \"\"\"\n",
    "\n",
    "    # The difference between equal and unequal variance is only in how to compute\n",
    "    # the test statistic and degree of freedom.\n",
    "    if equalvar:\n",
    "        spsquare = ((N1-1)*sd1**2+(N2-1)*sd2**2)/(N1+N2-2) \n",
    "        T = (m1-m2)/np.sqrt(spsquare*(1/N1+1/N2))\n",
    "        nu = N1+N2-2\n",
    "    else:\n",
    "        nu = (sd1**2/N1+sd2**2/N2)**2/((sd1**2/N1)**2/(N1-1)+(sd2**2/N2)**2/(N2-1)) # new degree of freedom\n",
    "        T = (m1-m2)/(np.sqrt(sd1**2/N1+sd2**2/N2))\n",
    "    \n",
    "    # If the first mean is bigger, we need to do 1- cdf\n",
    "    # Otherwise just compute cdf\n",
    "    if m1>m2:\n",
    "        pval = 1-stats.t.cdf(T, df = nu)\n",
    "    else:\n",
    "        pval = stats.t.cdf(T, df = nu)\n",
    "\n",
    "    # return p values\n",
    "    # If 2 tail, we must multiply by 2\n",
    "    # otherwise we just return the computed pval\n",
    "    if twotail == True:\n",
    "        return pval*2\n",
    "    else:\n",
    "        return pval"
   ]
  },
  {
   "cell_type": "code",
   "execution_count": 29,
   "metadata": {
    "id": "IInYMY2dBHLv"
   },
   "outputs": [
    {
     "name": "stdout",
     "output_type": "stream",
     "text": [
      "0.659290373515292\n"
     ]
    }
   ],
   "source": [
    "# run a 2 tail 2 sample t-test to compare the population CTRs for 936 and 916\n",
    "## ttest_2sample(m1,sd1,N1,m2,sd2,N2, twotail = True, equalvar = False)\n",
    "\n",
    "# from the dataframe\n",
    "\n",
    "m936 = 0.000244\n",
    "sd936 = 0.015621\n",
    "imp936 = 8128187\n",
    "\n",
    "m916 = 0.000234\n",
    "sd916 = 0.015295\n",
    "imp916 = 482925\n",
    "\n",
    "m1178 = 0.000176\n",
    "sd1178 = 0.013269\n",
    "imp1178 = 204823716\n",
    "\n",
    "test_result = ttest_2sample(m936, sd936, imp936, m916, sd916, imp916, twotail = True, equalvar = False)\n",
    "print(test_result)"
   ]
  },
  {
   "cell_type": "code",
   "execution_count": 30,
   "metadata": {
    "id": "qvEZoE2iIagx"
   },
   "outputs": [
    {
     "name": "stdout",
     "output_type": "stream",
     "text": [
      "0.0\n"
     ]
    }
   ],
   "source": [
    "# run a 2 tail 2 sample t-test to compare the population CTRs for 936 and 1178\n",
    "test_result = ttest_2sample(m936, sd936, imp936, m1178, sd1178, imp1178, twotail = True, equalvar = False)\n",
    "print(test_result)"
   ]
  },
  {
   "cell_type": "markdown",
   "metadata": {
    "id": "4_YVpVfB08wW"
   },
   "source": [
    "**Edit this cell to answer**\n",
    "\n",
    "(Write a few sentences to describe how to proceed with the allocation of the ad budget going forward. Be sure to use the 2 tail t-tests above to support your strategy)  \n",
    "**The test result of less than .05 comparing the distributions in campaigns 936 and 1178 suggests that the difference between the means in this instance is statistically significant and that campaign 936's click through rate is reliably better than 1178.  The test result comparing campaigns 936 and 916 is not statistically significant -- we can't rely on the differnce between the two means in that case.  As a result, when allocating advertising spend, we should select campaign 936 or 916 but not 1178.  One other very important thing to consider though, would be what the cost per click through is between 936 and 916.  If one isn't clearly better than the other, it may be better to go with the cheaper one.**"
   ]
  },
  {
   "cell_type": "markdown",
   "metadata": {
    "id": "ypanZDwVAOu2"
   },
   "source": [
    "# 3. (4 points)\n",
    "\n",
    "Using the Starbucks dataset, conduct an appropriate statistical test to determine:\n",
    "1. Is there any statistically appreciable difference in the redemption rates of BOGO vs. Discount promotions?\n",
    "1. Among those who redeemed an offer and reported their income, is there any statistical difference in the average income associated with BOGO vs. discount redemptions? Note that not every observation reports income (select only the observations that do)."
   ]
  },
  {
   "cell_type": "code",
   "execution_count": 31,
   "metadata": {
    "id": "2hSML7pKQafY"
   },
   "outputs": [],
   "source": [
    "# read in the starbucks_promos.csv file as the dataframe variable named sb, use index_col = 0 option\n",
    "sb_df = pandas.read_csv('starbucks_promos.csv', index_col = 0)"
   ]
  },
  {
   "cell_type": "code",
   "execution_count": 32,
   "metadata": {
    "id": "K3ZbG5blJPSz"
   },
   "outputs": [
    {
     "data": {
      "text/html": [
       "<div>\n",
       "<style scoped>\n",
       "    .dataframe tbody tr th:only-of-type {\n",
       "        vertical-align: middle;\n",
       "    }\n",
       "\n",
       "    .dataframe tbody tr th {\n",
       "        vertical-align: top;\n",
       "    }\n",
       "\n",
       "    .dataframe thead th {\n",
       "        text-align: right;\n",
       "    }\n",
       "</style>\n",
       "<table border=\"1\" class=\"dataframe\">\n",
       "  <thead>\n",
       "    <tr style=\"text-align: right;\">\n",
       "      <th></th>\n",
       "      <th>uid</th>\n",
       "      <th>event</th>\n",
       "      <th>time</th>\n",
       "      <th>gender</th>\n",
       "      <th>age</th>\n",
       "      <th>register_date</th>\n",
       "      <th>income</th>\n",
       "      <th>offer_id</th>\n",
       "      <th>offer_reward</th>\n",
       "      <th>channels</th>\n",
       "      <th>difficulty</th>\n",
       "      <th>duration</th>\n",
       "      <th>offer_type</th>\n",
       "      <th>offer_time</th>\n",
       "      <th>transaction_amount</th>\n",
       "      <th>redeem_time</th>\n",
       "      <th>redeemed</th>\n",
       "    </tr>\n",
       "  </thead>\n",
       "  <tbody>\n",
       "    <tr>\n",
       "      <th>1</th>\n",
       "      <td>0020c2b971eb4e9188eac86d93036a77</td>\n",
       "      <td>offer received</td>\n",
       "      <td>0</td>\n",
       "      <td>F</td>\n",
       "      <td>59</td>\n",
       "      <td>20160304</td>\n",
       "      <td>90000.0</td>\n",
       "      <td>fafdcd668e3743c1bb461111dcafc2a4</td>\n",
       "      <td>2.0</td>\n",
       "      <td>['web', 'email', 'mobile', 'social']</td>\n",
       "      <td>10.0</td>\n",
       "      <td>240.0</td>\n",
       "      <td>discount</td>\n",
       "      <td>0.0</td>\n",
       "      <td>17.63</td>\n",
       "      <td>54.0</td>\n",
       "      <td>1</td>\n",
       "    </tr>\n",
       "    <tr>\n",
       "      <th>4</th>\n",
       "      <td>005500a7188546ff8a767329a2f7c76a</td>\n",
       "      <td>offer received</td>\n",
       "      <td>0</td>\n",
       "      <td>M</td>\n",
       "      <td>56</td>\n",
       "      <td>20171209</td>\n",
       "      <td>47000.0</td>\n",
       "      <td>ae264e3637204a6fb9bb56bc8210ddfd</td>\n",
       "      <td>10.0</td>\n",
       "      <td>['email', 'mobile', 'social']</td>\n",
       "      <td>10.0</td>\n",
       "      <td>168.0</td>\n",
       "      <td>bogo</td>\n",
       "      <td>0.0</td>\n",
       "      <td>NaN</td>\n",
       "      <td>NaN</td>\n",
       "      <td>0</td>\n",
       "    </tr>\n",
       "    <tr>\n",
       "      <th>5</th>\n",
       "      <td>0056df74b63b4298809f0b375a304cf4</td>\n",
       "      <td>offer received</td>\n",
       "      <td>0</td>\n",
       "      <td>M</td>\n",
       "      <td>54</td>\n",
       "      <td>20160821</td>\n",
       "      <td>91000.0</td>\n",
       "      <td>9b98b8c7a33c4b65b9aebfe6a799e6d9</td>\n",
       "      <td>5.0</td>\n",
       "      <td>['web', 'email', 'mobile']</td>\n",
       "      <td>5.0</td>\n",
       "      <td>168.0</td>\n",
       "      <td>bogo</td>\n",
       "      <td>0.0</td>\n",
       "      <td>27.86</td>\n",
       "      <td>132.0</td>\n",
       "      <td>1</td>\n",
       "    </tr>\n",
       "    <tr>\n",
       "      <th>6</th>\n",
       "      <td>00715b6e55c3431cb56ff7307eb19675</td>\n",
       "      <td>offer received</td>\n",
       "      <td>0</td>\n",
       "      <td>F</td>\n",
       "      <td>58</td>\n",
       "      <td>20171207</td>\n",
       "      <td>119000.0</td>\n",
       "      <td>ae264e3637204a6fb9bb56bc8210ddfd</td>\n",
       "      <td>10.0</td>\n",
       "      <td>['email', 'mobile', 'social']</td>\n",
       "      <td>10.0</td>\n",
       "      <td>168.0</td>\n",
       "      <td>bogo</td>\n",
       "      <td>0.0</td>\n",
       "      <td>27.26</td>\n",
       "      <td>12.0</td>\n",
       "      <td>1</td>\n",
       "    </tr>\n",
       "    <tr>\n",
       "      <th>8</th>\n",
       "      <td>00840a2ca5d2408e982d56544dc14ffd</td>\n",
       "      <td>offer received</td>\n",
       "      <td>0</td>\n",
       "      <td>M</td>\n",
       "      <td>26</td>\n",
       "      <td>20141221</td>\n",
       "      <td>61000.0</td>\n",
       "      <td>2906b810c7d4411798c6938adc9daaa5</td>\n",
       "      <td>2.0</td>\n",
       "      <td>['web', 'email', 'mobile']</td>\n",
       "      <td>10.0</td>\n",
       "      <td>168.0</td>\n",
       "      <td>discount</td>\n",
       "      <td>0.0</td>\n",
       "      <td>6.05</td>\n",
       "      <td>540.0</td>\n",
       "      <td>1</td>\n",
       "    </tr>\n",
       "  </tbody>\n",
       "</table>\n",
       "</div>"
      ],
      "text/plain": [
       "                                uid           event  time gender  age  \\\n",
       "1  0020c2b971eb4e9188eac86d93036a77  offer received     0      F   59   \n",
       "4  005500a7188546ff8a767329a2f7c76a  offer received     0      M   56   \n",
       "5  0056df74b63b4298809f0b375a304cf4  offer received     0      M   54   \n",
       "6  00715b6e55c3431cb56ff7307eb19675  offer received     0      F   58   \n",
       "8  00840a2ca5d2408e982d56544dc14ffd  offer received     0      M   26   \n",
       "\n",
       "   register_date    income                          offer_id  offer_reward  \\\n",
       "1       20160304   90000.0  fafdcd668e3743c1bb461111dcafc2a4           2.0   \n",
       "4       20171209   47000.0  ae264e3637204a6fb9bb56bc8210ddfd          10.0   \n",
       "5       20160821   91000.0  9b98b8c7a33c4b65b9aebfe6a799e6d9           5.0   \n",
       "6       20171207  119000.0  ae264e3637204a6fb9bb56bc8210ddfd          10.0   \n",
       "8       20141221   61000.0  2906b810c7d4411798c6938adc9daaa5           2.0   \n",
       "\n",
       "                               channels  difficulty  duration offer_type  \\\n",
       "1  ['web', 'email', 'mobile', 'social']        10.0     240.0   discount   \n",
       "4         ['email', 'mobile', 'social']        10.0     168.0       bogo   \n",
       "5            ['web', 'email', 'mobile']         5.0     168.0       bogo   \n",
       "6         ['email', 'mobile', 'social']        10.0     168.0       bogo   \n",
       "8            ['web', 'email', 'mobile']        10.0     168.0   discount   \n",
       "\n",
       "   offer_time  transaction_amount  redeem_time  redeemed  \n",
       "1         0.0               17.63         54.0         1  \n",
       "4         0.0                 NaN          NaN         0  \n",
       "5         0.0               27.86        132.0         1  \n",
       "6         0.0               27.26         12.0         1  \n",
       "8         0.0                6.05        540.0         1  "
      ]
     },
     "execution_count": 32,
     "metadata": {},
     "output_type": "execute_result"
    }
   ],
   "source": [
    "# preview first 5 rows to get a sense of the contents of the dataframe\n",
    "# note that each observation represents an offer received by a customer\n",
    "sb_df.head(5)"
   ]
  },
  {
   "cell_type": "code",
   "execution_count": null,
   "metadata": {
    "id": "SgSm9c_16egs"
   },
   "outputs": [],
   "source": []
  },
  {
   "cell_type": "code",
   "execution_count": 85,
   "metadata": {
    "id": "iC8EEC4kJS6L"
   },
   "outputs": [
    {
     "name": "stdout",
     "output_type": "stream",
     "text": [
      "[1 1 1 ... 1 0 1]\n",
      "0.6066856562878564\n"
     ]
    }
   ],
   "source": [
    "import numpy\n",
    "# select the redemed column for discount offers, name this data the variable disc\n",
    "new_df = sb_df.loc[sb_df['offer_type'] == 'discount']\n",
    "pre_disc = new_df['redeemed'].tolist()\n",
    "disc = numpy.array(pre_disc)\n",
    "disc_mean = disc.mean()\n",
    "print(disc)\n",
    "print(disc_mean)"
   ]
  },
  {
   "cell_type": "code",
   "execution_count": 86,
   "metadata": {
    "id": "pGo0BwRTKYRb"
   },
   "outputs": [
    {
     "name": "stdout",
     "output_type": "stream",
     "text": [
      "[0 1 1 ... 1 0 1]\n",
      "0.5375586084789665\n"
     ]
    }
   ],
   "source": [
    "# select the redemed column for buy one get one (bogo) offers, name this data the variable bogo\n",
    "new_df = sb_df.loc[sb_df['offer_type'] == 'bogo']\n",
    "pre_bogo = new_df['redeemed'].tolist()\n",
    "bogo = numpy.array(pre_bogo)\n",
    "bogo_mean = bogo.mean()\n",
    "print(bogo)\n",
    "print(bogo_mean)"
   ]
  },
  {
   "cell_type": "code",
   "execution_count": 61,
   "metadata": {
    "id": "WpAY07u7Kbez"
   },
   "outputs": [
    {
     "data": {
      "text/plain": [
       "Ttest_indResult(statistic=17.30160421286854, pvalue=6.611390792545181e-67)"
      ]
     },
     "execution_count": 61,
     "metadata": {},
     "output_type": "execute_result"
    }
   ],
   "source": [
    "# use stats.ttest_ind to test whether the 2 types of offers yield different redemption rates\n",
    "stats.ttest_ind(disc, bogo)\n"
   ]
  },
  {
   "cell_type": "code",
   "execution_count": 77,
   "metadata": {
    "id": "vdcPjmahLwPn"
   },
   "outputs": [
    {
     "data": {
      "text/plain": [
       "array([ 91000., 119000.,  81000., ...,  93000.,  73000.,  34000.])"
      ]
     },
     "execution_count": 77,
     "metadata": {},
     "output_type": "execute_result"
    }
   ],
   "source": [
    "# Select the income column for those who redeemed the BOGO offer, call this the variable bogo_income\n",
    "# note you need to use 3 condtitions for the row selection: one for redeemed, one for bogo offer, and one for income is not missing\n",
    "# FYI: dataframe.somecolumn.notnull() is the Boolean evaluation for whether the somecolumn is not missing data\n",
    "new_df = sb_df.loc[(sb_df['offer_type'] == 'bogo') & (sb_df['redeemed'] >= 1) & (sb_df['income'].notnull() == True)]\n",
    "pre_income = new_df['income']\n",
    "income_bogo = numpy.array(pre_income)\n",
    "income_bogo"
   ]
  },
  {
   "cell_type": "code",
   "execution_count": 78,
   "metadata": {
    "id": "9giiAZ1P6El-"
   },
   "outputs": [
    {
     "data": {
      "text/plain": [
       "array([90000., 61000., 66000., ..., 32000., 47000., 62000.])"
      ]
     },
     "execution_count": 78,
     "metadata": {},
     "output_type": "execute_result"
    }
   ],
   "source": [
    "# Select the income column for those who redeemed the discount offer, call this the variable disc_income\n",
    "# note you need to use 3 condtitions for the row selection: one for redeemed, one for discount offer,  and one for income is not missing\n",
    "# FYI: dataframe.somecolumn.notnull() is the Boolean evaluation for whether the somecolumn is not missing data\n",
    "new_df = sb_df.loc[(sb_df['offer_type'] == 'discount') & (sb_df['redeemed'] >= 1) & (sb_df['income'].notnull() == True)]\n",
    "pre_income = new_df['income']\n",
    "income_discount = numpy.array(pre_income)\n",
    "income_discount\n"
   ]
  },
  {
   "cell_type": "code",
   "execution_count": 79,
   "metadata": {
    "id": "vt9kRYVh7J2N"
   },
   "outputs": [
    {
     "data": {
      "text/plain": [
       "70114.8559593297"
      ]
     },
     "execution_count": 79,
     "metadata": {},
     "output_type": "execute_result"
    }
   ],
   "source": [
    "# What is the average income for bogo redeemers (bogo_income.mean())?\n",
    "bogo_mean = income_bogo.mean()\n",
    "bogo_mean\n"
   ]
  },
  {
   "cell_type": "code",
   "execution_count": 80,
   "metadata": {
    "id": "GvoIFMFr7Ow1"
   },
   "outputs": [
    {
     "data": {
      "text/plain": [
       "68617.39130434782"
      ]
     },
     "execution_count": 80,
     "metadata": {},
     "output_type": "execute_result"
    }
   ],
   "source": [
    "# What is the average income for discount redeemers?\n",
    "discount_mean = income_discount.mean()\n",
    "discount_mean\n"
   ]
  },
  {
   "cell_type": "code",
   "execution_count": 83,
   "metadata": {
    "id": "zV-OOhTT6RY8"
   },
   "outputs": [
    {
     "data": {
      "text/plain": [
       "Ttest_indResult(statistic=6.343377852366808, pvalue=2.2763463492984577e-10)"
      ]
     },
     "execution_count": 83,
     "metadata": {},
     "output_type": "execute_result"
    }
   ],
   "source": [
    "# use stats.ttest_ind to test whether the average income of the redeemers of the 2 offer types are different\n",
    "\n",
    "stats.ttest_ind(income_bogo, income_discount)"
   ]
  },
  {
   "cell_type": "markdown",
   "metadata": {
    "id": "bhAXZ0kO6a5B"
   },
   "source": [
    "**Edit this cell**\n",
    "1. (Write a sentence to describe the relative redemption rates of the 2 offer types based on the result of the t-test).\n",
    "**Because the p value is less than .05 suggests that there is a statistically significant difference between the mean redemption rate for bogo offers and mean redemption rate for discount offers, with the mean redemption rate for discount offers being greater than the mean redemption rate for bogo offers.**\n",
    "1. (Write a sentence to describe the relative incomes of the redeemers of the 2 offer types based on the result of the t-test).\n",
    "**Because the p value is less than .05 suggests that there is a statistically significant difference between the means and that the average income of the people from the bogo offers is in fact greater than average income for the individuals from the discount offers.**"
   ]
  },
  {
   "cell_type": "code",
   "execution_count": null,
   "metadata": {},
   "outputs": [],
   "source": []
  }
 ],
 "metadata": {
  "colab": {
   "collapsed_sections": [],
   "name": "A5 F2021 Stats Review.ipynb",
   "provenance": []
  },
  "kernelspec": {
   "display_name": "Python 3",
   "language": "python",
   "name": "python3"
  },
  "language_info": {
   "codemirror_mode": {
    "name": "ipython",
    "version": 3
   },
   "file_extension": ".py",
   "mimetype": "text/x-python",
   "name": "python",
   "nbconvert_exporter": "python",
   "pygments_lexer": "ipython3",
   "version": "3.6.6"
  }
 },
 "nbformat": 4,
 "nbformat_minor": 1
}
