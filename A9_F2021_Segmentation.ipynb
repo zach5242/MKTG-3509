{
 "cells": [
  {
   "cell_type": "markdown",
   "metadata": {
    "id": "v8tuBEKOxdJH"
   },
   "source": [
    "# A9 Customer Segmentation\n",
    "\n",
    "**Rationale** The idea for this assignment is to give you hands on experience in applying behavioral segmentation techniques to real world data where the variables you use for segmentation are not already created for you (you must define them first). Thus you must first do \"feature engineering\" before you can do segmentation. Don't worry, this problem is broken down into components.\n",
    "\n",
    "The dataset we use is [retail invoice](https://drive.google.com/drive/folders/1IUq9xm_0jWEs41iFp8TSWpb0CbPiT87m?usp=sharing). Each invoice is one purchase occassion, and for each invoice we have several observations representing the unique items (stockcode) purchased on that occassion.\n",
    "\n",
    "The goal of the first part is to create useful features about each consumer's observed behaviors, i.e. go from transaction level to customer level data. The goal of the second part is to then do behavioral segmentation based on these newly constructed features. "
   ]
  },
  {
   "cell_type": "markdown",
   "metadata": {
    "id": "B3dWWTS5s0CG"
   },
   "source": [
    "# Part 1 Feature Engineering (5 points)\n",
    "\n",
    "Generally, feature engineering is where your marketing domain knowledge comes into play. In other words, your intuitions about what matters in terms of separating consumers into different groups should drive what features (aka variables/columns) to create. However, in this assignment, you are expected to compute the characteristics detailed in the following instructions.\n"
   ]
  },
  {
   "cell_type": "markdown",
   "metadata": {
    "id": "kuRzBzBmtCeN"
   },
   "source": [
    "Read in the data, preview it, and familiarize yourself with the contents of the data."
   ]
  },
  {
   "cell_type": "code",
   "execution_count": 2,
   "metadata": {
    "colab": {
     "base_uri": "https://localhost:8080/"
    },
    "id": "tGm3SB4BtEGQ",
    "outputId": "936b715c-f175-4b48-80ff-e0554984bf73"
   },
   "outputs": [],
   "source": [
    "import pandas as pd, numpy as np, os, matplotlib.pyplot as plt\n",
    "##from google.colab import drive\n",
    "from sklearn.decomposition import PCA\n",
    "from sklearn.cluster import KMeans\n",
    "##drive.mount('drive', force_remount=True)"
   ]
  },
  {
   "cell_type": "code",
   "execution_count": 3,
   "metadata": {
    "colab": {
     "base_uri": "https://localhost:8080/"
    },
    "id": "A16TwN9btXws",
    "outputId": "fb7b0bf3-5f85-44d5-f297-3d2cee603586"
   },
   "outputs": [
    {
     "data": {
      "text/plain": [
       "['online_invoices.xlsx',\n",
       " 'online_invoices.csv',\n",
       " 'Notes_15_Segmentation.ipynb',\n",
       " 'A9_F2021_Segmentation.ipynb',\n",
       " '.ipynb_checkpoints']"
      ]
     },
     "execution_count": 3,
     "metadata": {},
     "output_type": "execute_result"
    }
   ],
   "source": [
    "fpath = '.' # change the path here\n",
    "os.listdir(fpath)"
   ]
  },
  {
   "cell_type": "code",
   "execution_count": 4,
   "metadata": {
    "id": "-lVcVTC9tgmm"
   },
   "outputs": [],
   "source": [
    "# Read in the data (csv file)\n",
    "df = pd.read_csv('online_invoices.csv', index_col = 0)"
   ]
  },
  {
   "cell_type": "code",
   "execution_count": 5,
   "metadata": {
    "id": "VKsPGGcLtn_w"
   },
   "outputs": [
    {
     "data": {
      "text/html": [
       "<div>\n",
       "<style scoped>\n",
       "    .dataframe tbody tr th:only-of-type {\n",
       "        vertical-align: middle;\n",
       "    }\n",
       "\n",
       "    .dataframe tbody tr th {\n",
       "        vertical-align: top;\n",
       "    }\n",
       "\n",
       "    .dataframe thead th {\n",
       "        text-align: right;\n",
       "    }\n",
       "</style>\n",
       "<table border=\"1\" class=\"dataframe\">\n",
       "  <thead>\n",
       "    <tr style=\"text-align: right;\">\n",
       "      <th></th>\n",
       "      <th>InvoiceNo</th>\n",
       "      <th>StockCode</th>\n",
       "      <th>Description</th>\n",
       "      <th>Quantity</th>\n",
       "      <th>InvoiceDate</th>\n",
       "      <th>UnitPrice</th>\n",
       "      <th>CustomerID</th>\n",
       "      <th>Country</th>\n",
       "    </tr>\n",
       "  </thead>\n",
       "  <tbody>\n",
       "    <tr>\n",
       "      <th>0</th>\n",
       "      <td>536365</td>\n",
       "      <td>85123A</td>\n",
       "      <td>WHITE HANGING HEART T-LIGHT HOLDER</td>\n",
       "      <td>6</td>\n",
       "      <td>12/1/2010 8:26</td>\n",
       "      <td>2.55</td>\n",
       "      <td>17850.0</td>\n",
       "      <td>United Kingdom</td>\n",
       "    </tr>\n",
       "    <tr>\n",
       "      <th>1</th>\n",
       "      <td>536365</td>\n",
       "      <td>71053</td>\n",
       "      <td>WHITE METAL LANTERN</td>\n",
       "      <td>6</td>\n",
       "      <td>12/1/2010 8:26</td>\n",
       "      <td>3.39</td>\n",
       "      <td>17850.0</td>\n",
       "      <td>United Kingdom</td>\n",
       "    </tr>\n",
       "    <tr>\n",
       "      <th>2</th>\n",
       "      <td>536365</td>\n",
       "      <td>84406B</td>\n",
       "      <td>CREAM CUPID HEARTS COAT HANGER</td>\n",
       "      <td>8</td>\n",
       "      <td>12/1/2010 8:26</td>\n",
       "      <td>2.75</td>\n",
       "      <td>17850.0</td>\n",
       "      <td>United Kingdom</td>\n",
       "    </tr>\n",
       "    <tr>\n",
       "      <th>3</th>\n",
       "      <td>536365</td>\n",
       "      <td>84029G</td>\n",
       "      <td>KNITTED UNION FLAG HOT WATER BOTTLE</td>\n",
       "      <td>6</td>\n",
       "      <td>12/1/2010 8:26</td>\n",
       "      <td>3.39</td>\n",
       "      <td>17850.0</td>\n",
       "      <td>United Kingdom</td>\n",
       "    </tr>\n",
       "    <tr>\n",
       "      <th>4</th>\n",
       "      <td>536365</td>\n",
       "      <td>84029E</td>\n",
       "      <td>RED WOOLLY HOTTIE WHITE HEART.</td>\n",
       "      <td>6</td>\n",
       "      <td>12/1/2010 8:26</td>\n",
       "      <td>3.39</td>\n",
       "      <td>17850.0</td>\n",
       "      <td>United Kingdom</td>\n",
       "    </tr>\n",
       "  </tbody>\n",
       "</table>\n",
       "</div>"
      ],
      "text/plain": [
       "   InvoiceNo StockCode                          Description  Quantity  \\\n",
       "0     536365    85123A   WHITE HANGING HEART T-LIGHT HOLDER         6   \n",
       "1     536365     71053                  WHITE METAL LANTERN         6   \n",
       "2     536365    84406B       CREAM CUPID HEARTS COAT HANGER         8   \n",
       "3     536365    84029G  KNITTED UNION FLAG HOT WATER BOTTLE         6   \n",
       "4     536365    84029E       RED WOOLLY HOTTIE WHITE HEART.         6   \n",
       "\n",
       "      InvoiceDate  UnitPrice  CustomerID         Country  \n",
       "0  12/1/2010 8:26       2.55     17850.0  United Kingdom  \n",
       "1  12/1/2010 8:26       3.39     17850.0  United Kingdom  \n",
       "2  12/1/2010 8:26       2.75     17850.0  United Kingdom  \n",
       "3  12/1/2010 8:26       3.39     17850.0  United Kingdom  \n",
       "4  12/1/2010 8:26       3.39     17850.0  United Kingdom  "
      ]
     },
     "execution_count": 5,
     "metadata": {},
     "output_type": "execute_result"
    }
   ],
   "source": [
    "# Preview the data\n",
    "df.head(5)"
   ]
  },
  {
   "cell_type": "markdown",
   "metadata": {
    "id": "Ui2NVHT2t6Vu"
   },
   "source": [
    "**Answer questions here**\n",
    "\n",
    "What does each row represent?  **C**  (pick one)\n",
    "\n",
    "A. 1 invoice (1 point of sale transaction) \\\\\n",
    "B. A single item sold \\\\\n",
    "C. Each unique item sold in a transaction \\\\\n",
    "D. Daily sales \\\\\n",
    "E. 1 customer's total purchases on each day\n"
   ]
  },
  {
   "cell_type": "markdown",
   "metadata": {
    "id": "Oxk5psRYtTmq"
   },
   "source": [
    "\n",
    "## Unique count variables\n",
    "\n",
    "Create a dataframe, `df_u` that represents each consumer's total number of transactions and unique products purchased.\n",
    "\n",
    "Hint: use a `groupby` + `.nunique()` statement. `df.groupby('id')[['var1', 'var2',....]].nunique().reset_index()` will compute the number of unique values of columns 'var1', 'var2',.... for each \"id\". You should calculate the number of unique `StockCode`'s (like SKU's) and `InvoicesNo`'s for each `CustomerID`. Change your column names in the resulting dataframe, `df_u`, to `['CustomerID', 'NTrans', 'NProducts']`.\n",
    "\n"
   ]
  },
  {
   "cell_type": "code",
   "execution_count": 6,
   "metadata": {
    "id": "iBChy9Wit6YH"
   },
   "outputs": [
    {
     "data": {
      "text/html": [
       "<div>\n",
       "<style scoped>\n",
       "    .dataframe tbody tr th:only-of-type {\n",
       "        vertical-align: middle;\n",
       "    }\n",
       "\n",
       "    .dataframe tbody tr th {\n",
       "        vertical-align: top;\n",
       "    }\n",
       "\n",
       "    .dataframe thead th {\n",
       "        text-align: right;\n",
       "    }\n",
       "</style>\n",
       "<table border=\"1\" class=\"dataframe\">\n",
       "  <thead>\n",
       "    <tr style=\"text-align: right;\">\n",
       "      <th></th>\n",
       "      <th>CustomerID</th>\n",
       "      <th>StockCode</th>\n",
       "      <th>InvoiceNo</th>\n",
       "    </tr>\n",
       "  </thead>\n",
       "  <tbody>\n",
       "    <tr>\n",
       "      <th>0</th>\n",
       "      <td>12346.0</td>\n",
       "      <td>1</td>\n",
       "      <td>1</td>\n",
       "    </tr>\n",
       "    <tr>\n",
       "      <th>1</th>\n",
       "      <td>12347.0</td>\n",
       "      <td>103</td>\n",
       "      <td>7</td>\n",
       "    </tr>\n",
       "    <tr>\n",
       "      <th>2</th>\n",
       "      <td>12348.0</td>\n",
       "      <td>21</td>\n",
       "      <td>4</td>\n",
       "    </tr>\n",
       "    <tr>\n",
       "      <th>3</th>\n",
       "      <td>12349.0</td>\n",
       "      <td>72</td>\n",
       "      <td>1</td>\n",
       "    </tr>\n",
       "    <tr>\n",
       "      <th>4</th>\n",
       "      <td>12350.0</td>\n",
       "      <td>16</td>\n",
       "      <td>1</td>\n",
       "    </tr>\n",
       "  </tbody>\n",
       "</table>\n",
       "</div>"
      ],
      "text/plain": [
       "   CustomerID  StockCode  InvoiceNo\n",
       "0     12346.0          1          1\n",
       "1     12347.0        103          7\n",
       "2     12348.0         21          4\n",
       "3     12349.0         72          1\n",
       "4     12350.0         16          1"
      ]
     },
     "execution_count": 6,
     "metadata": {},
     "output_type": "execute_result"
    }
   ],
   "source": [
    "# use a groupby operation with the nunique summary function to calculate the number of unique\n",
    "# transactions and product SKU's for each item\n",
    "# call the resulting dataframe df_u\n",
    "df_u = df.groupby('CustomerID')[['StockCode', 'InvoiceNo']].nunique().reset_index() \n",
    "df_u.head(5)"
   ]
  },
  {
   "cell_type": "code",
   "execution_count": 7,
   "metadata": {
    "id": "lU8oH59PC_n6"
   },
   "outputs": [],
   "source": [
    "# rename the columns for unique transactions and products purchased to:\n",
    "# NTrans and NProducts, respectively\n",
    "# Remember, you can either use the syntax dataframe.columns = ['col1', 'col2',....] <- set all the column names using list of strings for each column\n",
    "# or you can use dataframe.rename(columns = {'oldcolname':'newcolname', 'oldcolname2':'newcolname2', ....}, inplace = True) <- rename only the ones that should be renamed\n",
    "df_u.columns = ['CustomerID', 'NProducts', 'NTrans']\n",
    "\n"
   ]
  },
  {
   "cell_type": "code",
   "execution_count": 8,
   "metadata": {
    "id": "GyMvxP5qMTk-"
   },
   "outputs": [
    {
     "data": {
      "text/html": [
       "<div>\n",
       "<style scoped>\n",
       "    .dataframe tbody tr th:only-of-type {\n",
       "        vertical-align: middle;\n",
       "    }\n",
       "\n",
       "    .dataframe tbody tr th {\n",
       "        vertical-align: top;\n",
       "    }\n",
       "\n",
       "    .dataframe thead th {\n",
       "        text-align: right;\n",
       "    }\n",
       "</style>\n",
       "<table border=\"1\" class=\"dataframe\">\n",
       "  <thead>\n",
       "    <tr style=\"text-align: right;\">\n",
       "      <th></th>\n",
       "      <th>CustomerID</th>\n",
       "      <th>NProducts</th>\n",
       "      <th>NTrans</th>\n",
       "    </tr>\n",
       "  </thead>\n",
       "  <tbody>\n",
       "    <tr>\n",
       "      <th>0</th>\n",
       "      <td>12346.0</td>\n",
       "      <td>1</td>\n",
       "      <td>1</td>\n",
       "    </tr>\n",
       "    <tr>\n",
       "      <th>1</th>\n",
       "      <td>12347.0</td>\n",
       "      <td>103</td>\n",
       "      <td>7</td>\n",
       "    </tr>\n",
       "    <tr>\n",
       "      <th>2</th>\n",
       "      <td>12348.0</td>\n",
       "      <td>21</td>\n",
       "      <td>4</td>\n",
       "    </tr>\n",
       "    <tr>\n",
       "      <th>3</th>\n",
       "      <td>12349.0</td>\n",
       "      <td>72</td>\n",
       "      <td>1</td>\n",
       "    </tr>\n",
       "    <tr>\n",
       "      <th>4</th>\n",
       "      <td>12350.0</td>\n",
       "      <td>16</td>\n",
       "      <td>1</td>\n",
       "    </tr>\n",
       "  </tbody>\n",
       "</table>\n",
       "</div>"
      ],
      "text/plain": [
       "   CustomerID  NProducts  NTrans\n",
       "0     12346.0          1       1\n",
       "1     12347.0        103       7\n",
       "2     12348.0         21       4\n",
       "3     12349.0         72       1\n",
       "4     12350.0         16       1"
      ]
     },
     "execution_count": 8,
     "metadata": {},
     "output_type": "execute_result"
    }
   ],
   "source": [
    "# take a look at the first 5 rows of resulting dataframe, make sure contents are what you expect\n",
    "df_u.head(5)\n"
   ]
  },
  {
   "cell_type": "markdown",
   "metadata": {
    "id": "YLPqoJNPJCNE"
   },
   "source": [
    "\n",
    "## Customer spend\n",
    "\n",
    "Compute the total customer spending and number of units purchased for each customer of this retailer. \n",
    "\n",
    "Hint\n",
    "1. Create a column for `TotalSpend` (unit price x quantity)\n",
    "1. Use a (groupby + sum) to create a dataframe `df_s` that contains each customer's sum of `TotalSpend` and `Quantity`\n",
    "1. rename the quantity column to `TotalUnits`\n"
   ]
  },
  {
   "cell_type": "code",
   "execution_count": 9,
   "metadata": {
    "id": "edY2KenyJGp4"
   },
   "outputs": [
    {
     "data": {
      "text/html": [
       "<div>\n",
       "<style scoped>\n",
       "    .dataframe tbody tr th:only-of-type {\n",
       "        vertical-align: middle;\n",
       "    }\n",
       "\n",
       "    .dataframe tbody tr th {\n",
       "        vertical-align: top;\n",
       "    }\n",
       "\n",
       "    .dataframe thead th {\n",
       "        text-align: right;\n",
       "    }\n",
       "</style>\n",
       "<table border=\"1\" class=\"dataframe\">\n",
       "  <thead>\n",
       "    <tr style=\"text-align: right;\">\n",
       "      <th></th>\n",
       "      <th>InvoiceNo</th>\n",
       "      <th>StockCode</th>\n",
       "      <th>Description</th>\n",
       "      <th>Quantity</th>\n",
       "      <th>InvoiceDate</th>\n",
       "      <th>UnitPrice</th>\n",
       "      <th>CustomerID</th>\n",
       "      <th>Country</th>\n",
       "      <th>TotalSpend</th>\n",
       "    </tr>\n",
       "  </thead>\n",
       "  <tbody>\n",
       "    <tr>\n",
       "      <th>0</th>\n",
       "      <td>536365</td>\n",
       "      <td>85123A</td>\n",
       "      <td>WHITE HANGING HEART T-LIGHT HOLDER</td>\n",
       "      <td>6</td>\n",
       "      <td>12/1/2010 8:26</td>\n",
       "      <td>2.55</td>\n",
       "      <td>17850.0</td>\n",
       "      <td>United Kingdom</td>\n",
       "      <td>15.30</td>\n",
       "    </tr>\n",
       "    <tr>\n",
       "      <th>1</th>\n",
       "      <td>536365</td>\n",
       "      <td>71053</td>\n",
       "      <td>WHITE METAL LANTERN</td>\n",
       "      <td>6</td>\n",
       "      <td>12/1/2010 8:26</td>\n",
       "      <td>3.39</td>\n",
       "      <td>17850.0</td>\n",
       "      <td>United Kingdom</td>\n",
       "      <td>20.34</td>\n",
       "    </tr>\n",
       "    <tr>\n",
       "      <th>2</th>\n",
       "      <td>536365</td>\n",
       "      <td>84406B</td>\n",
       "      <td>CREAM CUPID HEARTS COAT HANGER</td>\n",
       "      <td>8</td>\n",
       "      <td>12/1/2010 8:26</td>\n",
       "      <td>2.75</td>\n",
       "      <td>17850.0</td>\n",
       "      <td>United Kingdom</td>\n",
       "      <td>22.00</td>\n",
       "    </tr>\n",
       "    <tr>\n",
       "      <th>3</th>\n",
       "      <td>536365</td>\n",
       "      <td>84029G</td>\n",
       "      <td>KNITTED UNION FLAG HOT WATER BOTTLE</td>\n",
       "      <td>6</td>\n",
       "      <td>12/1/2010 8:26</td>\n",
       "      <td>3.39</td>\n",
       "      <td>17850.0</td>\n",
       "      <td>United Kingdom</td>\n",
       "      <td>20.34</td>\n",
       "    </tr>\n",
       "    <tr>\n",
       "      <th>4</th>\n",
       "      <td>536365</td>\n",
       "      <td>84029E</td>\n",
       "      <td>RED WOOLLY HOTTIE WHITE HEART.</td>\n",
       "      <td>6</td>\n",
       "      <td>12/1/2010 8:26</td>\n",
       "      <td>3.39</td>\n",
       "      <td>17850.0</td>\n",
       "      <td>United Kingdom</td>\n",
       "      <td>20.34</td>\n",
       "    </tr>\n",
       "  </tbody>\n",
       "</table>\n",
       "</div>"
      ],
      "text/plain": [
       "   InvoiceNo StockCode                          Description  Quantity  \\\n",
       "0     536365    85123A   WHITE HANGING HEART T-LIGHT HOLDER         6   \n",
       "1     536365     71053                  WHITE METAL LANTERN         6   \n",
       "2     536365    84406B       CREAM CUPID HEARTS COAT HANGER         8   \n",
       "3     536365    84029G  KNITTED UNION FLAG HOT WATER BOTTLE         6   \n",
       "4     536365    84029E       RED WOOLLY HOTTIE WHITE HEART.         6   \n",
       "\n",
       "      InvoiceDate  UnitPrice  CustomerID         Country  TotalSpend  \n",
       "0  12/1/2010 8:26       2.55     17850.0  United Kingdom       15.30  \n",
       "1  12/1/2010 8:26       3.39     17850.0  United Kingdom       20.34  \n",
       "2  12/1/2010 8:26       2.75     17850.0  United Kingdom       22.00  \n",
       "3  12/1/2010 8:26       3.39     17850.0  United Kingdom       20.34  \n",
       "4  12/1/2010 8:26       3.39     17850.0  United Kingdom       20.34  "
      ]
     },
     "execution_count": 9,
     "metadata": {},
     "output_type": "execute_result"
    }
   ],
   "source": [
    "# create total spend column\n",
    "df['TotalSpend'] = df['Quantity'] * df['UnitPrice']\n",
    "df.head(5)"
   ]
  },
  {
   "cell_type": "code",
   "execution_count": 10,
   "metadata": {
    "id": "wLl_CD_0MFHZ"
   },
   "outputs": [],
   "source": [
    "# create dataframe, df_s, that contains the total spend for each customer using groupby statement\n",
    "# remember to reset_index\n",
    "df_s = df.groupby('CustomerID')[['TotalSpend', 'Quantity']].sum().reset_index() \n"
   ]
  },
  {
   "cell_type": "code",
   "execution_count": 11,
   "metadata": {
    "id": "oKLd7Pc0PVso"
   },
   "outputs": [],
   "source": [
    "# rename columns so that resulting dataframe has columns: CustomerID, TotalSpend, and TotalUnits\n",
    "df_s.columns = ['CustomerID', 'TotalSpend', 'TotalUnits']\n"
   ]
  },
  {
   "cell_type": "code",
   "execution_count": 12,
   "metadata": {
    "id": "mW2xFRfCMabu"
   },
   "outputs": [
    {
     "data": {
      "text/html": [
       "<div>\n",
       "<style scoped>\n",
       "    .dataframe tbody tr th:only-of-type {\n",
       "        vertical-align: middle;\n",
       "    }\n",
       "\n",
       "    .dataframe tbody tr th {\n",
       "        vertical-align: top;\n",
       "    }\n",
       "\n",
       "    .dataframe thead th {\n",
       "        text-align: right;\n",
       "    }\n",
       "</style>\n",
       "<table border=\"1\" class=\"dataframe\">\n",
       "  <thead>\n",
       "    <tr style=\"text-align: right;\">\n",
       "      <th></th>\n",
       "      <th>CustomerID</th>\n",
       "      <th>TotalSpend</th>\n",
       "      <th>TotalUnits</th>\n",
       "    </tr>\n",
       "  </thead>\n",
       "  <tbody>\n",
       "    <tr>\n",
       "      <th>0</th>\n",
       "      <td>12346.0</td>\n",
       "      <td>77183.60</td>\n",
       "      <td>74215</td>\n",
       "    </tr>\n",
       "    <tr>\n",
       "      <th>1</th>\n",
       "      <td>12347.0</td>\n",
       "      <td>4310.00</td>\n",
       "      <td>2458</td>\n",
       "    </tr>\n",
       "    <tr>\n",
       "      <th>2</th>\n",
       "      <td>12348.0</td>\n",
       "      <td>1437.24</td>\n",
       "      <td>2332</td>\n",
       "    </tr>\n",
       "    <tr>\n",
       "      <th>3</th>\n",
       "      <td>12349.0</td>\n",
       "      <td>1457.55</td>\n",
       "      <td>630</td>\n",
       "    </tr>\n",
       "    <tr>\n",
       "      <th>4</th>\n",
       "      <td>12350.0</td>\n",
       "      <td>294.40</td>\n",
       "      <td>196</td>\n",
       "    </tr>\n",
       "  </tbody>\n",
       "</table>\n",
       "</div>"
      ],
      "text/plain": [
       "   CustomerID  TotalSpend  TotalUnits\n",
       "0     12346.0    77183.60       74215\n",
       "1     12347.0     4310.00        2458\n",
       "2     12348.0     1437.24        2332\n",
       "3     12349.0     1457.55         630\n",
       "4     12350.0      294.40         196"
      ]
     },
     "execution_count": 12,
     "metadata": {},
     "output_type": "execute_result"
    }
   ],
   "source": [
    "# take a look at the first 5 rows of resulting dataframe, make sure contents are what you expect\n",
    "df_s.head(5)\n"
   ]
  },
  {
   "cell_type": "markdown",
   "metadata": {
    "id": "8LWkk_qSOrs8"
   },
   "source": [
    "\n",
    "## Compute price of average SKU purchased\n",
    "\n",
    "Compute and create the `AveragePrice` column using the `df_s` dataframe's `TotalUnits` and `TotalSpend`.\n"
   ]
  },
  {
   "cell_type": "code",
   "execution_count": 13,
   "metadata": {
    "id": "KJ2CXoeoPGaA"
   },
   "outputs": [],
   "source": [
    "# create average price column in df_s\n",
    "df_s['AveragePrice'] = df_s['TotalSpend']/df_s['TotalUnits']\n"
   ]
  },
  {
   "cell_type": "code",
   "execution_count": 14,
   "metadata": {
    "id": "d8cqACS8Osz7"
   },
   "outputs": [
    {
     "data": {
      "text/html": [
       "<div>\n",
       "<style scoped>\n",
       "    .dataframe tbody tr th:only-of-type {\n",
       "        vertical-align: middle;\n",
       "    }\n",
       "\n",
       "    .dataframe tbody tr th {\n",
       "        vertical-align: top;\n",
       "    }\n",
       "\n",
       "    .dataframe thead th {\n",
       "        text-align: right;\n",
       "    }\n",
       "</style>\n",
       "<table border=\"1\" class=\"dataframe\">\n",
       "  <thead>\n",
       "    <tr style=\"text-align: right;\">\n",
       "      <th></th>\n",
       "      <th>CustomerID</th>\n",
       "      <th>TotalSpend</th>\n",
       "      <th>TotalUnits</th>\n",
       "      <th>AveragePrice</th>\n",
       "    </tr>\n",
       "  </thead>\n",
       "  <tbody>\n",
       "    <tr>\n",
       "      <th>0</th>\n",
       "      <td>12346.0</td>\n",
       "      <td>77183.60</td>\n",
       "      <td>74215</td>\n",
       "      <td>1.040000</td>\n",
       "    </tr>\n",
       "    <tr>\n",
       "      <th>1</th>\n",
       "      <td>12347.0</td>\n",
       "      <td>4310.00</td>\n",
       "      <td>2458</td>\n",
       "      <td>1.753458</td>\n",
       "    </tr>\n",
       "    <tr>\n",
       "      <th>2</th>\n",
       "      <td>12348.0</td>\n",
       "      <td>1437.24</td>\n",
       "      <td>2332</td>\n",
       "      <td>0.616312</td>\n",
       "    </tr>\n",
       "    <tr>\n",
       "      <th>3</th>\n",
       "      <td>12349.0</td>\n",
       "      <td>1457.55</td>\n",
       "      <td>630</td>\n",
       "      <td>2.313571</td>\n",
       "    </tr>\n",
       "    <tr>\n",
       "      <th>4</th>\n",
       "      <td>12350.0</td>\n",
       "      <td>294.40</td>\n",
       "      <td>196</td>\n",
       "      <td>1.502041</td>\n",
       "    </tr>\n",
       "  </tbody>\n",
       "</table>\n",
       "</div>"
      ],
      "text/plain": [
       "   CustomerID  TotalSpend  TotalUnits  AveragePrice\n",
       "0     12346.0    77183.60       74215      1.040000\n",
       "1     12347.0     4310.00        2458      1.753458\n",
       "2     12348.0     1437.24        2332      0.616312\n",
       "3     12349.0     1457.55         630      2.313571\n",
       "4     12350.0      294.40         196      1.502041"
      ]
     },
     "execution_count": 14,
     "metadata": {},
     "output_type": "execute_result"
    }
   ],
   "source": [
    "# preview df_s to make sure average price is as expected\n",
    "df_s.head(5)\n"
   ]
  },
  {
   "cell_type": "markdown",
   "metadata": {
    "id": "25EWNNZV9Wxj"
   },
   "source": [
    "\n",
    "## Merge `df_u` and `df_s`, call new dataframe df_c (c for \"consumer\")\n",
    "\n",
    "Using the variables in `df_c`, compute the following additional column:\n",
    "1. Spend per transaction (call it \"SpendPerTrans\")\n",
    "\n",
    "In total, you should have `df_c` with columns `['CustomerID', 'NTrans', 'NProducts', 'TotalSpend', 'AveragePrice', 'SpendPerTrans']`\n"
   ]
  },
  {
   "cell_type": "markdown",
   "metadata": {
    "id": "T3ar9ARRWWC6"
   },
   "source": [
    "**Answer this**\n",
    "\n",
    "On what column should you merge `df_s` and `df_u`?\n",
    "\n",
    "* Answer: **Customer ID**"
   ]
  },
  {
   "cell_type": "code",
   "execution_count": 15,
   "metadata": {
    "id": "XsPDlZAsQMSf"
   },
   "outputs": [],
   "source": [
    "# do the merge (review notes from module 3 on merges if necessary)\n",
    "# use an outer merge, call resulting dataframe, df_c\n",
    "df_c = df_s.merge(df_u, how='outer', on='CustomerID')\n",
    "df_c = df_c[['CustomerID', 'NTrans', 'NProducts', 'TotalSpend', 'AveragePrice', 'TotalUnits']].copy()\n",
    "##df_c"
   ]
  },
  {
   "cell_type": "code",
   "execution_count": 16,
   "metadata": {
    "id": "EDIpKkWeHCFd"
   },
   "outputs": [],
   "source": [
    "# create the column 'SpendPerTrans'\n",
    "df_c['SpendPerTrans'] = df_c['TotalSpend'] / df_c['NTrans']\n"
   ]
  },
  {
   "cell_type": "code",
   "execution_count": 17,
   "metadata": {
    "id": "9Mm2LDzNYj_S"
   },
   "outputs": [
    {
     "data": {
      "text/html": [
       "<div>\n",
       "<style scoped>\n",
       "    .dataframe tbody tr th:only-of-type {\n",
       "        vertical-align: middle;\n",
       "    }\n",
       "\n",
       "    .dataframe tbody tr th {\n",
       "        vertical-align: top;\n",
       "    }\n",
       "\n",
       "    .dataframe thead th {\n",
       "        text-align: right;\n",
       "    }\n",
       "</style>\n",
       "<table border=\"1\" class=\"dataframe\">\n",
       "  <thead>\n",
       "    <tr style=\"text-align: right;\">\n",
       "      <th></th>\n",
       "      <th>CustomerID</th>\n",
       "      <th>NTrans</th>\n",
       "      <th>NProducts</th>\n",
       "      <th>TotalSpend</th>\n",
       "      <th>AveragePrice</th>\n",
       "      <th>TotalUnits</th>\n",
       "      <th>SpendPerTrans</th>\n",
       "    </tr>\n",
       "  </thead>\n",
       "  <tbody>\n",
       "    <tr>\n",
       "      <th>0</th>\n",
       "      <td>12346.0</td>\n",
       "      <td>1</td>\n",
       "      <td>1</td>\n",
       "      <td>77183.60</td>\n",
       "      <td>1.040000</td>\n",
       "      <td>74215</td>\n",
       "      <td>77183.600000</td>\n",
       "    </tr>\n",
       "    <tr>\n",
       "      <th>1</th>\n",
       "      <td>12347.0</td>\n",
       "      <td>7</td>\n",
       "      <td>103</td>\n",
       "      <td>4310.00</td>\n",
       "      <td>1.753458</td>\n",
       "      <td>2458</td>\n",
       "      <td>615.714286</td>\n",
       "    </tr>\n",
       "    <tr>\n",
       "      <th>2</th>\n",
       "      <td>12348.0</td>\n",
       "      <td>4</td>\n",
       "      <td>21</td>\n",
       "      <td>1437.24</td>\n",
       "      <td>0.616312</td>\n",
       "      <td>2332</td>\n",
       "      <td>359.310000</td>\n",
       "    </tr>\n",
       "    <tr>\n",
       "      <th>3</th>\n",
       "      <td>12349.0</td>\n",
       "      <td>1</td>\n",
       "      <td>72</td>\n",
       "      <td>1457.55</td>\n",
       "      <td>2.313571</td>\n",
       "      <td>630</td>\n",
       "      <td>1457.550000</td>\n",
       "    </tr>\n",
       "    <tr>\n",
       "      <th>4</th>\n",
       "      <td>12350.0</td>\n",
       "      <td>1</td>\n",
       "      <td>16</td>\n",
       "      <td>294.40</td>\n",
       "      <td>1.502041</td>\n",
       "      <td>196</td>\n",
       "      <td>294.400000</td>\n",
       "    </tr>\n",
       "  </tbody>\n",
       "</table>\n",
       "</div>"
      ],
      "text/plain": [
       "   CustomerID  NTrans  NProducts  TotalSpend  AveragePrice  TotalUnits  \\\n",
       "0     12346.0       1          1    77183.60      1.040000       74215   \n",
       "1     12347.0       7        103     4310.00      1.753458        2458   \n",
       "2     12348.0       4         21     1437.24      0.616312        2332   \n",
       "3     12349.0       1         72     1457.55      2.313571         630   \n",
       "4     12350.0       1         16      294.40      1.502041         196   \n",
       "\n",
       "   SpendPerTrans  \n",
       "0   77183.600000  \n",
       "1     615.714286  \n",
       "2     359.310000  \n",
       "3    1457.550000  \n",
       "4     294.400000  "
      ]
     },
     "execution_count": 17,
     "metadata": {},
     "output_type": "execute_result"
    }
   ],
   "source": [
    "# preview df_c to make sure it looks as expected\n",
    "df_c.head(5)\n"
   ]
  },
  {
   "cell_type": "markdown",
   "metadata": {
    "id": "RRX-X9bugMkL"
   },
   "source": [
    "## Log transformation\n",
    "\n",
    "1. Plot the histogram of all the variables of df_c other than CustomerID\n",
    "1. Replace each of these variables with their respective log transformations\n",
    "1. Plot the histograms again, what's different?"
   ]
  },
  {
   "cell_type": "code",
   "execution_count": 18,
   "metadata": {
    "id": "oJ_R1ic9eGbt"
   },
   "outputs": [
    {
     "data": {
      "text/plain": [
       "array([[<matplotlib.axes._subplots.AxesSubplot object at 0x7f7293fcc810>]],\n",
       "      dtype=object)"
      ]
     },
     "execution_count": 18,
     "metadata": {},
     "output_type": "execute_result"
    },
    {
     "data": {
      "image/png": "[encoded data removed]",
      "text/plain": [
       "<Figure size 432x288 with 1 Axes>"
      ]
     },
     "metadata": {
      "needs_background": "light"
     },
     "output_type": "display_data"
    }
   ],
   "source": [
    "# plot the histogram of NTrans\n",
    "df_c.hist(column='NTrans', bins=30)"
   ]
  },
  {
   "cell_type": "code",
   "execution_count": 19,
   "metadata": {
    "id": "M4LAnzFPePuP"
   },
   "outputs": [
    {
     "data": {
      "text/plain": [
       "array([[<matplotlib.axes._subplots.AxesSubplot object at 0x7f729280bf50>]],\n",
       "      dtype=object)"
      ]
     },
     "execution_count": 19,
     "metadata": {},
     "output_type": "execute_result"
    },
    {
     "data": {
      "image/png": "[encoded data removed]",
      "text/plain": [
       "<Figure size 432x288 with 1 Axes>"
      ]
     },
     "metadata": {
      "needs_background": "light"
     },
     "output_type": "display_data"
    }
   ],
   "source": [
    "# plot the histogram of NProducts\n",
    "df_c.hist(column='NTrans', bins=30)\n"
   ]
  },
  {
   "cell_type": "code",
   "execution_count": 20,
   "metadata": {
    "id": "xP_mjM8xeTTf"
   },
   "outputs": [
    {
     "data": {
      "text/plain": [
       "array([[<matplotlib.axes._subplots.AxesSubplot object at 0x7f728e2da690>]],\n",
       "      dtype=object)"
      ]
     },
     "execution_count": 20,
     "metadata": {},
     "output_type": "execute_result"
    },
    {
     "data": {
      "image/png": "[encoded data removed]",
      "text/plain": [
       "<Figure size 432x288 with 1 Axes>"
      ]
     },
     "metadata": {
      "needs_background": "light"
     },
     "output_type": "display_data"
    }
   ],
   "source": [
    "# plot the histogram of TotalSpend\n",
    "df_c.hist(column='TotalSpend', bins=30)"
   ]
  },
  {
   "cell_type": "code",
   "execution_count": 21,
   "metadata": {
    "id": "CJ4esbsjeYrb"
   },
   "outputs": [
    {
     "data": {
      "text/plain": [
       "array([[<matplotlib.axes._subplots.AxesSubplot object at 0x7f728e33c390>]],\n",
       "      dtype=object)"
      ]
     },
     "execution_count": 21,
     "metadata": {},
     "output_type": "execute_result"
    },
    {
     "data": {
      "image/png": "[encoded data removed]",
      "text/plain": [
       "<Figure size 432x288 with 1 Axes>"
      ]
     },
     "metadata": {
      "needs_background": "light"
     },
     "output_type": "display_data"
    }
   ],
   "source": [
    "# plot the histogram of TotalUnits\n",
    "\n",
    "df_c.hist(column='TotalUnits', bins=30)"
   ]
  },
  {
   "cell_type": "code",
   "execution_count": 22,
   "metadata": {
    "id": "IoIOTd6reJNp"
   },
   "outputs": [
    {
     "data": {
      "text/plain": [
       "array([[<matplotlib.axes._subplots.AxesSubplot object at 0x7f728e1d5b10>]],\n",
       "      dtype=object)"
      ]
     },
     "execution_count": 22,
     "metadata": {},
     "output_type": "execute_result"
    },
    {
     "data": {
      "image/png": "[encoded data removed]",
      "text/plain": [
       "<Figure size 432x288 with 1 Axes>"
      ]
     },
     "metadata": {
      "needs_background": "light"
     },
     "output_type": "display_data"
    }
   ],
   "source": [
    "# plot the histogram of AveragePrice\n",
    "df_c.hist(column='AveragePrice', bins=30)\n"
   ]
  },
  {
   "cell_type": "code",
   "execution_count": 23,
   "metadata": {
    "id": "X0NxCocCH3OO"
   },
   "outputs": [
    {
     "data": {
      "text/plain": [
       "array([[<matplotlib.axes._subplots.AxesSubplot object at 0x7f728e05bf90>]],\n",
       "      dtype=object)"
      ]
     },
     "execution_count": 23,
     "metadata": {},
     "output_type": "execute_result"
    },
    {
     "data": {
      "image/png": "[encoded data removed]",
      "text/plain": [
       "<Figure size 432x288 with 1 Axes>"
      ]
     },
     "metadata": {
      "needs_background": "light"
     },
     "output_type": "display_data"
    }
   ],
   "source": [
    "# plot the histogram of SpendPerTrans\n",
    "df_c.hist(column='SpendPerTrans', bins=30)\n"
   ]
  },
  {
   "cell_type": "code",
   "execution_count": 24,
   "metadata": {
    "id": "Y4952ErQe1Mb"
   },
   "outputs": [],
   "source": [
    "# Write a loop through all variables of df_c other than CustomerID \n",
    "# to replace each column with its log.\n",
    "# You can start the loop using: for c in df_c.columns[1:]:\n",
    "# (since df_c.columns[0] is the CustomerID column).\n",
    "# For some column, c, you can replace the column with its log using:\n",
    "# dataframe[c] = np.log(dataframe[c]) \n",
    "# (of course, use the right variable name for your dataframe)\n",
    "\n",
    "start_columns = ['NTrans', 'NProducts', 'TotalSpend', 'AveragePrice', 'SpendPerTrans', 'TotalUnits']\n",
    "for item in start_columns:\n",
    "    log_name = 'log_' + item\n",
    "    df_c[log_name] = np.log(df_c[item])\n",
    "df_c = df_c.drop(columns = ['NTrans', 'NProducts', 'TotalSpend', 'AveragePrice', 'SpendPerTrans', 'TotalUnits'])"
   ]
  },
  {
   "cell_type": "code",
   "execution_count": 25,
   "metadata": {
    "id": "5zFUPsE3fbeF"
   },
   "outputs": [
    {
     "data": {
      "text/plain": [
       "array([[<matplotlib.axes._subplots.AxesSubplot object at 0x7f728df88950>]],\n",
       "      dtype=object)"
      ]
     },
     "execution_count": 25,
     "metadata": {},
     "output_type": "execute_result"
    },
    {
     "data": {
      "image/png": "[encoded data removed]",
      "text/plain": [
       "<Figure size 432x288 with 1 Axes>"
      ]
     },
     "metadata": {
      "needs_background": "light"
     },
     "output_type": "display_data"
    }
   ],
   "source": [
    "# plot the histogram of NTrans (after taking the log in cell above)\n",
    "\n",
    "df_c.hist(column='log_NTrans', bins=30)"
   ]
  },
  {
   "cell_type": "code",
   "execution_count": 26,
   "metadata": {
    "id": "IYmRVNPIf0DC"
   },
   "outputs": [
    {
     "data": {
      "text/plain": [
       "array([[<matplotlib.axes._subplots.AxesSubplot object at 0x7f728dee0b10>]],\n",
       "      dtype=object)"
      ]
     },
     "execution_count": 26,
     "metadata": {},
     "output_type": "execute_result"
    },
    {
     "data": {
      "image/png": "[encoded data removed]",
      "text/plain": [
       "<Figure size 432x288 with 1 Axes>"
      ]
     },
     "metadata": {
      "needs_background": "light"
     },
     "output_type": "display_data"
    }
   ],
   "source": [
    "# plot the histogram of NProducts \n",
    "\n",
    "df_c.hist(column='log_NProducts', bins=30)"
   ]
  },
  {
   "cell_type": "code",
   "execution_count": 27,
   "metadata": {
    "id": "tE75Sq7if3Np"
   },
   "outputs": [
    {
     "data": {
      "text/plain": [
       "array([[<matplotlib.axes._subplots.AxesSubplot object at 0x7f728dee0f50>]],\n",
       "      dtype=object)"
      ]
     },
     "execution_count": 27,
     "metadata": {},
     "output_type": "execute_result"
    },
    {
     "data": {
      "image/png": "[encoded data removed]",
      "text/plain": [
       "<Figure size 432x288 with 1 Axes>"
      ]
     },
     "metadata": {
      "needs_background": "light"
     },
     "output_type": "display_data"
    }
   ],
   "source": [
    "# plot the histogram of TotalSpend \n",
    "\n",
    "df_c.hist(column='log_TotalSpend', bins=30)"
   ]
  },
  {
   "cell_type": "code",
   "execution_count": 31,
   "metadata": {
    "id": "482290ggf7q5"
   },
   "outputs": [
    {
     "data": {
      "text/plain": [
       "array([[<matplotlib.axes._subplots.AxesSubplot object at 0x7f728db19350>]],\n",
       "      dtype=object)"
      ]
     },
     "execution_count": 31,
     "metadata": {},
     "output_type": "execute_result"
    },
    {
     "data": {
      "image/png": "[encoded data removed]",
      "text/plain": [
       "<Figure size 432x288 with 1 Axes>"
      ]
     },
     "metadata": {
      "needs_background": "light"
     },
     "output_type": "display_data"
    }
   ],
   "source": [
    "# plot the histogram of TotalUnits\n",
    "\n",
    "df_c.hist(column='log_TotalUnits', bins=30)"
   ]
  },
  {
   "cell_type": "code",
   "execution_count": 32,
   "metadata": {
    "id": "UOarQXL4gFv6"
   },
   "outputs": [
    {
     "data": {
      "text/plain": [
       "array([[<matplotlib.axes._subplots.AxesSubplot object at 0x7f728da77890>]],\n",
       "      dtype=object)"
      ]
     },
     "execution_count": 32,
     "metadata": {},
     "output_type": "execute_result"
    },
    {
     "data": {
      "image/png": "[encoded data removed]",
      "text/plain": [
       "<Figure size 432x288 with 1 Axes>"
      ]
     },
     "metadata": {
      "needs_background": "light"
     },
     "output_type": "display_data"
    }
   ],
   "source": [
    "# plot the histogram of AveragePrice \n",
    "\n",
    "df_c.hist(column='log_AveragePrice', bins=30)"
   ]
  },
  {
   "cell_type": "code",
   "execution_count": 33,
   "metadata": {
    "id": "OxlrIXpwH7qn"
   },
   "outputs": [
    {
     "data": {
      "text/plain": [
       "array([[<matplotlib.axes._subplots.AxesSubplot object at 0x7f728da77650>]],\n",
       "      dtype=object)"
      ]
     },
     "execution_count": 33,
     "metadata": {},
     "output_type": "execute_result"
    },
    {
     "data": {
      "image/png": "[encoded data removed]",
      "text/plain": [
       "<Figure size 432x288 with 1 Axes>"
      ]
     },
     "metadata": {
      "needs_background": "light"
     },
     "output_type": "display_data"
    }
   ],
   "source": [
    "# plot the histogram of SpendPerTrans \n",
    "\n",
    "df_c.hist(column='log_SpendPerTrans', bins=30)"
   ]
  },
  {
   "cell_type": "markdown",
   "metadata": {
    "id": "dDZw09uBeguU"
   },
   "source": [
    "**Answer this**\n",
    "\n",
    "Why might you want to transform these variables by taking logs of each of these variables? (Notice the difference after taking the log transformation)\n",
    "\n",
    "* Answer:  **Because now the data has obvious variation that appears to follow common statistical distributions. Presumably this transformed data will be more meaningful when analyzed.**"
   ]
  },
  {
   "cell_type": "markdown",
   "metadata": {
    "id": "ZM6npcrmYLi9"
   },
   "source": [
    "# Create standaradized version of df_c\n",
    "\n",
    "1. Create `df_c_std` that has all the columns of `df_c` except `CustomerID`.\n",
    "1. Write a loop through all the columns of `df_c_std` to standardize each column (compute the z-score by subtracting mean and dividing by standard deviation).\n"
   ]
  },
  {
   "cell_type": "code",
   "execution_count": 34,
   "metadata": {
    "id": "HiRlII9OYQgE"
   },
   "outputs": [
    {
     "data": {
      "text/html": [
       "<div>\n",
       "<style scoped>\n",
       "    .dataframe tbody tr th:only-of-type {\n",
       "        vertical-align: middle;\n",
       "    }\n",
       "\n",
       "    .dataframe tbody tr th {\n",
       "        vertical-align: top;\n",
       "    }\n",
       "\n",
       "    .dataframe thead th {\n",
       "        text-align: right;\n",
       "    }\n",
       "</style>\n",
       "<table border=\"1\" class=\"dataframe\">\n",
       "  <thead>\n",
       "    <tr style=\"text-align: right;\">\n",
       "      <th></th>\n",
       "      <th>log_NTrans</th>\n",
       "      <th>log_NProducts</th>\n",
       "      <th>log_TotalSpend</th>\n",
       "      <th>log_AveragePrice</th>\n",
       "      <th>log_SpendPerTrans</th>\n",
       "      <th>log_TotalUnits</th>\n",
       "    </tr>\n",
       "  </thead>\n",
       "  <tbody>\n",
       "    <tr>\n",
       "      <th>0</th>\n",
       "      <td>0.000000</td>\n",
       "      <td>0.000000</td>\n",
       "      <td>11.253942</td>\n",
       "      <td>0.039221</td>\n",
       "      <td>11.253942</td>\n",
       "      <td>11.214722</td>\n",
       "    </tr>\n",
       "    <tr>\n",
       "      <th>1</th>\n",
       "      <td>1.945910</td>\n",
       "      <td>4.634729</td>\n",
       "      <td>8.368693</td>\n",
       "      <td>0.561590</td>\n",
       "      <td>6.422783</td>\n",
       "      <td>7.807103</td>\n",
       "    </tr>\n",
       "    <tr>\n",
       "      <th>2</th>\n",
       "      <td>1.386294</td>\n",
       "      <td>3.044522</td>\n",
       "      <td>7.270480</td>\n",
       "      <td>-0.484002</td>\n",
       "      <td>5.884186</td>\n",
       "      <td>7.754482</td>\n",
       "    </tr>\n",
       "    <tr>\n",
       "      <th>3</th>\n",
       "      <td>0.000000</td>\n",
       "      <td>4.276666</td>\n",
       "      <td>7.284512</td>\n",
       "      <td>0.838792</td>\n",
       "      <td>7.284512</td>\n",
       "      <td>6.445720</td>\n",
       "    </tr>\n",
       "    <tr>\n",
       "      <th>4</th>\n",
       "      <td>0.000000</td>\n",
       "      <td>2.772589</td>\n",
       "      <td>5.684939</td>\n",
       "      <td>0.406825</td>\n",
       "      <td>5.684939</td>\n",
       "      <td>5.278115</td>\n",
       "    </tr>\n",
       "  </tbody>\n",
       "</table>\n",
       "</div>"
      ],
      "text/plain": [
       "   log_NTrans  log_NProducts  log_TotalSpend  log_AveragePrice  \\\n",
       "0    0.000000       0.000000       11.253942          0.039221   \n",
       "1    1.945910       4.634729        8.368693          0.561590   \n",
       "2    1.386294       3.044522        7.270480         -0.484002   \n",
       "3    0.000000       4.276666        7.284512          0.838792   \n",
       "4    0.000000       2.772589        5.684939          0.406825   \n",
       "\n",
       "   log_SpendPerTrans  log_TotalUnits  \n",
       "0          11.253942       11.214722  \n",
       "1           6.422783        7.807103  \n",
       "2           5.884186        7.754482  \n",
       "3           7.284512        6.445720  \n",
       "4           5.684939        5.278115  "
      ]
     },
     "execution_count": 34,
     "metadata": {},
     "output_type": "execute_result"
    }
   ],
   "source": [
    "# First, create df_c_std by selecting all columns from df_c except CustomerID\n",
    "df_c_temp = df_c[['log_NTrans', 'log_NProducts', 'log_TotalSpend', 'log_AveragePrice', 'log_SpendPerTrans', 'log_TotalUnits']].copy()\n",
    "df_c_temp.head(5)"
   ]
  },
  {
   "cell_type": "code",
   "execution_count": 35,
   "metadata": {
    "id": "22TAskuVZamE"
   },
   "outputs": [],
   "source": [
    "# write a loop to standardize each column of df_c_std\n",
    "# by replacing each column with (that column - the mean of the column) / std of column\n",
    "\n",
    "start_columns = ['log_NTrans', 'log_NProducts', 'log_TotalSpend', 'log_AveragePrice', 'log_SpendPerTrans', 'log_TotalUnits']\n",
    "for item in start_columns:\n",
    "    df_c_temp[item].mean()    \n",
    "    std_name = item + '_std'\n",
    "    df_c_temp[std_name] = (df_c_temp[item] - df_c_temp[item].mean())/df_c_temp[item].std()\n",
    "df_c_std = df_c_temp.drop(columns = ['log_NTrans', 'log_NProducts', 'log_TotalSpend', 'log_AveragePrice', 'log_SpendPerTrans', 'log_TotalUnits'])"
   ]
  },
  {
   "cell_type": "code",
   "execution_count": 36,
   "metadata": {
    "id": "oXmMOxhyZ1eF"
   },
   "outputs": [
    {
     "data": {
      "text/html": [
       "<div>\n",
       "<style scoped>\n",
       "    .dataframe tbody tr th:only-of-type {\n",
       "        vertical-align: middle;\n",
       "    }\n",
       "\n",
       "    .dataframe tbody tr th {\n",
       "        vertical-align: top;\n",
       "    }\n",
       "\n",
       "    .dataframe thead th {\n",
       "        text-align: right;\n",
       "    }\n",
       "</style>\n",
       "<table border=\"1\" class=\"dataframe\">\n",
       "  <thead>\n",
       "    <tr style=\"text-align: right;\">\n",
       "      <th></th>\n",
       "      <th>log_NTrans_std</th>\n",
       "      <th>log_NProducts_std</th>\n",
       "      <th>log_TotalSpend_std</th>\n",
       "      <th>log_AveragePrice_std</th>\n",
       "      <th>log_SpendPerTrans_std</th>\n",
       "      <th>log_TotalUnits_std</th>\n",
       "    </tr>\n",
       "  </thead>\n",
       "  <tbody>\n",
       "    <tr>\n",
       "      <th>0</th>\n",
       "      <td>-1.043705</td>\n",
       "      <td>-2.861400</td>\n",
       "      <td>3.718600</td>\n",
       "      <td>-1.070471</td>\n",
       "      <td>7.516677</td>\n",
       "      <td>3.807404</td>\n",
       "    </tr>\n",
       "    <tr>\n",
       "      <th>1</th>\n",
       "      <td>1.119085</td>\n",
       "      <td>0.943194</td>\n",
       "      <td>1.424214</td>\n",
       "      <td>-0.065642</td>\n",
       "      <td>1.049633</td>\n",
       "      <td>1.327975</td>\n",
       "    </tr>\n",
       "    <tr>\n",
       "      <th>2</th>\n",
       "      <td>0.497097</td>\n",
       "      <td>-0.362188</td>\n",
       "      <td>0.550901</td>\n",
       "      <td>-2.076942</td>\n",
       "      <td>0.328660</td>\n",
       "      <td>1.289687</td>\n",
       "    </tr>\n",
       "    <tr>\n",
       "      <th>3</th>\n",
       "      <td>-1.043705</td>\n",
       "      <td>0.649264</td>\n",
       "      <td>0.562060</td>\n",
       "      <td>0.467585</td>\n",
       "      <td>2.203153</td>\n",
       "      <td>0.337414</td>\n",
       "    </tr>\n",
       "    <tr>\n",
       "      <th>4</th>\n",
       "      <td>-1.043705</td>\n",
       "      <td>-0.585415</td>\n",
       "      <td>-0.709940</td>\n",
       "      <td>-0.363348</td>\n",
       "      <td>0.061947</td>\n",
       "      <td>-0.512151</td>\n",
       "    </tr>\n",
       "  </tbody>\n",
       "</table>\n",
       "</div>"
      ],
      "text/plain": [
       "   log_NTrans_std  log_NProducts_std  log_TotalSpend_std  \\\n",
       "0       -1.043705          -2.861400            3.718600   \n",
       "1        1.119085           0.943194            1.424214   \n",
       "2        0.497097          -0.362188            0.550901   \n",
       "3       -1.043705           0.649264            0.562060   \n",
       "4       -1.043705          -0.585415           -0.709940   \n",
       "\n",
       "   log_AveragePrice_std  log_SpendPerTrans_std  log_TotalUnits_std  \n",
       "0             -1.070471               7.516677            3.807404  \n",
       "1             -0.065642               1.049633            1.327975  \n",
       "2             -2.076942               0.328660            1.289687  \n",
       "3              0.467585               2.203153            0.337414  \n",
       "4             -0.363348               0.061947           -0.512151  "
      ]
     },
     "execution_count": 36,
     "metadata": {},
     "output_type": "execute_result"
    }
   ],
   "source": [
    "# preview df_c_std to make sure the values have been standardized \n",
    "df_c_std.head(5)\n"
   ]
  },
  {
   "cell_type": "markdown",
   "metadata": {
    "id": "k74kDrhraT7G"
   },
   "source": [
    "**Answer question**\n",
    "\n",
    "Why is it important to standardize variables before performing clustering?\n",
    "\n",
    "* Answer: **It is important to standardize variables before performing clustering so that the distance between different datapoints isn't distorted by the scale of a particular variable being large or small. This allows us to evaluate distances across variables representing different types of things, like height and credit score.** "
   ]
  },
  {
   "cell_type": "markdown",
   "metadata": {
    "id": "If2zZNEsmC10"
   },
   "source": [
    "# Part 2 Segmentation (5 points)\n"
   ]
  },
  {
   "cell_type": "markdown",
   "metadata": {
    "id": "9xNZsG0TYO8E"
   },
   "source": [
    "\n",
    "## Dimensionality reduction\n",
    "\n",
    "1. Compute the 2D principal components transformation of `df_c_std`, call this `transformed`\n",
    "1. Make sure `transformed` is a dataframe, then name the columns 'p0' and 'p1' for principal component 0 and 1, respectively.\n",
    "1. Add `p0` and `p1` to the df_c dataframe (create the same 2 columns in df_c).\n",
    "\n",
    "Create a scatter plot of the principal components 0 vs 1. \n"
   ]
  },
  {
   "cell_type": "markdown",
   "metadata": {
    "id": "g-UvjJcfbBMp"
   },
   "source": [
    "**Answer question**\n",
    "\n",
    "Why might you want to reduce the dimensionality of your data (using PCA) before performing clustering?\n",
    "\n",
    "* Answer: "
   ]
  },
  {
   "cell_type": "code",
   "execution_count": 37,
   "metadata": {
    "id": "D7J7Iyeta6hx"
   },
   "outputs": [],
   "source": [
    "# Use PCA to reduce df_c_std to its first 2 principle components\n",
    "# store the result as 2 columns in the *df_c* dataframe:\n",
    "# 'pc1' and 'pc2'\n",
    "\n",
    "pca = PCA(n_components=2) # find first 2 components\n",
    "transformed = pca.fit_transform(np.array(df_c_std)) # fit_transform is like fit_predict for clustering\n",
    "transformed.shape # transformed shape should equal rows X components\n",
    "\n",
    "transformed = pd.DataFrame(transformed) # create dataframe from transformed numpy array\n",
    "transformed.columns = ['p{}'.format(c) for c in range(transformed.shape[1])] # loop through number of components and renmae to p1, p2, etc.\n",
    "for c in transformed.columns: # put transformed pca into original data\n",
    "    df_c_std[c] = transformed[c] # add components to original dataframe\n",
    "df_c['pc1'] = df_c_std['p0']\n",
    "df_c['pc2'] = df_c_std['p1']"
   ]
  },
  {
   "cell_type": "code",
   "execution_count": 38,
   "metadata": {
    "id": "yTqP6A_KdVVz"
   },
   "outputs": [
    {
     "data": {
      "text/html": [
       "<div>\n",
       "<style scoped>\n",
       "    .dataframe tbody tr th:only-of-type {\n",
       "        vertical-align: middle;\n",
       "    }\n",
       "\n",
       "    .dataframe tbody tr th {\n",
       "        vertical-align: top;\n",
       "    }\n",
       "\n",
       "    .dataframe thead th {\n",
       "        text-align: right;\n",
       "    }\n",
       "</style>\n",
       "<table border=\"1\" class=\"dataframe\">\n",
       "  <thead>\n",
       "    <tr style=\"text-align: right;\">\n",
       "      <th></th>\n",
       "      <th>CustomerID</th>\n",
       "      <th>log_NTrans</th>\n",
       "      <th>log_NProducts</th>\n",
       "      <th>log_TotalSpend</th>\n",
       "      <th>log_AveragePrice</th>\n",
       "      <th>log_SpendPerTrans</th>\n",
       "      <th>log_TotalUnits</th>\n",
       "      <th>pc1</th>\n",
       "      <th>pc2</th>\n",
       "    </tr>\n",
       "  </thead>\n",
       "  <tbody>\n",
       "    <tr>\n",
       "      <th>0</th>\n",
       "      <td>12346.0</td>\n",
       "      <td>0.000000</td>\n",
       "      <td>0.000000</td>\n",
       "      <td>11.253942</td>\n",
       "      <td>0.039221</td>\n",
       "      <td>11.253942</td>\n",
       "      <td>11.214722</td>\n",
       "      <td>4.916838</td>\n",
       "      <td>0.740811</td>\n",
       "    </tr>\n",
       "    <tr>\n",
       "      <th>1</th>\n",
       "      <td>12347.0</td>\n",
       "      <td>1.945910</td>\n",
       "      <td>4.634729</td>\n",
       "      <td>8.368693</td>\n",
       "      <td>0.561590</td>\n",
       "      <td>6.422783</td>\n",
       "      <td>7.807103</td>\n",
       "      <td>2.632158</td>\n",
       "      <td>0.281418</td>\n",
       "    </tr>\n",
       "    <tr>\n",
       "      <th>2</th>\n",
       "      <td>12348.0</td>\n",
       "      <td>1.386294</td>\n",
       "      <td>3.044522</td>\n",
       "      <td>7.270480</td>\n",
       "      <td>-0.484002</td>\n",
       "      <td>5.884186</td>\n",
       "      <td>7.754482</td>\n",
       "      <td>1.343655</td>\n",
       "      <td>-1.924887</td>\n",
       "    </tr>\n",
       "    <tr>\n",
       "      <th>3</th>\n",
       "      <td>12349.0</td>\n",
       "      <td>0.000000</td>\n",
       "      <td>4.276666</td>\n",
       "      <td>7.284512</td>\n",
       "      <td>0.838792</td>\n",
       "      <td>7.284512</td>\n",
       "      <td>6.445720</td>\n",
       "      <td>1.007478</td>\n",
       "      <td>0.852119</td>\n",
       "    </tr>\n",
       "    <tr>\n",
       "      <th>4</th>\n",
       "      <td>12350.0</td>\n",
       "      <td>0.000000</td>\n",
       "      <td>2.772589</td>\n",
       "      <td>5.684939</td>\n",
       "      <td>0.406825</td>\n",
       "      <td>5.684939</td>\n",
       "      <td>5.278115</td>\n",
       "      <td>-1.237310</td>\n",
       "      <td>-0.447156</td>\n",
       "    </tr>\n",
       "    <tr>\n",
       "      <th>...</th>\n",
       "      <td>...</td>\n",
       "      <td>...</td>\n",
       "      <td>...</td>\n",
       "      <td>...</td>\n",
       "      <td>...</td>\n",
       "      <td>...</td>\n",
       "      <td>...</td>\n",
       "      <td>...</td>\n",
       "      <td>...</td>\n",
       "    </tr>\n",
       "    <tr>\n",
       "      <th>4329</th>\n",
       "      <td>18280.0</td>\n",
       "      <td>0.000000</td>\n",
       "      <td>2.302585</td>\n",
       "      <td>5.196285</td>\n",
       "      <td>1.389622</td>\n",
       "      <td>5.196285</td>\n",
       "      <td>3.806662</td>\n",
       "      <td>-2.587322</td>\n",
       "      <td>1.300965</td>\n",
       "    </tr>\n",
       "    <tr>\n",
       "      <th>4330</th>\n",
       "      <td>18281.0</td>\n",
       "      <td>0.000000</td>\n",
       "      <td>1.945910</td>\n",
       "      <td>4.392224</td>\n",
       "      <td>0.403240</td>\n",
       "      <td>4.392224</td>\n",
       "      <td>3.988984</td>\n",
       "      <td>-3.121715</td>\n",
       "      <td>-0.845314</td>\n",
       "    </tr>\n",
       "    <tr>\n",
       "      <th>4331</th>\n",
       "      <td>18282.0</td>\n",
       "      <td>0.693147</td>\n",
       "      <td>2.484907</td>\n",
       "      <td>5.182064</td>\n",
       "      <td>0.547335</td>\n",
       "      <td>4.488917</td>\n",
       "      <td>4.634729</td>\n",
       "      <td>-2.044801</td>\n",
       "      <td>-0.464312</td>\n",
       "    </tr>\n",
       "    <tr>\n",
       "      <th>4332</th>\n",
       "      <td>18283.0</td>\n",
       "      <td>2.772589</td>\n",
       "      <td>5.568345</td>\n",
       "      <td>7.644407</td>\n",
       "      <td>0.403758</td>\n",
       "      <td>4.871819</td>\n",
       "      <td>7.240650</td>\n",
       "      <td>2.149360</td>\n",
       "      <td>-0.447690</td>\n",
       "    </tr>\n",
       "    <tr>\n",
       "      <th>4333</th>\n",
       "      <td>18287.0</td>\n",
       "      <td>1.098612</td>\n",
       "      <td>4.077537</td>\n",
       "      <td>7.516041</td>\n",
       "      <td>0.147071</td>\n",
       "      <td>6.417429</td>\n",
       "      <td>7.368970</td>\n",
       "      <td>1.631896</td>\n",
       "      <td>-0.609755</td>\n",
       "    </tr>\n",
       "  </tbody>\n",
       "</table>\n",
       "<p>4334 rows × 9 columns</p>\n",
       "</div>"
      ],
      "text/plain": [
       "      CustomerID  log_NTrans  log_NProducts  log_TotalSpend  log_AveragePrice  \\\n",
       "0        12346.0    0.000000       0.000000       11.253942          0.039221   \n",
       "1        12347.0    1.945910       4.634729        8.368693          0.561590   \n",
       "2        12348.0    1.386294       3.044522        7.270480         -0.484002   \n",
       "3        12349.0    0.000000       4.276666        7.284512          0.838792   \n",
       "4        12350.0    0.000000       2.772589        5.684939          0.406825   \n",
       "...          ...         ...            ...             ...               ...   \n",
       "4329     18280.0    0.000000       2.302585        5.196285          1.389622   \n",
       "4330     18281.0    0.000000       1.945910        4.392224          0.403240   \n",
       "4331     18282.0    0.693147       2.484907        5.182064          0.547335   \n",
       "4332     18283.0    2.772589       5.568345        7.644407          0.403758   \n",
       "4333     18287.0    1.098612       4.077537        7.516041          0.147071   \n",
       "\n",
       "      log_SpendPerTrans  log_TotalUnits       pc1       pc2  \n",
       "0             11.253942       11.214722  4.916838  0.740811  \n",
       "1              6.422783        7.807103  2.632158  0.281418  \n",
       "2              5.884186        7.754482  1.343655 -1.924887  \n",
       "3              7.284512        6.445720  1.007478  0.852119  \n",
       "4              5.684939        5.278115 -1.237310 -0.447156  \n",
       "...                 ...             ...       ...       ...  \n",
       "4329           5.196285        3.806662 -2.587322  1.300965  \n",
       "4330           4.392224        3.988984 -3.121715 -0.845314  \n",
       "4331           4.488917        4.634729 -2.044801 -0.464312  \n",
       "4332           4.871819        7.240650  2.149360 -0.447690  \n",
       "4333           6.417429        7.368970  1.631896 -0.609755  \n",
       "\n",
       "[4334 rows x 9 columns]"
      ]
     },
     "execution_count": 38,
     "metadata": {},
     "output_type": "execute_result"
    }
   ],
   "source": [
    "# take a look at df_c to make sure principle components are in the dataframe\n",
    "df_c\n"
   ]
  },
  {
   "cell_type": "code",
   "execution_count": 40,
   "metadata": {
    "id": "4eyoD1r2dxoq"
   },
   "outputs": [
    {
     "data": {
      "text/plain": [
       "Text(0, 0.5, 'pc2')"
      ]
     },
     "execution_count": 40,
     "metadata": {},
     "output_type": "execute_result"
    },
    {
     "data": {
      "image/png": "[encoded data removed]",
      "text/plain": [
       "<Figure size 720x720 with 1 Axes>"
      ]
     },
     "metadata": {
      "needs_background": "light"
     },
     "output_type": "display_data"
    }
   ],
   "source": [
    "# Create a scatterplot of pc1 vs pc2\n",
    "\n",
    "fig = plt.figure(figsize = (10,10)) \n",
    "ax = fig.add_subplot(111)\n",
    "ax.scatter(df_c.pc1, df_c.pc2, alpha = .5, cmap = 'RdYlGn') \n",
    "ax.set_xlabel('pc1')\n",
    "ax.set_ylabel('pc2')"
   ]
  },
  {
   "cell_type": "markdown",
   "metadata": {
    "id": "YM7vMz1zaKcS"
   },
   "source": [
    "\n",
    "## Segmentation\n",
    "Using a loop, compute the k-means clustering for $k$ from 2 to 10 segments using the `transformed` dataframe. Store the segment as the column `'seg2'`,`'seg3'`,...,`'seg10'` in the `df_c` dataframe. Make sure you store the inertia metrics in a list called `elbowdata` like in the notes. Create the elbow plot for your k-means clustering. \n",
    "\n",
    "1. How many segments does there appear to be based on the elbow plot?\n",
    "1. Use a loop to plot p0 vs p1 for each segment (different color for each segment)\n",
    "1. Use a groupby statement to show the mean of the variables in the raw versions (not z-scores) used to conduct the segmentation. e.g. what are the averages of `['NTrans', 'NProducts', 'TotalSpend', 'AveragePrice', 'SpendPerTrans', 'SKUsPerTrans']`\n",
    "\n",
    "1. In a few sentences, describe what are the characteristics of the resulting segments. Any distinctive segments?\n",
    "\n",
    "**Hints**\n",
    "1. Note here that `k` should be the number of clusters at each iteration of your loop, e.g. `for k in ....` \n",
    "2. `df_c['seg{}'.format(k)]=` your k-means segmentation to create the `'seg2'`, ..., `'seg15'` columns."
   ]
  },
  {
   "cell_type": "code",
   "execution_count": 41,
   "metadata": {
    "id": "PoySPb11g4Oz"
   },
   "outputs": [],
   "source": [
    "# Write a loop to perform k-means segmentation \n",
    "# on the principal component columns, e.g. pc1 and pc2, in *df_c*\n",
    "# for k from 2 to 10, e.g. for k in range(2,11):\n",
    "# Be sure to save the inertia metric to create the elbowplot\n",
    "# see similar example in notes\n",
    "\n",
    "elbowdata = list() # empty list to store segment, inertia pairs\n",
    "for k in range(2, 11): # \n",
    "    clusterer = KMeans(n_clusters=k) # Do kmeans\n",
    "    df_c['seg_{}'.format(k)] = clusterer.fit_predict(transformed) # store cluster segment\n",
    "    inertia = clusterer.inertia_ # within sum variances is aka inertia\n",
    "    elbowdata.append([k, inertia]) # append to elbowdata\n",
    "elbowdata = pd.DataFrame(elbowdata, columns = ['k', 'inertia']) # make dataframe from elbowinertia"
   ]
  },
  {
   "cell_type": "code",
   "execution_count": 42,
   "metadata": {
    "id": "dJBzu1CSjpqa"
   },
   "outputs": [
    {
     "data": {
      "text/html": [
       "<div>\n",
       "<style scoped>\n",
       "    .dataframe tbody tr th:only-of-type {\n",
       "        vertical-align: middle;\n",
       "    }\n",
       "\n",
       "    .dataframe tbody tr th {\n",
       "        vertical-align: top;\n",
       "    }\n",
       "\n",
       "    .dataframe thead th {\n",
       "        text-align: right;\n",
       "    }\n",
       "</style>\n",
       "<table border=\"1\" class=\"dataframe\">\n",
       "  <thead>\n",
       "    <tr style=\"text-align: right;\">\n",
       "      <th></th>\n",
       "      <th>CustomerID</th>\n",
       "      <th>log_NTrans</th>\n",
       "      <th>log_NProducts</th>\n",
       "      <th>log_TotalSpend</th>\n",
       "      <th>log_AveragePrice</th>\n",
       "      <th>log_SpendPerTrans</th>\n",
       "      <th>log_TotalUnits</th>\n",
       "      <th>pc1</th>\n",
       "      <th>pc2</th>\n",
       "      <th>seg_2</th>\n",
       "      <th>seg_3</th>\n",
       "      <th>seg_4</th>\n",
       "      <th>seg_5</th>\n",
       "      <th>seg_6</th>\n",
       "      <th>seg_7</th>\n",
       "      <th>seg_8</th>\n",
       "      <th>seg_9</th>\n",
       "      <th>seg_10</th>\n",
       "    </tr>\n",
       "  </thead>\n",
       "  <tbody>\n",
       "    <tr>\n",
       "      <th>0</th>\n",
       "      <td>12346.0</td>\n",
       "      <td>0.000000</td>\n",
       "      <td>0.000000</td>\n",
       "      <td>11.253942</td>\n",
       "      <td>0.039221</td>\n",
       "      <td>11.253942</td>\n",
       "      <td>11.214722</td>\n",
       "      <td>4.916838</td>\n",
       "      <td>0.740811</td>\n",
       "      <td>0</td>\n",
       "      <td>0</td>\n",
       "      <td>3</td>\n",
       "      <td>2</td>\n",
       "      <td>0</td>\n",
       "      <td>2</td>\n",
       "      <td>7</td>\n",
       "      <td>5</td>\n",
       "      <td>8</td>\n",
       "    </tr>\n",
       "    <tr>\n",
       "      <th>1</th>\n",
       "      <td>12347.0</td>\n",
       "      <td>1.945910</td>\n",
       "      <td>4.634729</td>\n",
       "      <td>8.368693</td>\n",
       "      <td>0.561590</td>\n",
       "      <td>6.422783</td>\n",
       "      <td>7.807103</td>\n",
       "      <td>2.632158</td>\n",
       "      <td>0.281418</td>\n",
       "      <td>0</td>\n",
       "      <td>0</td>\n",
       "      <td>3</td>\n",
       "      <td>2</td>\n",
       "      <td>0</td>\n",
       "      <td>3</td>\n",
       "      <td>2</td>\n",
       "      <td>4</td>\n",
       "      <td>3</td>\n",
       "    </tr>\n",
       "    <tr>\n",
       "      <th>2</th>\n",
       "      <td>12348.0</td>\n",
       "      <td>1.386294</td>\n",
       "      <td>3.044522</td>\n",
       "      <td>7.270480</td>\n",
       "      <td>-0.484002</td>\n",
       "      <td>5.884186</td>\n",
       "      <td>7.754482</td>\n",
       "      <td>1.343655</td>\n",
       "      <td>-1.924887</td>\n",
       "      <td>0</td>\n",
       "      <td>2</td>\n",
       "      <td>0</td>\n",
       "      <td>0</td>\n",
       "      <td>1</td>\n",
       "      <td>4</td>\n",
       "      <td>4</td>\n",
       "      <td>0</td>\n",
       "      <td>2</td>\n",
       "    </tr>\n",
       "    <tr>\n",
       "      <th>3</th>\n",
       "      <td>12349.0</td>\n",
       "      <td>0.000000</td>\n",
       "      <td>4.276666</td>\n",
       "      <td>7.284512</td>\n",
       "      <td>0.838792</td>\n",
       "      <td>7.284512</td>\n",
       "      <td>6.445720</td>\n",
       "      <td>1.007478</td>\n",
       "      <td>0.852119</td>\n",
       "      <td>0</td>\n",
       "      <td>2</td>\n",
       "      <td>0</td>\n",
       "      <td>0</td>\n",
       "      <td>3</td>\n",
       "      <td>0</td>\n",
       "      <td>1</td>\n",
       "      <td>3</td>\n",
       "      <td>1</td>\n",
       "    </tr>\n",
       "    <tr>\n",
       "      <th>4</th>\n",
       "      <td>12350.0</td>\n",
       "      <td>0.000000</td>\n",
       "      <td>2.772589</td>\n",
       "      <td>5.684939</td>\n",
       "      <td>0.406825</td>\n",
       "      <td>5.684939</td>\n",
       "      <td>5.278115</td>\n",
       "      <td>-1.237310</td>\n",
       "      <td>-0.447156</td>\n",
       "      <td>1</td>\n",
       "      <td>1</td>\n",
       "      <td>1</td>\n",
       "      <td>1</td>\n",
       "      <td>2</td>\n",
       "      <td>1</td>\n",
       "      <td>6</td>\n",
       "      <td>2</td>\n",
       "      <td>9</td>\n",
       "    </tr>\n",
       "  </tbody>\n",
       "</table>\n",
       "</div>"
      ],
      "text/plain": [
       "   CustomerID  log_NTrans  log_NProducts  log_TotalSpend  log_AveragePrice  \\\n",
       "0     12346.0    0.000000       0.000000       11.253942          0.039221   \n",
       "1     12347.0    1.945910       4.634729        8.368693          0.561590   \n",
       "2     12348.0    1.386294       3.044522        7.270480         -0.484002   \n",
       "3     12349.0    0.000000       4.276666        7.284512          0.838792   \n",
       "4     12350.0    0.000000       2.772589        5.684939          0.406825   \n",
       "\n",
       "   log_SpendPerTrans  log_TotalUnits       pc1       pc2  seg_2  seg_3  seg_4  \\\n",
       "0          11.253942       11.214722  4.916838  0.740811      0      0      3   \n",
       "1           6.422783        7.807103  2.632158  0.281418      0      0      3   \n",
       "2           5.884186        7.754482  1.343655 -1.924887      0      2      0   \n",
       "3           7.284512        6.445720  1.007478  0.852119      0      2      0   \n",
       "4           5.684939        5.278115 -1.237310 -0.447156      1      1      1   \n",
       "\n",
       "   seg_5  seg_6  seg_7  seg_8  seg_9  seg_10  \n",
       "0      2      0      2      7      5       8  \n",
       "1      2      0      3      2      4       3  \n",
       "2      0      1      4      4      0       2  \n",
       "3      0      3      0      1      3       1  \n",
       "4      1      2      1      6      2       9  "
      ]
     },
     "execution_count": 42,
     "metadata": {},
     "output_type": "execute_result"
    }
   ],
   "source": [
    "# preview your dataframe df_c to get an idea of the contents\n",
    "df_c.head(5)\n"
   ]
  },
  {
   "cell_type": "markdown",
   "metadata": {
    "id": "LAGmDztOj8fo"
   },
   "source": [
    "**Answer this**\n",
    "What does each of the segk (for k =1,...,10) columns represent?\n",
    "\n",
    "1. Answer: **Each segment \"k\" represents different potential clusters of data where the clusters are picked by minimizing the variation between the datapoints contained in each cluster.**"
   ]
  },
  {
   "cell_type": "code",
   "execution_count": 43,
   "metadata": {
    "id": "b8f-xQZHhur2"
   },
   "outputs": [
    {
     "data": {
      "text/plain": [
       "[<matplotlib.lines.Line2D at 0x7f728c6935d0>]"
      ]
     },
     "execution_count": 43,
     "metadata": {},
     "output_type": "execute_result"
    },
    {
     "data": {
      "image/png": "[encoded data removed]",
      "text/plain": [
       "<Figure size 720x576 with 1 Axes>"
      ]
     },
     "metadata": {
      "needs_background": "light"
     },
     "output_type": "display_data"
    }
   ],
   "source": [
    "# Create the elbow plot\n",
    "\n",
    "# plot elbowplot\n",
    "fig, ax = plt.subplots(1, figsize = (10, 8))\n",
    "ax.plot(elbowdata.k, elbowdata.inertia)\n"
   ]
  },
  {
   "cell_type": "markdown",
   "metadata": {
    "id": "Kmh4Hzbpir6H"
   },
   "source": [
    "**Answer this**\n",
    "Based on the eyeball test, where is the \"elbow\"? i.e. how many clusters seems the \"right\" number\n",
    "1. Answer: **The elbow in the graph pretty clearly seems to be most pronounced at 3 and 4.**"
   ]
  },
  {
   "cell_type": "markdown",
   "metadata": {
    "id": "KPpc9erki3_R"
   },
   "source": [
    "## Inspect segments"
   ]
  },
  {
   "cell_type": "code",
   "execution_count": 44,
   "metadata": {
    "id": "0HopXsWkjepu"
   },
   "outputs": [
    {
     "data": {
      "image/png": "[encoded data removed]",
      "text/plain": [
       "<Figure size 432x288 with 1 Axes>"
      ]
     },
     "metadata": {
      "needs_background": "light"
     },
     "output_type": "display_data"
    }
   ],
   "source": [
    "# Write a loop through each of the segments in your optimal KMeans cluster \n",
    "# and plot pc1 vs pc2 for that segment\n",
    "# similar to plotting price vs demand for each region of avocados dataset\n",
    "# use dot size 1\n",
    "# e.g.\n",
    "pca \n",
    "\n",
    "for s in df_c['seg_4'].unique():\n",
    "    temp = df_c[df_c['seg_4'] == s]\n",
    "    plt.scatter(temp.pc1, temp.pc2, s = 1)\n",
    "# where segk is whichever KMeans result you deemed optimal based on previous elbow plot \n",
    "\n",
    "\n"
   ]
  },
  {
   "cell_type": "markdown",
   "metadata": {
    "id": "3TTVE4COi8Dp"
   },
   "source": [
    "Compute the average of: \n",
    "```\n",
    "NTrans\tNProducts\tTotalSpend\tTotalUnits\tAveragePrice SpendPerTrans\n",
    "```\n",
    "For each segment of the optimal KMeans segmentation (optimal being the k you found above in elbow plot).\n",
    "\n",
    "Since these variables in df_c have been log-transformed, use np.exp(the appropriate groupby + mean statement) to take the exponent of the resulting means, i.e. \"undo\" the log-transformation.\n",
    "\n",
    "e.g. np.exp(df.groupby('grpvar')['var1', 'var2','var3',...,etc.].mean())"
   ]
  },
  {
   "cell_type": "code",
   "execution_count": 45,
   "metadata": {
    "id": "xAwQEioMjcw9"
   },
   "outputs": [
    {
     "name": "stderr",
     "output_type": "stream",
     "text": [
      "/home/bob/anaconda3/lib/python3.7/site-packages/ipykernel_launcher.py:12: FutureWarning: Indexing with multiple keys (implicitly converted to a tuple of keys) will be deprecated, use a list instead.\n",
      "  if sys.path[0] == '':\n"
     ]
    },
    {
     "data": {
      "text/html": [
       "<div>\n",
       "<style scoped>\n",
       "    .dataframe tbody tr th:only-of-type {\n",
       "        vertical-align: middle;\n",
       "    }\n",
       "\n",
       "    .dataframe tbody tr th {\n",
       "        vertical-align: top;\n",
       "    }\n",
       "\n",
       "    .dataframe thead th {\n",
       "        text-align: right;\n",
       "    }\n",
       "</style>\n",
       "<table border=\"1\" class=\"dataframe\">\n",
       "  <thead>\n",
       "    <tr style=\"text-align: right;\">\n",
       "      <th></th>\n",
       "      <th>NTrans</th>\n",
       "      <th>NProducts</th>\n",
       "      <th>TotalSpend</th>\n",
       "      <th>AveragePrice</th>\n",
       "      <th>SpendPerTrans</th>\n",
       "      <th>TotalUnits</th>\n",
       "    </tr>\n",
       "    <tr>\n",
       "      <th>seg_4</th>\n",
       "      <th></th>\n",
       "      <th></th>\n",
       "      <th></th>\n",
       "      <th></th>\n",
       "      <th></th>\n",
       "      <th></th>\n",
       "    </tr>\n",
       "  </thead>\n",
       "  <tbody>\n",
       "    <tr>\n",
       "      <th>0</th>\n",
       "      <td>2.724212</td>\n",
       "      <td>44.718046</td>\n",
       "      <td>903.895936</td>\n",
       "      <td>1.767431</td>\n",
       "      <td>331.800909</td>\n",
       "      <td>511.417910</td>\n",
       "    </tr>\n",
       "    <tr>\n",
       "      <th>1</th>\n",
       "      <td>1.293851</td>\n",
       "      <td>14.839096</td>\n",
       "      <td>230.303781</td>\n",
       "      <td>1.319636</td>\n",
       "      <td>177.998711</td>\n",
       "      <td>174.520664</td>\n",
       "    </tr>\n",
       "    <tr>\n",
       "      <th>2</th>\n",
       "      <td>1.270196</td>\n",
       "      <td>8.563064</td>\n",
       "      <td>218.752386</td>\n",
       "      <td>3.653122</td>\n",
       "      <td>172.219438</td>\n",
       "      <td>59.880949</td>\n",
       "    </tr>\n",
       "    <tr>\n",
       "      <th>3</th>\n",
       "      <td>8.062492</td>\n",
       "      <td>116.045073</td>\n",
       "      <td>3997.325882</td>\n",
       "      <td>1.689079</td>\n",
       "      <td>495.792847</td>\n",
       "      <td>2366.571609</td>\n",
       "    </tr>\n",
       "  </tbody>\n",
       "</table>\n",
       "</div>"
      ],
      "text/plain": [
       "         NTrans   NProducts   TotalSpend  AveragePrice  SpendPerTrans  \\\n",
       "seg_4                                                                   \n",
       "0      2.724212   44.718046   903.895936      1.767431     331.800909   \n",
       "1      1.293851   14.839096   230.303781      1.319636     177.998711   \n",
       "2      1.270196    8.563064   218.752386      3.653122     172.219438   \n",
       "3      8.062492  116.045073  3997.325882      1.689079     495.792847   \n",
       "\n",
       "        TotalUnits  \n",
       "seg_4               \n",
       "0       511.417910  \n",
       "1       174.520664  \n",
       "2        59.880949  \n",
       "3      2366.571609  "
      ]
     },
     "execution_count": 45,
     "metadata": {},
     "output_type": "execute_result"
    }
   ],
   "source": [
    "# segment averages\n",
    "#columns = ['NTrans', 'NProducts', 'TotalSpend','AveragePrice', 'SpendPerTrans']\n",
    "log_columns = ['log_NTrans', 'log_NProducts', 'log_TotalSpend', 'log_AveragePrice', 'log_SpendPerTrans', 'log_TotalUnits']\n",
    "##outputs = []\n",
    "##for s in df_c['seg_4'].unique():\n",
    "##    for item in log_columns:\n",
    "##        new_name = item[-4:]\n",
    "##        new_name\n",
    "new_df = df_c\n",
    "##for column in log_columns:        \n",
    "##    new_df[column] = np.exp\n",
    "output_df = np.exp(new_df.groupby('seg_4')['log_NTrans', 'log_NProducts', 'log_TotalSpend', 'log_AveragePrice', 'log_SpendPerTrans', 'log_TotalUnits'].mean())\n",
    "output_df.columns = ['NTrans', 'NProducts', 'TotalSpend', 'AveragePrice', 'SpendPerTrans', 'TotalUnits']\n",
    "output_df"
   ]
  },
  {
   "cell_type": "markdown",
   "metadata": {
    "id": "5EpCCf8yaNid"
   },
   "source": [
    "**Answer questions below**\n",
    "1. Which segment buys the most expensive items?\n",
    "    * Answer: **Segment 2 -- highest AveragePrice**\n",
    "1. Which segment spends the most? \n",
    "    * Answer: **Segment 3 -- highest TotalSpend**\n",
    "1. Which segment buys the most variety of products?\n",
    "    * Answer: **Segment 3 -- highest NProducts**\n",
    "1. Which segment buys the  least variety of products?\n",
    "    * Answer:  **Segment 2 -- lowest NProducts**\n",
    "1. Are there any segments that seem like they should be combined?\n",
    "    * Answer: **No.  Each segment seems to have significant variation among the given dimensions**\n",
    "1. Suppose you want to run some promotions that will get customers to spend more. Pick 2 of the segments that are very different and describe a hypothetical promotional campaign targeted at each (e.g. could be some kind discount with a min. spend qualification, or maybe some kind of a volume discount, etc. - be creative). Explain why each campaign might be a better fit for the targeted segment.\n",
    "    * Answer: **Promotional Campaign 1:  For the first promotional campaign, we could offer a volume discount to segment 3.  These are our best customers by a long shot and have the highest TotalSpend and buy the greatest varienty of products.  Because they probably love our products, they would probably be amenable to buying a higher volume. The volume discount should be set at an amount that optimizes TotalSpend.  This could probably be done by generating a supply/demand curve for TotalSpend for segment 3, and then setting the discount at a price that optimizes the area under the curve (using integration).  Promotional Campaign 2: Segment 0 we could offer coupons for higher priced items.  Segment 0 currnetly purchases a fair number of products but the average price of the purchases could be higher (compare segment 2 for example).  The goal with the coupons would be to bring some of the purchase activity for segment 0 into a higher-priced category of items.  Again, we could do this while optimizing the coupon price to maximize TotalSpend for the segment.**  "
   ]
  },
  {
   "cell_type": "code",
   "execution_count": null,
   "metadata": {
    "id": "-pLDtx8lmPzq"
   },
   "outputs": [],
   "source": []
  },
  {
   "cell_type": "code",
   "execution_count": null,
   "metadata": {
    "id": "50TWKVKCLmJh"
   },
   "outputs": [],
   "source": []
  }
 ],
 "metadata": {
  "colab": {
   "collapsed_sections": [],
   "name": "A9 F2021 Segmentation.ipynb",
   "provenance": []
  },
  "kernelspec": {
   "display_name": "Python 3",
   "language": "python",
   "name": "python3"
  },
  "language_info": {
   "codemirror_mode": {
    "name": "ipython",
    "version": 3
   },
   "file_extension": ".py",
   "mimetype": "text/x-python",
   "name": "python",
   "nbconvert_exporter": "python",
   "pygments_lexer": "ipython3",
   "version": "3.7.6"
  }
 },
 "nbformat": 4,
 "nbformat_minor": 1
}
