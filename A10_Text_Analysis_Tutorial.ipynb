{
 "cells": [
  {
   "cell_type": "markdown",
   "metadata": {
    "id": "KPwEyELGoIzD"
   },
   "source": [
    "**Rationale** Texts have become one of the most ubiquitous forms of marketing data in the digital economy. Perhaps nowhere is this more prevalent than in the online reviews domain. In our notes, we examined how natural language processing (NLP) techniques can be applied to Yelp restaurant reviews. On this homework assignment, you will apply the same tools to mine TripAdvisor hotel reviews. This dataset includes all TripAdvisor reviews written in 2015 (through part of 2016) for high review volume Vegas resorts and was collected as part of a large web crawl of over 50 Million online reviews at over 428k worldwide hotels by your professor and his colleague, Dr. Alex Chaudhry in 2016. \n",
    "\n",
    "* [Dataset](https://drive.google.com/drive/folders/16eyzTI32aKsKiLf9oPMzL3v2U30afd01?usp=sharing)\n",
    "\n",
    "You will only need:\n",
    "* vegas_2015_reviews.csv contains the reviews \n",
    "* vegas_info.csv contains a list of venues in Vegas\n",
    "\n",
    "Get started early on this assignment, some components **take a while to run**. "
   ]
  },
  {
   "cell_type": "markdown",
   "metadata": {
    "id": "RDtd9GIbopTs"
   },
   "source": [
    "This assignment will be slightly different. Please follow all prompts.\n",
    "\n",
    "1. This is a walkthrough tutorial, mostly. I have provided you with most of the necessary code. Your job is to run it, read it, understand how it relates to NLP concepts.\n",
    "1. There are many questions throughout. You will primarily be graded on these.\n",
    "1. There are a few places where I ask you to write some code. Pay attention to every cell, make sure you don't skip a cell that you must fill in on accident. Hopefully, this foces you to read through the code thoroughly."
   ]
  },
  {
   "cell_type": "markdown",
   "metadata": {
    "id": "fQ2JaIGTmQgL"
   },
   "source": [
    "# Imports and helper functions (execute these cells first)"
   ]
  },
  {
   "cell_type": "code",
   "execution_count": 1,
   "metadata": {
    "id": "J_ikf5j2tfCa"
   },
   "outputs": [],
   "source": [
    "##from google.colab import drive\n",
    "##drive.mount('drive/')"
   ]
  },
  {
   "cell_type": "code",
   "execution_count": 2,
   "metadata": {
    "id": "LpFdjrLUtiZu"
   },
   "outputs": [],
   "source": [
    "import pandas, numpy as np, matplotlib.pyplot as plt, os\n",
    "from textblob import TextBlob\n"
   ]
  },
  {
   "cell_type": "code",
   "execution_count": 3,
   "metadata": {
    "id": "qHuXou0em8_y"
   },
   "outputs": [
    {
     "name": "stderr",
     "output_type": "stream",
     "text": [
      "[nltk_data] Downloading package stopwords to /home/bob/nltk_data...\n",
      "[nltk_data]   Package stopwords is already up-to-date!\n"
     ]
    }
   ],
   "source": [
    "# imports\n",
    "\n",
    "import nltk\n",
    "nltk.download('stopwords') # download stopwords from NLTK servers\n",
    "from nltk.corpus import stopwords # import them\n",
    "sw = stopwords.words('english')\n",
    "\n",
    "\n",
    "import time # standard imports\n",
    "from itertools import chain\n",
    "\n",
    "# for sentiment analysis\n",
    "##from textblob import TextBlob \n",
    "\n",
    "# for doing text processing and LDA\n",
    "import spacy\n",
    "from gensim.models.ldamulticore import LdaMulticore # this is the multi-core version\n",
    "from gensim import corpora # import the corpora module\n",
    "from gensim.models import Phrases\n",
    "from gensim.models import tfidfmodel\n",
    "from gensim.models.word2vec import LineSentence\n",
    "from sklearn.model_selection import train_test_split"
   ]
  },
  {
   "cell_type": "code",
   "execution_count": 4,
   "metadata": {
    "id": "gV4n5r35nEdQ"
   },
   "outputs": [],
   "source": [
    "# Helper Functions\n",
    "def line_doc(filename, encode = 'utf-8'):\n",
    "    \"\"\"\n",
    "    generator function to read in reviews from the file\n",
    "    and un-escape the original line breaks in the text\n",
    "    \"\"\"\n",
    "    with open(filename, 'r', encoding = encode) as f:\n",
    "        for txt in f:\n",
    "            # yield returns next line\n",
    "            yield txt.replace('\\\\n', '\\n')\n",
    "            # and get rid of any line breaks\n",
    "\n",
    "# parsing to be done per sentence\n",
    "def lemmatize(s, exclude):\n",
    "    return [w.lemma_.lower() for w in s if (w.lemma_ not in exclude)&(~w.is_punct)]\n",
    "\n",
    "\n",
    "# next will be a function that will pass a filename to the line_doc function\n",
    "# and generate the parsed versions of ***EVERY SENTENCE***\n",
    "# this function streams a file at filename and yields one parsed sentence at a time\n",
    "def lemmatize_sentence_corpus(filename,nlp, batch_size, n_threads, sw=[], exclusions=[], encode = 'utf-8'):\n",
    "    nlp.disable_pipes([\"ner\"]) # disable ner and tagger makes it a little faster\n",
    "    # batch_size is the number of documents to parse in memory at a time\n",
    "    # n_threads it the number of parallel (simultaneous processes to run)\n",
    "    # n_threads is limited by the number of virtual cpu's on the system\n",
    "    # the default free Colab system has only 2 virtual cores\n",
    "    # most modern computers have at least 4\n",
    "    exclude = set(sw + exclusions)\n",
    "    for parsed_txt in nlp.pipe(line_doc(filename, encode = encode),batch_size=batch_size, n_threads=n_threads):\n",
    "            for sent in parsed_txt.sents:\n",
    "                yield ' '.join(lemmatize(sent, exclude))\n",
    "\n",
    "\n",
    "def write_parsed_sentence_corpus(readfile, writefile, nlp, batch_size, n_threads, sw=[], exclusions =[], encode = 'utf-8'):\n",
    "    streamingfile = lemmatize_sentence_corpus(readfile,nlp, batch_size, n_threads, sw=sw, exclusions=exclusions, encode = encode)\n",
    "    with open(writefile, 'w', encoding = encode) as f:\n",
    "        for sentence in streamingfile:\n",
    "            if len(sentence)>0: # write sentence if includes non stopwords\n",
    "                f.write(sentence+'\\n')\n",
    "    print('Success')\n",
    "\n",
    "\n",
    "def phrase_detection(parsedfile, folderpath, passes = 2, returnmodels = True,threshold=10., encode = 'utf-8'):\n",
    "    \"\"\"\n",
    "    parsedfile is the file location and name of the parsed sentence file\n",
    "    folderpath is where the models and phrase detected texts need to be stored\n",
    "\n",
    "    This function does phrase modeling. User specifies the number of passes.\n",
    "    Each additional pass detects longer phrases. The maximum detectable phrase length for\n",
    "    each pass, n, is 2^n.\n",
    "    Returns the list of models by default. Also saves models and intermediary\n",
    "    phrased sentences for each pass.\n",
    "    \"\"\"\n",
    "    ngram = list()\n",
    "    for it in range(passes):\n",
    "        gen = LineSentence(parsedfile)\n",
    "        gram=Phrases(gen, threshold = threshold)\n",
    "        ngram.append(gram)\n",
    "        modelpath = folderpath+'phrase_model_{}.phrasemodel'.format(it+1)\n",
    "        textpath = folderpath+'sent_gram_{}.txt'.format(it+1)\n",
    "        parsedfile = textpath\n",
    "        gram.save(modelpath)\n",
    "        # Write sentence n-gram\n",
    "        with open(textpath, 'w', encoding=encode) as f:\n",
    "            for sent in gen:\n",
    "                new_sent = ' '.join(gram[sent])\n",
    "                f.write(new_sent + '\\n')\n",
    "\n",
    "    if returnmodels == True:\n",
    "        return ngram\n",
    "\n",
    "\n",
    "def phrase_prediction(rawfilepath, outpath,nlp, grams, sw =[], exclusions = [], batch_size = 500, n_threads = 2, encode = 'utf-8'):\n",
    "    \"\"\"\n",
    "    rawfilepath is where the raw reviews (where 1 line = 1 review) are saved \n",
    "    outpath is where to save the resulting parsed and phrase modeled reviews\n",
    "    nlp is the spacy parser object\n",
    "    grams is a list of phrasemodels\n",
    "    sw is a list of stopwords\n",
    "    exclusions are additional words to exclude\n",
    "\n",
    "    \"\"\"\n",
    "    with open(outpath, 'w', encoding = encode) as f:\n",
    "        \n",
    "        nlp.disable_pipes([\"ner\"]) # disable ner and tagger makes it a little faster\n",
    "        exclude = set(sw + exclusions)\n",
    "        \n",
    "        for parsed_txt in nlp.pipe(line_doc(rawfilepath, encode = encode),batch_size=batch_size, n_threads=n_threads):\n",
    "            doc = list()\n",
    "            for sent in parsed_txt.sents:\n",
    "                parsed = lemmatize(sent, exclude)\n",
    "                for gram in grams: # loop through phrase models\n",
    "                    parsed = gram[parsed] # apply phrase model transformation to sentence\n",
    "                doc.append(' '.join(parsed).strip()) # append resulting phrase modeled sentence to list \"doc\"\n",
    "            # write the transformed review as a single line in the new file\n",
    "            txt_gram = ' '.join(doc).strip() # join all sentences in doc together as txt_gram\n",
    "            f.write(txt_gram + '\\n') # write the entire phrase modeled and parsed doc as one line in file"
   ]
  },
  {
   "cell_type": "markdown",
   "metadata": {
    "id": "nXCg7OX2nMPr"
   },
   "source": [
    "# Put together the dataset (1 point)"
   ]
  },
  {
   "cell_type": "code",
   "execution_count": 5,
   "metadata": {
    "id": "Lo4zawFItov6"
   },
   "outputs": [
    {
     "data": {
      "text/plain": [
       "['nlppath',\n",
       " 'vegas_vinfo.csv',\n",
       " 'vegas2015reviews.csv',\n",
       " 'A10_Text_Analysis_Tutorial.ipynb',\n",
       " '.ipynb_checkpoints']"
      ]
     },
     "execution_count": 5,
     "metadata": {},
     "output_type": "execute_result"
    }
   ],
   "source": [
    "fpath = './'\n",
    "os.listdir(fpath)"
   ]
  },
  {
   "cell_type": "code",
   "execution_count": 6,
   "metadata": {
    "id": "adDi-gF9yrh-"
   },
   "outputs": [
    {
     "data": {
      "text/html": [
       "<div>\n",
       "<style scoped>\n",
       "    .dataframe tbody tr th:only-of-type {\n",
       "        vertical-align: middle;\n",
       "    }\n",
       "\n",
       "    .dataframe tbody tr th {\n",
       "        vertical-align: top;\n",
       "    }\n",
       "\n",
       "    .dataframe thead th {\n",
       "        text-align: right;\n",
       "    }\n",
       "</style>\n",
       "<table border=\"1\" class=\"dataframe\">\n",
       "  <thead>\n",
       "    <tr style=\"text-align: right;\">\n",
       "      <th></th>\n",
       "      <th>ranking</th>\n",
       "      <th>rating_vol</th>\n",
       "      <th>rdetails</th>\n",
       "      <th>lnglat</th>\n",
       "      <th>rsubrating</th>\n",
       "      <th>vtype</th>\n",
       "      <th>amenities</th>\n",
       "      <th>details</th>\n",
       "      <th>v_name</th>\n",
       "      <th>rating_cat</th>\n",
       "      <th>gd</th>\n",
       "    </tr>\n",
       "  </thead>\n",
       "  <tbody>\n",
       "    <tr>\n",
       "      <th>0</th>\n",
       "      <td>[10, 33]</td>\n",
       "      <td>60.0</td>\n",
       "      <td>NaN</td>\n",
       "      <td>[-115.06332, 36.1191]</td>\n",
       "      <td>{}</td>\n",
       "      <td>Hotel_Review</td>\n",
       "      <td>{'Services': 'Free Parking Banquet Room Self-S...</td>\n",
       "      <td>{'Number of rooms:': '398 ', 'Address:': '3890...</td>\n",
       "      <td>Las Vegas RV Resort</td>\n",
       "      <td>4.0</td>\n",
       "      <td>g45963-d3600552</td>\n",
       "    </tr>\n",
       "    <tr>\n",
       "      <th>1</th>\n",
       "      <td>[209, 267]</td>\n",
       "      <td>63.0</td>\n",
       "      <td>NaN</td>\n",
       "      <td>[-115.08308, 36.127922]</td>\n",
       "      <td>{}</td>\n",
       "      <td>Hotel_Review</td>\n",
       "      <td>{'Things to do': 'Pool Fitness Center with Gym...</td>\n",
       "      <td>{'Address:': '4240 Boulder Hwy, Las Vegas, NV ...</td>\n",
       "      <td>Crossland Economy Studios - Las Vegas - Boulde...</td>\n",
       "      <td>2.5</td>\n",
       "      <td>g45963-d97850</td>\n",
       "    </tr>\n",
       "    <tr>\n",
       "      <th>2</th>\n",
       "      <td>[197, 267]</td>\n",
       "      <td>100.0</td>\n",
       "      <td>NaN</td>\n",
       "      <td>[-115.19604, 36.20166]</td>\n",
       "      <td>{}</td>\n",
       "      <td>Hotel_Review</td>\n",
       "      <td>{'Room types': 'Non-Smoking Rooms ', 'Services...</td>\n",
       "      <td>{'Address:': '2400 N Rancho Dr, Las Vegas, NV ...</td>\n",
       "      <td>Fiesta Rancho Hotel and Casino</td>\n",
       "      <td>2.5</td>\n",
       "      <td>g45963-d121329</td>\n",
       "    </tr>\n",
       "    <tr>\n",
       "      <th>3</th>\n",
       "      <td>[228, 267]</td>\n",
       "      <td>27.0</td>\n",
       "      <td>NaN</td>\n",
       "      <td>[-115.19868, 36.201473]</td>\n",
       "      <td>{}</td>\n",
       "      <td>Hotel_Review</td>\n",
       "      <td>{'Things to do': 'Pool ', 'About the property'...</td>\n",
       "      <td>{'Also Known As:': 'Budget Suites Of America N...</td>\n",
       "      <td>Budget Suites of America North Rancho Drive</td>\n",
       "      <td>1.5</td>\n",
       "      <td>g45963-d91750</td>\n",
       "    </tr>\n",
       "    <tr>\n",
       "      <th>4</th>\n",
       "      <td>[1, 33]</td>\n",
       "      <td>271.0</td>\n",
       "      <td>NaN</td>\n",
       "      <td>[-115.1785, 36.040703]</td>\n",
       "      <td>{}</td>\n",
       "      <td>Hotel_Review</td>\n",
       "      <td>{'Services': 'Self-Serve Laundry Free Parking ...</td>\n",
       "      <td>{'Also Known As:': 'Oasis Las Vegas Rv Hotel L...</td>\n",
       "      <td>Oasis Las Vegas RV Resort</td>\n",
       "      <td>4.5</td>\n",
       "      <td>g45963-d226809</td>\n",
       "    </tr>\n",
       "  </tbody>\n",
       "</table>\n",
       "</div>"
      ],
      "text/plain": [
       "      ranking  rating_vol  rdetails                   lnglat rsubrating  \\\n",
       "0    [10, 33]        60.0       NaN    [-115.06332, 36.1191]         {}   \n",
       "1  [209, 267]        63.0       NaN  [-115.08308, 36.127922]         {}   \n",
       "2  [197, 267]       100.0       NaN   [-115.19604, 36.20166]         {}   \n",
       "3  [228, 267]        27.0       NaN  [-115.19868, 36.201473]         {}   \n",
       "4     [1, 33]       271.0       NaN   [-115.1785, 36.040703]         {}   \n",
       "\n",
       "          vtype                                          amenities  \\\n",
       "0  Hotel_Review  {'Services': 'Free Parking Banquet Room Self-S...   \n",
       "1  Hotel_Review  {'Things to do': 'Pool Fitness Center with Gym...   \n",
       "2  Hotel_Review  {'Room types': 'Non-Smoking Rooms ', 'Services...   \n",
       "3  Hotel_Review  {'Things to do': 'Pool ', 'About the property'...   \n",
       "4  Hotel_Review  {'Services': 'Self-Serve Laundry Free Parking ...   \n",
       "\n",
       "                                             details  \\\n",
       "0  {'Number of rooms:': '398 ', 'Address:': '3890...   \n",
       "1  {'Address:': '4240 Boulder Hwy, Las Vegas, NV ...   \n",
       "2  {'Address:': '2400 N Rancho Dr, Las Vegas, NV ...   \n",
       "3  {'Also Known As:': 'Budget Suites Of America N...   \n",
       "4  {'Also Known As:': 'Oasis Las Vegas Rv Hotel L...   \n",
       "\n",
       "                                              v_name  rating_cat  \\\n",
       "0                                Las Vegas RV Resort         4.0   \n",
       "1  Crossland Economy Studios - Las Vegas - Boulde...         2.5   \n",
       "2                     Fiesta Rancho Hotel and Casino         2.5   \n",
       "3        Budget Suites of America North Rancho Drive         1.5   \n",
       "4                          Oasis Las Vegas RV Resort         4.5   \n",
       "\n",
       "                gd  \n",
       "0  g45963-d3600552  \n",
       "1    g45963-d97850  \n",
       "2   g45963-d121329  \n",
       "3    g45963-d91750  \n",
       "4   g45963-d226809  "
      ]
     },
     "execution_count": 6,
     "metadata": {},
     "output_type": "execute_result"
    }
   ],
   "source": [
    "# read in the vegas_vinfo file (vegas venue info)\n",
    "df_biz = pandas.read_csv(fpath + 'vegas_vinfo.csv', index_col = 0)\n",
    "df_biz.head()"
   ]
  },
  {
   "cell_type": "markdown",
   "metadata": {
    "id": "kbjtLQLXpNGr"
   },
   "source": [
    "Variable definitions\n",
    "1. ranking: list [hotel rank, total hotels in neighborhood]\n",
    "1. rating_vol: total ratings\n",
    "1. rdetails: ignore, none of hotels have this field (only restaurants do)\n",
    "1. lnglat: [longitude,latitude] of hotel\n",
    "1. rsubrating: ignore, only restaurants have this\n",
    "1. amenities: a dictionary of amenities categories mapped to amenities list\n",
    "1. details: a dictionary of hotel information fields mapped to hotel data (like addrese, phone, website, etc.)\n",
    "1. v_name: the official name of the hotel \n",
    "1. rating_cat: The summary star rating (in half star increments) displayed to the user. \n",
    "1. gd: The unique hotel identifier."
   ]
  },
  {
   "cell_type": "code",
   "execution_count": 7,
   "metadata": {
    "id": "Or-scSN3d5iJ"
   },
   "outputs": [
    {
     "data": {
      "text/plain": [
       "(237, 11)"
      ]
     },
     "execution_count": 7,
     "metadata": {},
     "output_type": "execute_result"
    }
   ],
   "source": [
    "# return the shape of df_biz:\n",
    "df_biz.shape"
   ]
  },
  {
   "cell_type": "code",
   "execution_count": 8,
   "metadata": {
    "id": "ygm_bvoeneF3"
   },
   "outputs": [
    {
     "data": {
      "text/html": [
       "<div>\n",
       "<style scoped>\n",
       "    .dataframe tbody tr th:only-of-type {\n",
       "        vertical-align: middle;\n",
       "    }\n",
       "\n",
       "    .dataframe tbody tr th {\n",
       "        vertical-align: top;\n",
       "    }\n",
       "\n",
       "    .dataframe thead th {\n",
       "        text-align: right;\n",
       "    }\n",
       "</style>\n",
       "<table border=\"1\" class=\"dataframe\">\n",
       "  <thead>\n",
       "    <tr style=\"text-align: right;\">\n",
       "      <th></th>\n",
       "      <th>ranking</th>\n",
       "      <th>rating_vol</th>\n",
       "      <th>rdetails</th>\n",
       "      <th>lnglat</th>\n",
       "      <th>rsubrating</th>\n",
       "      <th>vtype</th>\n",
       "      <th>amenities</th>\n",
       "      <th>details</th>\n",
       "      <th>v_name</th>\n",
       "      <th>rating_cat</th>\n",
       "      <th>gd</th>\n",
       "    </tr>\n",
       "  </thead>\n",
       "  <tbody>\n",
       "    <tr>\n",
       "      <th>0</th>\n",
       "      <td>[10, 33]</td>\n",
       "      <td>60.0</td>\n",
       "      <td>NaN</td>\n",
       "      <td>[-115.06332, 36.1191]</td>\n",
       "      <td>{}</td>\n",
       "      <td>Hotel_Review</td>\n",
       "      <td>{'Services': 'Free Parking Banquet Room Self-S...</td>\n",
       "      <td>{'Number of rooms:': '398 ', 'Address:': '3890...</td>\n",
       "      <td>Las Vegas RV Resort</td>\n",
       "      <td>4.0</td>\n",
       "      <td>g45963-d3600552</td>\n",
       "    </tr>\n",
       "    <tr>\n",
       "      <th>1</th>\n",
       "      <td>[209, 267]</td>\n",
       "      <td>63.0</td>\n",
       "      <td>NaN</td>\n",
       "      <td>[-115.08308, 36.127922]</td>\n",
       "      <td>{}</td>\n",
       "      <td>Hotel_Review</td>\n",
       "      <td>{'Things to do': 'Pool Fitness Center with Gym...</td>\n",
       "      <td>{'Address:': '4240 Boulder Hwy, Las Vegas, NV ...</td>\n",
       "      <td>Crossland Economy Studios - Las Vegas - Boulde...</td>\n",
       "      <td>2.5</td>\n",
       "      <td>g45963-d97850</td>\n",
       "    </tr>\n",
       "    <tr>\n",
       "      <th>2</th>\n",
       "      <td>[197, 267]</td>\n",
       "      <td>100.0</td>\n",
       "      <td>NaN</td>\n",
       "      <td>[-115.19604, 36.20166]</td>\n",
       "      <td>{}</td>\n",
       "      <td>Hotel_Review</td>\n",
       "      <td>{'Room types': 'Non-Smoking Rooms ', 'Services...</td>\n",
       "      <td>{'Address:': '2400 N Rancho Dr, Las Vegas, NV ...</td>\n",
       "      <td>Fiesta Rancho Hotel and Casino</td>\n",
       "      <td>2.5</td>\n",
       "      <td>g45963-d121329</td>\n",
       "    </tr>\n",
       "    <tr>\n",
       "      <th>3</th>\n",
       "      <td>[228, 267]</td>\n",
       "      <td>27.0</td>\n",
       "      <td>NaN</td>\n",
       "      <td>[-115.19868, 36.201473]</td>\n",
       "      <td>{}</td>\n",
       "      <td>Hotel_Review</td>\n",
       "      <td>{'Things to do': 'Pool ', 'About the property'...</td>\n",
       "      <td>{'Also Known As:': 'Budget Suites Of America N...</td>\n",
       "      <td>Budget Suites of America North Rancho Drive</td>\n",
       "      <td>1.5</td>\n",
       "      <td>g45963-d91750</td>\n",
       "    </tr>\n",
       "    <tr>\n",
       "      <th>4</th>\n",
       "      <td>[1, 33]</td>\n",
       "      <td>271.0</td>\n",
       "      <td>NaN</td>\n",
       "      <td>[-115.1785, 36.040703]</td>\n",
       "      <td>{}</td>\n",
       "      <td>Hotel_Review</td>\n",
       "      <td>{'Services': 'Self-Serve Laundry Free Parking ...</td>\n",
       "      <td>{'Also Known As:': 'Oasis Las Vegas Rv Hotel L...</td>\n",
       "      <td>Oasis Las Vegas RV Resort</td>\n",
       "      <td>4.5</td>\n",
       "      <td>g45963-d226809</td>\n",
       "    </tr>\n",
       "  </tbody>\n",
       "</table>\n",
       "</div>"
      ],
      "text/plain": [
       "      ranking  rating_vol  rdetails                   lnglat rsubrating  \\\n",
       "0    [10, 33]        60.0       NaN    [-115.06332, 36.1191]         {}   \n",
       "1  [209, 267]        63.0       NaN  [-115.08308, 36.127922]         {}   \n",
       "2  [197, 267]       100.0       NaN   [-115.19604, 36.20166]         {}   \n",
       "3  [228, 267]        27.0       NaN  [-115.19868, 36.201473]         {}   \n",
       "4     [1, 33]       271.0       NaN   [-115.1785, 36.040703]         {}   \n",
       "\n",
       "          vtype                                          amenities  \\\n",
       "0  Hotel_Review  {'Services': 'Free Parking Banquet Room Self-S...   \n",
       "1  Hotel_Review  {'Things to do': 'Pool Fitness Center with Gym...   \n",
       "2  Hotel_Review  {'Room types': 'Non-Smoking Rooms ', 'Services...   \n",
       "3  Hotel_Review  {'Things to do': 'Pool ', 'About the property'...   \n",
       "4  Hotel_Review  {'Services': 'Self-Serve Laundry Free Parking ...   \n",
       "\n",
       "                                             details  \\\n",
       "0  {'Number of rooms:': '398 ', 'Address:': '3890...   \n",
       "1  {'Address:': '4240 Boulder Hwy, Las Vegas, NV ...   \n",
       "2  {'Address:': '2400 N Rancho Dr, Las Vegas, NV ...   \n",
       "3  {'Also Known As:': 'Budget Suites Of America N...   \n",
       "4  {'Also Known As:': 'Oasis Las Vegas Rv Hotel L...   \n",
       "\n",
       "                                              v_name  rating_cat  \\\n",
       "0                                Las Vegas RV Resort         4.0   \n",
       "1  Crossland Economy Studios - Las Vegas - Boulde...         2.5   \n",
       "2                     Fiesta Rancho Hotel and Casino         2.5   \n",
       "3        Budget Suites of America North Rancho Drive         1.5   \n",
       "4                          Oasis Las Vegas RV Resort         4.5   \n",
       "\n",
       "                gd  \n",
       "0  g45963-d3600552  \n",
       "1    g45963-d97850  \n",
       "2   g45963-d121329  \n",
       "3    g45963-d91750  \n",
       "4   g45963-d226809  "
      ]
     },
     "execution_count": 8,
     "metadata": {},
     "output_type": "execute_result"
    }
   ],
   "source": [
    "# preview df_biz\n",
    "df_biz.head(5)"
   ]
  },
  {
   "cell_type": "markdown",
   "metadata": {
    "id": "hcYaXxKvnjFW"
   },
   "source": [
    "**Answer these**\n",
    "1. What does 1 row of `df_biz` represent (e.g., reviewers, hotels, cities, etc.)? **Answer -- 1 hotel and the corresponding ranking, location, amendities, etc. for that particular hotel** \\\n",
    "1. How many hotels are in this dataset? **Answer -- 237**\n"
   ]
  },
  {
   "cell_type": "code",
   "execution_count": 9,
   "metadata": {
    "id": "A-RoSIxhtulp"
   },
   "outputs": [],
   "source": [
    "# read in the vegas2015reviews.csv file\n",
    "df = pandas.read_csv(fpath + 'vegas2015reviews.csv', index_col = 0)\n"
   ]
  },
  {
   "cell_type": "markdown",
   "metadata": {
    "id": "RpBfqV4rEyno"
   },
   "source": [
    "Variable definitions\n",
    "\n",
    "1. gd: hotel identifier\n",
    "1. helpful_num: number of helpful votes\n",
    "1. location: location of the reviewer\n",
    "1. mgrRspnDummy: whether a manager responded to the review\n",
    "1. mgr_res_date: when the manager responded\n",
    "1. mrtext: reply of the manager\n",
    "1. ratingDate: when the review was written\n",
    "1. review_id: unique identifer for each review\n",
    "1. reviewrating: rationg (1-5) given by the reviewer\n",
    "1. reviewtext: the text of the review\n",
    "1. reviewtitle: title of the review\n",
    "1. stay_month: 1-12 month of the stay\n",
    "1. stay_year: year of the stay\n",
    "1. travel_category: stated purpose of the stay\n",
    "1. username: user's tripadvisor screen name"
   ]
  },
  {
   "cell_type": "code",
   "execution_count": 10,
   "metadata": {
    "id": "nnpy50gJoFbq"
   },
   "outputs": [],
   "source": [
    "# convert ratingDate column to pandas datetime format using the pd.to_datetime function\n",
    "df['ratingDate'] = pandas.to_datetime(df['ratingDate'])"
   ]
  },
  {
   "cell_type": "code",
   "execution_count": 11,
   "metadata": {
    "id": "CCTgIq2koMiQ"
   },
   "outputs": [
    {
     "data": {
      "text/plain": [
       "[Timestamp('2015-07-01 00:00:00'),\n",
       " Timestamp('2015-07-01 00:00:00'),\n",
       " Timestamp('2015-06-30 00:00:00'),\n",
       " Timestamp('2015-06-13 00:00:00'),\n",
       " Timestamp('2015-06-13 00:00:00'),\n",
       " Timestamp('2015-06-12 00:00:00'),\n",
       " Timestamp('2015-06-12 00:00:00'),\n",
       " Timestamp('2015-06-12 00:00:00'),\n",
       " Timestamp('2015-06-11 00:00:00'),\n",
       " Timestamp('2015-06-11 00:00:00'),\n",
       " Timestamp('2015-06-11 00:00:00'),\n",
       " Timestamp('2015-06-11 00:00:00'),\n",
       " Timestamp('2015-06-11 00:00:00'),\n",
       " Timestamp('2015-06-30 00:00:00'),\n",
       " Timestamp('2015-06-11 00:00:00'),\n",
       " Timestamp('2015-06-11 00:00:00'),\n",
       " Timestamp('2015-06-11 00:00:00'),\n",
       " Timestamp('2015-06-11 00:00:00'),\n",
       " Timestamp('2015-06-11 00:00:00'),\n",
       " Timestamp('2015-06-10 00:00:00'),\n",
       " Timestamp('2015-06-10 00:00:00'),\n",
       " Timestamp('2015-06-10 00:00:00'),\n",
       " Timestamp('2015-06-10 00:00:00'),\n",
       " Timestamp('2015-06-10 00:00:00'),\n",
       " Timestamp('2015-06-30 00:00:00'),\n",
       " Timestamp('2015-06-10 00:00:00'),\n",
       " Timestamp('2015-06-10 00:00:00'),\n",
       " Timestamp('2015-06-09 00:00:00'),\n",
       " Timestamp('2015-06-09 00:00:00'),\n",
       " Timestamp('2015-06-09 00:00:00'),\n",
       " Timestamp('2015-06-08 00:00:00'),\n",
       " Timestamp('2015-06-08 00:00:00'),\n",
       " Timestamp('2015-06-08 00:00:00'),\n",
       " Timestamp('2015-06-08 00:00:00'),\n",
       " Timestamp('2015-06-07 00:00:00'),\n",
       " Timestamp('2015-06-30 00:00:00'),\n",
       " Timestamp('2015-06-07 00:00:00'),\n",
       " Timestamp('2015-06-07 00:00:00'),\n",
       " Timestamp('2015-06-07 00:00:00'),\n",
       " Timestamp('2015-06-06 00:00:00'),\n",
       " Timestamp('2015-06-06 00:00:00'),\n",
       " Timestamp('2015-06-05 00:00:00'),\n",
       " Timestamp('2015-06-05 00:00:00'),\n",
       " Timestamp('2015-06-05 00:00:00'),\n",
       " Timestamp('2015-06-05 00:00:00'),\n",
       " Timestamp('2015-06-05 00:00:00'),\n",
       " Timestamp('2015-06-30 00:00:00'),\n",
       " Timestamp('2015-06-04 00:00:00'),\n",
       " Timestamp('2015-06-03 00:00:00'),\n",
       " Timestamp('2015-06-03 00:00:00'),\n",
       " Timestamp('2015-06-03 00:00:00'),\n",
       " Timestamp('2015-06-03 00:00:00'),\n",
       " Timestamp('2015-06-03 00:00:00'),\n",
       " Timestamp('2015-06-03 00:00:00'),\n",
       " Timestamp('2015-06-03 00:00:00'),\n",
       " Timestamp('2015-06-03 00:00:00'),\n",
       " Timestamp('2015-06-03 00:00:00'),\n",
       " Timestamp('2015-06-30 00:00:00'),\n",
       " Timestamp('2015-06-03 00:00:00'),\n",
       " Timestamp('2015-06-02 00:00:00'),\n",
       " Timestamp('2015-06-02 00:00:00'),\n",
       " Timestamp('2015-06-02 00:00:00'),\n",
       " Timestamp('2015-06-01 00:00:00'),\n",
       " Timestamp('2015-06-01 00:00:00'),\n",
       " Timestamp('2015-05-31 00:00:00'),\n",
       " Timestamp('2015-05-31 00:00:00'),\n",
       " Timestamp('2015-05-31 00:00:00'),\n",
       " Timestamp('2015-05-31 00:00:00'),\n",
       " Timestamp('2015-06-30 00:00:00'),\n",
       " Timestamp('2015-05-31 00:00:00'),\n",
       " Timestamp('2015-05-31 00:00:00'),\n",
       " Timestamp('2015-05-31 00:00:00'),\n",
       " Timestamp('2015-05-31 00:00:00'),\n",
       " Timestamp('2015-05-30 00:00:00'),\n",
       " Timestamp('2015-05-30 00:00:00'),\n",
       " Timestamp('2015-05-30 00:00:00'),\n",
       " Timestamp('2015-05-29 00:00:00'),\n",
       " Timestamp('2015-05-29 00:00:00'),\n",
       " Timestamp('2015-05-29 00:00:00'),\n",
       " Timestamp('2015-06-29 00:00:00'),\n",
       " Timestamp('2015-05-29 00:00:00'),\n",
       " Timestamp('2015-05-29 00:00:00'),\n",
       " Timestamp('2015-05-28 00:00:00'),\n",
       " Timestamp('2015-05-28 00:00:00'),\n",
       " Timestamp('2015-05-28 00:00:00'),\n",
       " Timestamp('2015-05-28 00:00:00'),\n",
       " Timestamp('2015-05-28 00:00:00'),\n",
       " Timestamp('2015-05-28 00:00:00'),\n",
       " Timestamp('2015-05-27 00:00:00'),\n",
       " Timestamp('2015-05-27 00:00:00'),\n",
       " Timestamp('2015-06-29 00:00:00'),\n",
       " Timestamp('2015-05-27 00:00:00'),\n",
       " Timestamp('2015-05-27 00:00:00'),\n",
       " Timestamp('2015-05-27 00:00:00'),\n",
       " Timestamp('2015-05-27 00:00:00'),\n",
       " Timestamp('2015-05-26 00:00:00'),\n",
       " Timestamp('2015-05-26 00:00:00'),\n",
       " Timestamp('2015-05-26 00:00:00'),\n",
       " Timestamp('2015-05-26 00:00:00'),\n",
       " Timestamp('2015-05-26 00:00:00'),\n",
       " Timestamp('2015-05-26 00:00:00'),\n",
       " Timestamp('2015-06-29 00:00:00'),\n",
       " Timestamp('2015-05-26 00:00:00'),\n",
       " Timestamp('2015-05-26 00:00:00'),\n",
       " Timestamp('2015-05-26 00:00:00'),\n",
       " Timestamp('2015-05-26 00:00:00'),\n",
       " Timestamp('2015-05-26 00:00:00'),\n",
       " Timestamp('2015-05-25 00:00:00'),\n",
       " Timestamp('2015-05-25 00:00:00'),\n",
       " Timestamp('2015-05-25 00:00:00'),\n",
       " Timestamp('2015-05-24 00:00:00'),\n",
       " Timestamp('2015-05-24 00:00:00'),\n",
       " Timestamp('2015-07-01 00:00:00'),\n",
       " Timestamp('2015-06-29 00:00:00'),\n",
       " Timestamp('2015-05-24 00:00:00'),\n",
       " Timestamp('2015-05-24 00:00:00'),\n",
       " Timestamp('2015-05-22 00:00:00'),\n",
       " Timestamp('2015-05-22 00:00:00'),\n",
       " Timestamp('2015-05-22 00:00:00'),\n",
       " Timestamp('2015-05-22 00:00:00'),\n",
       " Timestamp('2015-05-22 00:00:00'),\n",
       " Timestamp('2015-05-22 00:00:00'),\n",
       " Timestamp('2015-05-22 00:00:00'),\n",
       " Timestamp('2015-05-21 00:00:00'),\n",
       " Timestamp('2015-06-29 00:00:00'),\n",
       " Timestamp('2015-05-21 00:00:00'),\n",
       " Timestamp('2015-05-21 00:00:00'),\n",
       " Timestamp('2015-05-20 00:00:00'),\n",
       " Timestamp('2015-05-20 00:00:00'),\n",
       " Timestamp('2015-05-20 00:00:00'),\n",
       " Timestamp('2015-05-19 00:00:00'),\n",
       " Timestamp('2015-05-19 00:00:00'),\n",
       " Timestamp('2015-05-19 00:00:00'),\n",
       " Timestamp('2015-05-19 00:00:00'),\n",
       " Timestamp('2015-06-28 00:00:00'),\n",
       " Timestamp('2015-05-19 00:00:00'),\n",
       " Timestamp('2015-05-19 00:00:00'),\n",
       " Timestamp('2015-05-19 00:00:00'),\n",
       " Timestamp('2015-05-19 00:00:00'),\n",
       " Timestamp('2015-05-19 00:00:00'),\n",
       " Timestamp('2015-05-19 00:00:00'),\n",
       " Timestamp('2015-05-18 00:00:00'),\n",
       " Timestamp('2015-05-18 00:00:00'),\n",
       " Timestamp('2015-05-18 00:00:00'),\n",
       " Timestamp('2015-05-17 00:00:00'),\n",
       " Timestamp('2015-06-28 00:00:00'),\n",
       " Timestamp('2015-05-16 00:00:00'),\n",
       " Timestamp('2015-05-16 00:00:00'),\n",
       " Timestamp('2015-05-15 00:00:00'),\n",
       " Timestamp('2015-05-15 00:00:00'),\n",
       " Timestamp('2015-05-14 00:00:00'),\n",
       " Timestamp('2015-05-14 00:00:00'),\n",
       " Timestamp('2015-05-14 00:00:00'),\n",
       " Timestamp('2015-05-13 00:00:00'),\n",
       " Timestamp('2015-05-13 00:00:00'),\n",
       " Timestamp('2015-05-12 00:00:00'),\n",
       " Timestamp('2015-06-28 00:00:00'),\n",
       " Timestamp('2015-05-12 00:00:00'),\n",
       " Timestamp('2015-05-12 00:00:00'),\n",
       " Timestamp('2015-05-12 00:00:00'),\n",
       " Timestamp('2015-05-12 00:00:00'),\n",
       " Timestamp('2015-05-11 00:00:00'),\n",
       " Timestamp('2015-05-11 00:00:00'),\n",
       " Timestamp('2015-05-11 00:00:00'),\n",
       " Timestamp('2015-05-11 00:00:00'),\n",
       " Timestamp('2015-05-11 00:00:00'),\n",
       " Timestamp('2015-05-11 00:00:00'),\n",
       " Timestamp('2015-06-28 00:00:00'),\n",
       " Timestamp('2015-05-11 00:00:00'),\n",
       " Timestamp('2015-05-11 00:00:00'),\n",
       " Timestamp('2015-05-11 00:00:00'),\n",
       " Timestamp('2015-05-10 00:00:00'),\n",
       " Timestamp('2015-05-10 00:00:00'),\n",
       " Timestamp('2015-05-10 00:00:00'),\n",
       " Timestamp('2015-05-09 00:00:00'),\n",
       " Timestamp('2015-05-09 00:00:00'),\n",
       " Timestamp('2015-05-09 00:00:00'),\n",
       " Timestamp('2015-05-09 00:00:00'),\n",
       " Timestamp('2015-06-28 00:00:00'),\n",
       " Timestamp('2015-05-09 00:00:00'),\n",
       " Timestamp('2015-05-08 00:00:00'),\n",
       " Timestamp('2015-05-08 00:00:00'),\n",
       " Timestamp('2015-05-08 00:00:00'),\n",
       " Timestamp('2015-05-08 00:00:00'),\n",
       " Timestamp('2015-05-08 00:00:00'),\n",
       " Timestamp('2015-05-08 00:00:00'),\n",
       " Timestamp('2015-05-08 00:00:00'),\n",
       " Timestamp('2015-05-07 00:00:00'),\n",
       " Timestamp('2015-05-07 00:00:00'),\n",
       " Timestamp('2015-06-28 00:00:00'),\n",
       " Timestamp('2015-05-07 00:00:00'),\n",
       " Timestamp('2015-05-07 00:00:00'),\n",
       " Timestamp('2015-05-07 00:00:00'),\n",
       " Timestamp('2015-05-07 00:00:00'),\n",
       " Timestamp('2015-05-06 00:00:00'),\n",
       " Timestamp('2015-05-06 00:00:00'),\n",
       " Timestamp('2015-05-06 00:00:00'),\n",
       " Timestamp('2015-05-06 00:00:00'),\n",
       " Timestamp('2015-05-05 00:00:00'),\n",
       " Timestamp('2015-05-05 00:00:00'),\n",
       " Timestamp('2015-06-28 00:00:00'),\n",
       " Timestamp('2015-05-04 00:00:00'),\n",
       " Timestamp('2015-05-04 00:00:00'),\n",
       " Timestamp('2015-05-03 00:00:00'),\n",
       " Timestamp('2015-05-03 00:00:00'),\n",
       " Timestamp('2015-05-03 00:00:00'),\n",
       " Timestamp('2015-05-03 00:00:00'),\n",
       " Timestamp('2015-05-03 00:00:00'),\n",
       " Timestamp('2015-05-02 00:00:00'),\n",
       " Timestamp('2015-05-02 00:00:00'),\n",
       " Timestamp('2015-05-02 00:00:00'),\n",
       " Timestamp('2015-06-27 00:00:00'),\n",
       " Timestamp('2015-05-01 00:00:00'),\n",
       " Timestamp('2015-05-01 00:00:00'),\n",
       " Timestamp('2015-05-01 00:00:00'),\n",
       " Timestamp('2015-05-01 00:00:00'),\n",
       " Timestamp('2015-04-30 00:00:00'),\n",
       " Timestamp('2015-04-30 00:00:00'),\n",
       " Timestamp('2015-04-29 00:00:00'),\n",
       " Timestamp('2015-04-29 00:00:00'),\n",
       " Timestamp('2015-04-29 00:00:00'),\n",
       " Timestamp('2015-04-29 00:00:00'),\n",
       " Timestamp('2015-07-01 00:00:00'),\n",
       " Timestamp('2015-06-27 00:00:00'),\n",
       " Timestamp('2015-04-28 00:00:00'),\n",
       " Timestamp('2015-04-28 00:00:00'),\n",
       " Timestamp('2015-04-28 00:00:00'),\n",
       " Timestamp('2015-04-28 00:00:00'),\n",
       " Timestamp('2015-04-27 00:00:00'),\n",
       " Timestamp('2015-04-27 00:00:00'),\n",
       " Timestamp('2015-04-27 00:00:00'),\n",
       " Timestamp('2015-04-27 00:00:00'),\n",
       " Timestamp('2015-04-27 00:00:00'),\n",
       " Timestamp('2015-04-27 00:00:00'),\n",
       " Timestamp('2015-06-27 00:00:00'),\n",
       " Timestamp('2015-04-27 00:00:00'),\n",
       " Timestamp('2015-04-26 00:00:00'),\n",
       " Timestamp('2015-04-26 00:00:00'),\n",
       " Timestamp('2015-04-26 00:00:00'),\n",
       " Timestamp('2015-04-26 00:00:00'),\n",
       " Timestamp('2015-04-25 00:00:00'),\n",
       " Timestamp('2015-04-25 00:00:00'),\n",
       " Timestamp('2015-04-24 00:00:00'),\n",
       " Timestamp('2015-04-24 00:00:00'),\n",
       " Timestamp('2015-04-24 00:00:00'),\n",
       " Timestamp('2015-06-26 00:00:00'),\n",
       " Timestamp('2015-04-24 00:00:00'),\n",
       " Timestamp('2015-04-24 00:00:00'),\n",
       " Timestamp('2015-04-24 00:00:00'),\n",
       " Timestamp('2015-04-23 00:00:00'),\n",
       " Timestamp('2015-04-23 00:00:00'),\n",
       " Timestamp('2015-04-23 00:00:00'),\n",
       " Timestamp('2015-04-23 00:00:00'),\n",
       " Timestamp('2015-04-22 00:00:00'),\n",
       " Timestamp('2015-04-22 00:00:00'),\n",
       " Timestamp('2015-04-21 00:00:00'),\n",
       " Timestamp('2015-06-26 00:00:00'),\n",
       " Timestamp('2015-04-21 00:00:00'),\n",
       " Timestamp('2015-04-21 00:00:00'),\n",
       " Timestamp('2015-04-21 00:00:00'),\n",
       " Timestamp('2015-04-21 00:00:00'),\n",
       " Timestamp('2015-04-21 00:00:00'),\n",
       " Timestamp('2015-04-21 00:00:00'),\n",
       " Timestamp('2015-04-21 00:00:00'),\n",
       " Timestamp('2015-04-20 00:00:00'),\n",
       " Timestamp('2015-04-20 00:00:00'),\n",
       " Timestamp('2015-04-20 00:00:00'),\n",
       " Timestamp('2015-06-26 00:00:00'),\n",
       " Timestamp('2015-04-19 00:00:00'),\n",
       " Timestamp('2015-04-19 00:00:00'),\n",
       " Timestamp('2015-04-18 00:00:00'),\n",
       " Timestamp('2015-04-18 00:00:00'),\n",
       " Timestamp('2015-04-18 00:00:00'),\n",
       " Timestamp('2015-04-17 00:00:00'),\n",
       " Timestamp('2015-04-17 00:00:00'),\n",
       " Timestamp('2015-04-17 00:00:00'),\n",
       " Timestamp('2015-04-17 00:00:00'),\n",
       " Timestamp('2015-04-16 00:00:00'),\n",
       " Timestamp('2015-06-26 00:00:00'),\n",
       " Timestamp('2015-04-16 00:00:00'),\n",
       " Timestamp('2015-04-16 00:00:00'),\n",
       " Timestamp('2015-04-16 00:00:00'),\n",
       " Timestamp('2015-04-16 00:00:00'),\n",
       " Timestamp('2015-04-16 00:00:00'),\n",
       " Timestamp('2015-04-15 00:00:00'),\n",
       " Timestamp('2015-04-15 00:00:00'),\n",
       " Timestamp('2015-04-15 00:00:00'),\n",
       " Timestamp('2015-04-15 00:00:00'),\n",
       " Timestamp('2015-04-15 00:00:00'),\n",
       " Timestamp('2015-06-25 00:00:00'),\n",
       " Timestamp('2015-04-14 00:00:00'),\n",
       " Timestamp('2015-04-13 00:00:00'),\n",
       " Timestamp('2015-04-13 00:00:00'),\n",
       " Timestamp('2015-04-13 00:00:00'),\n",
       " Timestamp('2015-04-13 00:00:00'),\n",
       " Timestamp('2015-04-13 00:00:00'),\n",
       " Timestamp('2015-04-13 00:00:00'),\n",
       " Timestamp('2015-04-13 00:00:00'),\n",
       " Timestamp('2015-04-12 00:00:00'),\n",
       " Timestamp('2015-04-12 00:00:00'),\n",
       " Timestamp('2015-06-25 00:00:00'),\n",
       " Timestamp('2015-04-12 00:00:00'),\n",
       " Timestamp('2015-04-12 00:00:00'),\n",
       " Timestamp('2015-04-12 00:00:00'),\n",
       " Timestamp('2015-04-12 00:00:00'),\n",
       " Timestamp('2015-04-12 00:00:00'),\n",
       " Timestamp('2015-04-11 00:00:00'),\n",
       " Timestamp('2015-04-11 00:00:00'),\n",
       " Timestamp('2015-04-11 00:00:00'),\n",
       " Timestamp('2015-04-11 00:00:00'),\n",
       " Timestamp('2015-04-11 00:00:00'),\n",
       " Timestamp('2015-06-25 00:00:00'),\n",
       " Timestamp('2015-04-11 00:00:00'),\n",
       " Timestamp('2015-04-11 00:00:00'),\n",
       " Timestamp('2015-04-10 00:00:00'),\n",
       " Timestamp('2015-04-10 00:00:00'),\n",
       " Timestamp('2015-04-10 00:00:00'),\n",
       " Timestamp('2015-04-10 00:00:00'),\n",
       " Timestamp('2015-04-10 00:00:00'),\n",
       " Timestamp('2015-04-10 00:00:00'),\n",
       " Timestamp('2015-04-09 00:00:00'),\n",
       " Timestamp('2015-04-09 00:00:00'),\n",
       " Timestamp('2015-06-25 00:00:00'),\n",
       " Timestamp('2015-04-09 00:00:00'),\n",
       " Timestamp('2015-04-09 00:00:00'),\n",
       " Timestamp('2015-04-09 00:00:00'),\n",
       " Timestamp('2015-04-08 00:00:00'),\n",
       " Timestamp('2015-04-08 00:00:00'),\n",
       " Timestamp('2015-04-08 00:00:00'),\n",
       " Timestamp('2015-04-08 00:00:00'),\n",
       " Timestamp('2015-04-08 00:00:00'),\n",
       " Timestamp('2015-04-07 00:00:00'),\n",
       " Timestamp('2015-04-07 00:00:00'),\n",
       " Timestamp('2015-06-30 00:00:00'),\n",
       " Timestamp('2015-06-25 00:00:00'),\n",
       " Timestamp('2015-04-07 00:00:00'),\n",
       " Timestamp('2015-04-07 00:00:00'),\n",
       " Timestamp('2015-04-07 00:00:00'),\n",
       " Timestamp('2015-04-07 00:00:00'),\n",
       " Timestamp('2015-04-06 00:00:00'),\n",
       " Timestamp('2015-04-06 00:00:00'),\n",
       " Timestamp('2015-04-06 00:00:00'),\n",
       " Timestamp('2015-04-06 00:00:00'),\n",
       " Timestamp('2015-04-06 00:00:00'),\n",
       " Timestamp('2015-04-06 00:00:00'),\n",
       " Timestamp('2015-06-25 00:00:00'),\n",
       " Timestamp('2015-04-06 00:00:00'),\n",
       " Timestamp('2015-04-06 00:00:00'),\n",
       " Timestamp('2015-04-06 00:00:00'),\n",
       " Timestamp('2015-04-05 00:00:00'),\n",
       " Timestamp('2015-04-05 00:00:00'),\n",
       " Timestamp('2015-04-05 00:00:00'),\n",
       " Timestamp('2015-04-05 00:00:00'),\n",
       " Timestamp('2015-04-05 00:00:00'),\n",
       " Timestamp('2015-04-05 00:00:00'),\n",
       " Timestamp('2015-04-04 00:00:00'),\n",
       " Timestamp('2015-06-25 00:00:00'),\n",
       " Timestamp('2015-04-04 00:00:00'),\n",
       " Timestamp('2015-04-04 00:00:00'),\n",
       " Timestamp('2015-04-04 00:00:00'),\n",
       " Timestamp('2015-04-04 00:00:00'),\n",
       " Timestamp('2015-04-04 00:00:00'),\n",
       " Timestamp('2015-04-04 00:00:00'),\n",
       " Timestamp('2015-04-04 00:00:00'),\n",
       " Timestamp('2015-04-03 00:00:00'),\n",
       " Timestamp('2015-04-03 00:00:00'),\n",
       " Timestamp('2015-04-03 00:00:00'),\n",
       " Timestamp('2015-06-25 00:00:00'),\n",
       " Timestamp('2015-04-02 00:00:00'),\n",
       " Timestamp('2015-04-02 00:00:00'),\n",
       " Timestamp('2015-04-02 00:00:00'),\n",
       " Timestamp('2015-04-02 00:00:00'),\n",
       " Timestamp('2015-04-02 00:00:00'),\n",
       " Timestamp('2015-04-02 00:00:00'),\n",
       " Timestamp('2015-04-02 00:00:00'),\n",
       " Timestamp('2015-04-02 00:00:00'),\n",
       " Timestamp('2015-04-01 00:00:00'),\n",
       " Timestamp('2015-04-01 00:00:00'),\n",
       " Timestamp('2015-06-24 00:00:00'),\n",
       " Timestamp('2015-04-01 00:00:00'),\n",
       " Timestamp('2015-04-01 00:00:00'),\n",
       " Timestamp('2015-04-01 00:00:00'),\n",
       " Timestamp('2015-04-01 00:00:00'),\n",
       " Timestamp('2015-04-01 00:00:00'),\n",
       " Timestamp('2015-04-01 00:00:00'),\n",
       " Timestamp('2015-03-31 00:00:00'),\n",
       " Timestamp('2015-03-31 00:00:00'),\n",
       " Timestamp('2015-03-31 00:00:00'),\n",
       " Timestamp('2015-03-31 00:00:00'),\n",
       " Timestamp('2015-06-24 00:00:00'),\n",
       " Timestamp('2015-03-31 00:00:00'),\n",
       " Timestamp('2015-03-31 00:00:00'),\n",
       " Timestamp('2015-03-30 00:00:00'),\n",
       " Timestamp('2015-03-30 00:00:00'),\n",
       " Timestamp('2015-03-30 00:00:00'),\n",
       " Timestamp('2015-03-30 00:00:00'),\n",
       " Timestamp('2015-03-30 00:00:00'),\n",
       " Timestamp('2015-03-29 00:00:00'),\n",
       " Timestamp('2015-03-29 00:00:00'),\n",
       " Timestamp('2015-03-29 00:00:00'),\n",
       " Timestamp('2015-06-24 00:00:00'),\n",
       " Timestamp('2015-03-28 00:00:00'),\n",
       " Timestamp('2015-03-28 00:00:00'),\n",
       " Timestamp('2015-03-27 00:00:00'),\n",
       " Timestamp('2015-03-27 00:00:00'),\n",
       " Timestamp('2015-03-27 00:00:00'),\n",
       " Timestamp('2015-03-27 00:00:00'),\n",
       " Timestamp('2015-03-27 00:00:00'),\n",
       " Timestamp('2015-03-26 00:00:00'),\n",
       " Timestamp('2015-03-25 00:00:00'),\n",
       " Timestamp('2015-03-25 00:00:00'),\n",
       " Timestamp('2015-06-24 00:00:00'),\n",
       " Timestamp('2015-03-25 00:00:00'),\n",
       " Timestamp('2015-03-24 00:00:00'),\n",
       " Timestamp('2015-03-24 00:00:00'),\n",
       " Timestamp('2015-03-24 00:00:00'),\n",
       " Timestamp('2015-03-23 00:00:00'),\n",
       " Timestamp('2015-03-23 00:00:00'),\n",
       " Timestamp('2015-03-23 00:00:00'),\n",
       " Timestamp('2015-03-23 00:00:00'),\n",
       " Timestamp('2015-03-23 00:00:00'),\n",
       " Timestamp('2015-03-23 00:00:00'),\n",
       " Timestamp('2015-06-24 00:00:00'),\n",
       " Timestamp('2015-03-22 00:00:00'),\n",
       " Timestamp('2015-03-22 00:00:00'),\n",
       " Timestamp('2015-03-21 00:00:00'),\n",
       " Timestamp('2015-03-21 00:00:00'),\n",
       " Timestamp('2015-03-21 00:00:00'),\n",
       " Timestamp('2015-03-20 00:00:00'),\n",
       " Timestamp('2015-03-20 00:00:00'),\n",
       " Timestamp('2015-03-20 00:00:00'),\n",
       " Timestamp('2015-03-20 00:00:00'),\n",
       " Timestamp('2015-03-20 00:00:00'),\n",
       " Timestamp('2015-06-24 00:00:00'),\n",
       " Timestamp('2015-03-19 00:00:00'),\n",
       " Timestamp('2015-03-19 00:00:00'),\n",
       " Timestamp('2015-03-19 00:00:00'),\n",
       " Timestamp('2015-03-19 00:00:00'),\n",
       " Timestamp('2015-03-19 00:00:00'),\n",
       " Timestamp('2015-03-19 00:00:00'),\n",
       " Timestamp('2015-03-19 00:00:00'),\n",
       " Timestamp('2015-03-19 00:00:00'),\n",
       " Timestamp('2015-03-18 00:00:00'),\n",
       " Timestamp('2015-03-18 00:00:00'),\n",
       " Timestamp('2015-06-30 00:00:00'),\n",
       " Timestamp('2015-06-23 00:00:00'),\n",
       " Timestamp('2015-03-18 00:00:00'),\n",
       " Timestamp('2015-03-18 00:00:00'),\n",
       " Timestamp('2015-03-17 00:00:00'),\n",
       " Timestamp('2015-03-17 00:00:00'),\n",
       " Timestamp('2015-03-17 00:00:00'),\n",
       " Timestamp('2015-03-17 00:00:00'),\n",
       " Timestamp('2015-03-16 00:00:00'),\n",
       " Timestamp('2015-03-16 00:00:00'),\n",
       " Timestamp('2015-03-16 00:00:00'),\n",
       " Timestamp('2015-03-16 00:00:00'),\n",
       " Timestamp('2015-06-23 00:00:00'),\n",
       " Timestamp('2015-03-16 00:00:00'),\n",
       " Timestamp('2015-03-16 00:00:00'),\n",
       " Timestamp('2015-03-16 00:00:00'),\n",
       " Timestamp('2015-03-16 00:00:00'),\n",
       " Timestamp('2015-03-16 00:00:00'),\n",
       " Timestamp('2015-03-16 00:00:00'),\n",
       " Timestamp('2015-03-15 00:00:00'),\n",
       " Timestamp('2015-03-15 00:00:00'),\n",
       " Timestamp('2015-03-15 00:00:00'),\n",
       " Timestamp('2015-03-15 00:00:00'),\n",
       " Timestamp('2015-06-23 00:00:00'),\n",
       " Timestamp('2015-03-15 00:00:00'),\n",
       " Timestamp('2015-03-15 00:00:00'),\n",
       " Timestamp('2015-03-15 00:00:00'),\n",
       " Timestamp('2015-03-15 00:00:00'),\n",
       " Timestamp('2015-03-14 00:00:00'),\n",
       " Timestamp('2015-03-14 00:00:00'),\n",
       " Timestamp('2015-03-14 00:00:00'),\n",
       " Timestamp('2015-03-14 00:00:00'),\n",
       " Timestamp('2015-03-14 00:00:00'),\n",
       " Timestamp('2015-03-13 00:00:00'),\n",
       " Timestamp('2015-06-23 00:00:00'),\n",
       " Timestamp('2015-03-12 00:00:00'),\n",
       " Timestamp('2015-03-12 00:00:00'),\n",
       " Timestamp('2015-03-12 00:00:00'),\n",
       " Timestamp('2015-03-12 00:00:00'),\n",
       " Timestamp('2015-03-12 00:00:00'),\n",
       " Timestamp('2015-03-12 00:00:00'),\n",
       " Timestamp('2015-03-11 00:00:00'),\n",
       " Timestamp('2015-03-11 00:00:00'),\n",
       " Timestamp('2015-03-11 00:00:00'),\n",
       " Timestamp('2015-03-11 00:00:00'),\n",
       " Timestamp('2015-06-23 00:00:00'),\n",
       " Timestamp('2015-03-10 00:00:00'),\n",
       " Timestamp('2015-03-10 00:00:00'),\n",
       " Timestamp('2015-03-10 00:00:00'),\n",
       " Timestamp('2015-03-10 00:00:00'),\n",
       " Timestamp('2015-03-10 00:00:00'),\n",
       " Timestamp('2015-03-10 00:00:00'),\n",
       " Timestamp('2015-03-10 00:00:00'),\n",
       " Timestamp('2015-03-09 00:00:00'),\n",
       " Timestamp('2015-03-09 00:00:00'),\n",
       " Timestamp('2015-03-09 00:00:00'),\n",
       " Timestamp('2015-06-23 00:00:00'),\n",
       " Timestamp('2015-03-09 00:00:00'),\n",
       " Timestamp('2015-03-08 00:00:00'),\n",
       " Timestamp('2015-03-08 00:00:00'),\n",
       " Timestamp('2015-03-07 00:00:00'),\n",
       " Timestamp('2015-03-07 00:00:00'),\n",
       " Timestamp('2015-03-07 00:00:00'),\n",
       " Timestamp('2015-03-06 00:00:00'),\n",
       " Timestamp('2015-03-06 00:00:00'),\n",
       " Timestamp('2015-03-06 00:00:00'),\n",
       " Timestamp('2015-03-05 00:00:00'),\n",
       " Timestamp('2015-06-23 00:00:00'),\n",
       " Timestamp('2015-03-05 00:00:00'),\n",
       " Timestamp('2015-03-05 00:00:00'),\n",
       " Timestamp('2015-03-04 00:00:00'),\n",
       " Timestamp('2015-03-04 00:00:00'),\n",
       " Timestamp('2015-03-04 00:00:00'),\n",
       " Timestamp('2015-03-04 00:00:00'),\n",
       " Timestamp('2015-03-04 00:00:00'),\n",
       " Timestamp('2015-03-04 00:00:00'),\n",
       " Timestamp('2015-03-03 00:00:00'),\n",
       " Timestamp('2015-03-03 00:00:00'),\n",
       " Timestamp('2015-06-23 00:00:00'),\n",
       " Timestamp('2015-03-03 00:00:00'),\n",
       " Timestamp('2015-03-03 00:00:00'),\n",
       " Timestamp('2015-03-03 00:00:00'),\n",
       " Timestamp('2015-03-02 00:00:00'),\n",
       " Timestamp('2015-03-02 00:00:00'),\n",
       " Timestamp('2015-03-02 00:00:00'),\n",
       " Timestamp('2015-03-02 00:00:00'),\n",
       " Timestamp('2015-03-02 00:00:00'),\n",
       " Timestamp('2015-03-02 00:00:00'),\n",
       " Timestamp('2015-03-02 00:00:00'),\n",
       " Timestamp('2015-06-22 00:00:00'),\n",
       " Timestamp('2015-03-02 00:00:00'),\n",
       " Timestamp('2015-03-01 00:00:00'),\n",
       " Timestamp('2015-03-01 00:00:00'),\n",
       " Timestamp('2015-03-01 00:00:00'),\n",
       " Timestamp('2015-03-01 00:00:00'),\n",
       " Timestamp('2015-03-01 00:00:00'),\n",
       " Timestamp('2015-03-01 00:00:00'),\n",
       " Timestamp('2015-03-01 00:00:00'),\n",
       " Timestamp('2015-02-28 00:00:00'),\n",
       " Timestamp('2015-02-28 00:00:00'),\n",
       " Timestamp('2015-06-22 00:00:00'),\n",
       " Timestamp('2015-02-28 00:00:00'),\n",
       " Timestamp('2015-02-28 00:00:00'),\n",
       " Timestamp('2015-02-28 00:00:00'),\n",
       " Timestamp('2015-02-28 00:00:00'),\n",
       " Timestamp('2015-02-28 00:00:00'),\n",
       " Timestamp('2015-02-27 00:00:00'),\n",
       " Timestamp('2015-02-27 00:00:00'),\n",
       " Timestamp('2015-02-27 00:00:00'),\n",
       " Timestamp('2015-02-27 00:00:00'),\n",
       " Timestamp('2015-02-27 00:00:00'),\n",
       " Timestamp('2015-06-30 00:00:00'),\n",
       " Timestamp('2015-06-22 00:00:00'),\n",
       " Timestamp('2015-02-26 00:00:00'),\n",
       " Timestamp('2015-02-26 00:00:00'),\n",
       " Timestamp('2015-02-26 00:00:00'),\n",
       " Timestamp('2015-02-26 00:00:00'),\n",
       " Timestamp('2015-02-26 00:00:00'),\n",
       " Timestamp('2015-02-26 00:00:00'),\n",
       " Timestamp('2015-02-25 00:00:00'),\n",
       " Timestamp('2015-02-25 00:00:00'),\n",
       " Timestamp('2015-02-25 00:00:00'),\n",
       " Timestamp('2015-02-25 00:00:00'),\n",
       " Timestamp('2015-06-22 00:00:00'),\n",
       " Timestamp('2015-02-25 00:00:00'),\n",
       " Timestamp('2015-02-25 00:00:00'),\n",
       " Timestamp('2015-02-24 00:00:00'),\n",
       " Timestamp('2015-02-24 00:00:00'),\n",
       " Timestamp('2015-02-24 00:00:00'),\n",
       " Timestamp('2015-02-24 00:00:00'),\n",
       " Timestamp('2015-02-23 00:00:00'),\n",
       " Timestamp('2015-02-23 00:00:00'),\n",
       " Timestamp('2015-02-23 00:00:00'),\n",
       " Timestamp('2015-02-23 00:00:00'),\n",
       " Timestamp('2015-06-22 00:00:00'),\n",
       " Timestamp('2015-02-23 00:00:00'),\n",
       " Timestamp('2015-02-23 00:00:00'),\n",
       " Timestamp('2015-02-22 00:00:00'),\n",
       " Timestamp('2015-02-22 00:00:00'),\n",
       " Timestamp('2015-02-22 00:00:00'),\n",
       " Timestamp('2015-02-22 00:00:00'),\n",
       " Timestamp('2015-02-22 00:00:00'),\n",
       " Timestamp('2015-02-21 00:00:00'),\n",
       " Timestamp('2015-02-21 00:00:00'),\n",
       " Timestamp('2015-02-21 00:00:00'),\n",
       " Timestamp('2015-06-21 00:00:00'),\n",
       " Timestamp('2015-02-21 00:00:00'),\n",
       " Timestamp('2015-02-21 00:00:00'),\n",
       " Timestamp('2015-02-20 00:00:00'),\n",
       " Timestamp('2015-02-20 00:00:00'),\n",
       " Timestamp('2015-02-20 00:00:00'),\n",
       " Timestamp('2015-02-20 00:00:00'),\n",
       " Timestamp('2015-02-20 00:00:00'),\n",
       " Timestamp('2015-02-19 00:00:00'),\n",
       " Timestamp('2015-02-19 00:00:00'),\n",
       " Timestamp('2015-02-19 00:00:00'),\n",
       " Timestamp('2015-06-21 00:00:00'),\n",
       " Timestamp('2015-02-19 00:00:00'),\n",
       " Timestamp('2015-02-19 00:00:00'),\n",
       " Timestamp('2015-02-19 00:00:00'),\n",
       " Timestamp('2015-02-19 00:00:00'),\n",
       " Timestamp('2015-02-19 00:00:00'),\n",
       " Timestamp('2015-02-18 00:00:00'),\n",
       " Timestamp('2015-02-18 00:00:00'),\n",
       " Timestamp('2015-02-18 00:00:00'),\n",
       " Timestamp('2015-02-18 00:00:00'),\n",
       " Timestamp('2015-02-18 00:00:00'),\n",
       " Timestamp('2015-06-20 00:00:00'),\n",
       " Timestamp('2015-02-18 00:00:00'),\n",
       " Timestamp('2015-02-17 00:00:00'),\n",
       " Timestamp('2015-02-17 00:00:00'),\n",
       " Timestamp('2015-02-17 00:00:00'),\n",
       " Timestamp('2015-02-17 00:00:00'),\n",
       " Timestamp('2015-02-17 00:00:00'),\n",
       " Timestamp('2015-02-16 00:00:00'),\n",
       " Timestamp('2015-02-16 00:00:00'),\n",
       " Timestamp('2015-02-16 00:00:00'),\n",
       " Timestamp('2015-02-16 00:00:00'),\n",
       " Timestamp('2015-06-20 00:00:00'),\n",
       " Timestamp('2015-02-16 00:00:00'),\n",
       " Timestamp('2015-02-15 00:00:00'),\n",
       " Timestamp('2015-02-14 00:00:00'),\n",
       " Timestamp('2015-02-14 00:00:00'),\n",
       " Timestamp('2015-02-14 00:00:00'),\n",
       " Timestamp('2015-02-13 00:00:00'),\n",
       " Timestamp('2015-02-13 00:00:00'),\n",
       " Timestamp('2015-02-13 00:00:00'),\n",
       " Timestamp('2015-02-13 00:00:00'),\n",
       " Timestamp('2015-02-13 00:00:00'),\n",
       " Timestamp('2015-06-20 00:00:00'),\n",
       " Timestamp('2015-02-13 00:00:00'),\n",
       " Timestamp('2015-02-12 00:00:00'),\n",
       " Timestamp('2015-02-12 00:00:00'),\n",
       " Timestamp('2015-02-12 00:00:00'),\n",
       " Timestamp('2015-02-12 00:00:00'),\n",
       " Timestamp('2015-02-12 00:00:00'),\n",
       " Timestamp('2015-02-11 00:00:00'),\n",
       " Timestamp('2015-02-11 00:00:00'),\n",
       " Timestamp('2015-02-11 00:00:00'),\n",
       " Timestamp('2015-02-10 00:00:00'),\n",
       " Timestamp('2015-06-19 00:00:00'),\n",
       " Timestamp('2015-02-10 00:00:00'),\n",
       " Timestamp('2015-02-10 00:00:00'),\n",
       " Timestamp('2015-02-10 00:00:00'),\n",
       " Timestamp('2015-02-10 00:00:00'),\n",
       " Timestamp('2015-02-09 00:00:00'),\n",
       " Timestamp('2015-02-09 00:00:00'),\n",
       " Timestamp('2015-02-09 00:00:00'),\n",
       " Timestamp('2015-02-09 00:00:00'),\n",
       " Timestamp('2015-02-09 00:00:00'),\n",
       " Timestamp('2015-02-08 00:00:00'),\n",
       " Timestamp('2015-06-19 00:00:00'),\n",
       " Timestamp('2015-02-08 00:00:00'),\n",
       " Timestamp('2015-02-08 00:00:00'),\n",
       " Timestamp('2015-02-08 00:00:00'),\n",
       " Timestamp('2015-02-08 00:00:00'),\n",
       " Timestamp('2015-02-07 00:00:00'),\n",
       " Timestamp('2015-02-07 00:00:00'),\n",
       " Timestamp('2015-02-06 00:00:00'),\n",
       " Timestamp('2015-02-06 00:00:00'),\n",
       " Timestamp('2015-02-06 00:00:00'),\n",
       " Timestamp('2015-02-04 00:00:00'),\n",
       " Timestamp('2015-06-30 00:00:00'),\n",
       " Timestamp('2015-06-19 00:00:00'),\n",
       " Timestamp('2015-02-04 00:00:00'),\n",
       " Timestamp('2015-02-04 00:00:00'),\n",
       " Timestamp('2015-02-04 00:00:00'),\n",
       " Timestamp('2015-02-03 00:00:00'),\n",
       " Timestamp('2015-02-03 00:00:00'),\n",
       " Timestamp('2015-02-03 00:00:00'),\n",
       " Timestamp('2015-02-03 00:00:00'),\n",
       " Timestamp('2015-02-03 00:00:00'),\n",
       " Timestamp('2015-02-03 00:00:00'),\n",
       " Timestamp('2015-02-03 00:00:00'),\n",
       " Timestamp('2015-06-19 00:00:00'),\n",
       " Timestamp('2015-02-02 00:00:00'),\n",
       " Timestamp('2015-02-01 00:00:00'),\n",
       " Timestamp('2015-02-01 00:00:00'),\n",
       " Timestamp('2015-02-01 00:00:00'),\n",
       " Timestamp('2015-02-01 00:00:00'),\n",
       " Timestamp('2015-02-01 00:00:00'),\n",
       " Timestamp('2015-01-31 00:00:00'),\n",
       " Timestamp('2015-01-31 00:00:00'),\n",
       " Timestamp('2015-01-30 00:00:00'),\n",
       " Timestamp('2015-01-30 00:00:00'),\n",
       " Timestamp('2015-06-19 00:00:00'),\n",
       " Timestamp('2015-01-29 00:00:00'),\n",
       " Timestamp('2015-01-29 00:00:00'),\n",
       " Timestamp('2015-01-28 00:00:00'),\n",
       " Timestamp('2015-01-28 00:00:00'),\n",
       " Timestamp('2015-01-28 00:00:00'),\n",
       " Timestamp('2015-01-28 00:00:00'),\n",
       " Timestamp('2015-01-28 00:00:00'),\n",
       " Timestamp('2015-01-27 00:00:00'),\n",
       " Timestamp('2015-01-27 00:00:00'),\n",
       " Timestamp('2015-01-27 00:00:00'),\n",
       " Timestamp('2015-06-18 00:00:00'),\n",
       " Timestamp('2015-01-27 00:00:00'),\n",
       " Timestamp('2015-01-27 00:00:00'),\n",
       " Timestamp('2015-01-27 00:00:00'),\n",
       " Timestamp('2015-01-27 00:00:00'),\n",
       " Timestamp('2015-01-27 00:00:00'),\n",
       " Timestamp('2015-01-26 00:00:00'),\n",
       " Timestamp('2015-01-26 00:00:00'),\n",
       " Timestamp('2015-01-24 00:00:00'),\n",
       " Timestamp('2015-01-24 00:00:00'),\n",
       " Timestamp('2015-01-24 00:00:00'),\n",
       " Timestamp('2015-06-18 00:00:00'),\n",
       " Timestamp('2015-01-23 00:00:00'),\n",
       " Timestamp('2015-01-23 00:00:00'),\n",
       " Timestamp('2015-01-23 00:00:00'),\n",
       " Timestamp('2015-01-22 00:00:00'),\n",
       " Timestamp('2015-01-22 00:00:00'),\n",
       " Timestamp('2015-01-22 00:00:00'),\n",
       " Timestamp('2015-01-22 00:00:00'),\n",
       " Timestamp('2015-01-22 00:00:00'),\n",
       " Timestamp('2015-01-21 00:00:00'),\n",
       " Timestamp('2015-01-21 00:00:00'),\n",
       " Timestamp('2015-06-18 00:00:00'),\n",
       " Timestamp('2015-01-21 00:00:00'),\n",
       " Timestamp('2015-01-21 00:00:00'),\n",
       " Timestamp('2015-01-21 00:00:00'),\n",
       " Timestamp('2015-01-20 00:00:00'),\n",
       " Timestamp('2015-01-20 00:00:00'),\n",
       " Timestamp('2015-01-20 00:00:00'),\n",
       " Timestamp('2015-01-19 00:00:00'),\n",
       " Timestamp('2015-01-19 00:00:00'),\n",
       " Timestamp('2015-01-18 00:00:00'),\n",
       " Timestamp('2015-01-18 00:00:00'),\n",
       " Timestamp('2015-06-18 00:00:00'),\n",
       " Timestamp('2015-01-17 00:00:00'),\n",
       " Timestamp('2015-01-17 00:00:00'),\n",
       " Timestamp('2015-01-17 00:00:00'),\n",
       " Timestamp('2015-01-16 00:00:00'),\n",
       " Timestamp('2015-01-16 00:00:00'),\n",
       " Timestamp('2015-01-15 00:00:00'),\n",
       " Timestamp('2015-01-14 00:00:00'),\n",
       " Timestamp('2015-01-14 00:00:00'),\n",
       " Timestamp('2015-01-13 00:00:00'),\n",
       " Timestamp('2015-01-13 00:00:00'),\n",
       " Timestamp('2015-06-18 00:00:00'),\n",
       " Timestamp('2015-01-13 00:00:00'),\n",
       " Timestamp('2015-01-13 00:00:00'),\n",
       " Timestamp('2015-01-13 00:00:00'),\n",
       " Timestamp('2015-01-12 00:00:00'),\n",
       " Timestamp('2015-01-11 00:00:00'),\n",
       " Timestamp('2015-01-10 00:00:00'),\n",
       " Timestamp('2015-01-10 00:00:00'),\n",
       " Timestamp('2015-01-10 00:00:00'),\n",
       " Timestamp('2015-01-10 00:00:00'),\n",
       " Timestamp('2015-01-09 00:00:00'),\n",
       " Timestamp('2015-06-18 00:00:00'),\n",
       " Timestamp('2015-01-09 00:00:00'),\n",
       " Timestamp('2015-01-09 00:00:00'),\n",
       " Timestamp('2015-01-09 00:00:00'),\n",
       " Timestamp('2015-01-09 00:00:00'),\n",
       " Timestamp('2015-01-08 00:00:00'),\n",
       " Timestamp('2015-01-08 00:00:00'),\n",
       " Timestamp('2015-01-08 00:00:00'),\n",
       " Timestamp('2015-01-08 00:00:00'),\n",
       " Timestamp('2015-01-08 00:00:00'),\n",
       " Timestamp('2015-01-07 00:00:00'),\n",
       " Timestamp('2015-06-17 00:00:00'),\n",
       " Timestamp('2015-01-07 00:00:00'),\n",
       " Timestamp('2015-01-06 00:00:00'),\n",
       " Timestamp('2015-01-06 00:00:00'),\n",
       " Timestamp('2015-01-06 00:00:00'),\n",
       " Timestamp('2015-01-06 00:00:00'),\n",
       " Timestamp('2015-01-06 00:00:00'),\n",
       " Timestamp('2015-01-05 00:00:00'),\n",
       " Timestamp('2015-01-05 00:00:00'),\n",
       " Timestamp('2015-01-05 00:00:00'),\n",
       " Timestamp('2015-01-05 00:00:00'),\n",
       " Timestamp('2015-06-30 00:00:00'),\n",
       " Timestamp('2015-06-17 00:00:00'),\n",
       " Timestamp('2015-01-04 00:00:00'),\n",
       " Timestamp('2015-01-04 00:00:00'),\n",
       " Timestamp('2015-01-03 00:00:00'),\n",
       " Timestamp('2015-01-03 00:00:00'),\n",
       " Timestamp('2015-01-03 00:00:00'),\n",
       " Timestamp('2015-01-02 00:00:00'),\n",
       " Timestamp('2015-01-02 00:00:00'),\n",
       " Timestamp('2015-01-02 00:00:00'),\n",
       " Timestamp('2015-01-02 00:00:00'),\n",
       " Timestamp('2015-01-02 00:00:00'),\n",
       " Timestamp('2015-06-17 00:00:00'),\n",
       " Timestamp('2015-01-01 00:00:00'),\n",
       " Timestamp('2015-06-17 00:00:00'),\n",
       " Timestamp('2015-06-17 00:00:00'),\n",
       " Timestamp('2015-06-16 00:00:00'),\n",
       " Timestamp('2015-06-16 00:00:00'),\n",
       " Timestamp('2015-06-16 00:00:00'),\n",
       " Timestamp('2015-06-16 00:00:00'),\n",
       " Timestamp('2015-06-16 00:00:00'),\n",
       " Timestamp('2015-06-15 00:00:00'),\n",
       " Timestamp('2015-06-30 00:00:00'),\n",
       " Timestamp('2015-06-15 00:00:00'),\n",
       " Timestamp('2015-06-15 00:00:00'),\n",
       " Timestamp('2015-06-14 00:00:00'),\n",
       " Timestamp('2015-06-14 00:00:00'),\n",
       " Timestamp('2015-06-13 00:00:00'),\n",
       " Timestamp('2015-06-13 00:00:00'),\n",
       " Timestamp('2015-06-13 00:00:00'),\n",
       " Timestamp('2015-06-13 00:00:00'),\n",
       " Timestamp('2015-06-13 00:00:00'),\n",
       " Timestamp('2015-06-13 00:00:00'),\n",
       " Timestamp('2015-07-01 00:00:00'),\n",
       " Timestamp('2015-07-01 00:00:00'),\n",
       " Timestamp('2015-07-01 00:00:00'),\n",
       " Timestamp('2015-06-17 00:00:00'),\n",
       " Timestamp('2015-02-03 00:00:00'),\n",
       " Timestamp('2015-02-02 00:00:00'),\n",
       " Timestamp('2015-02-02 00:00:00'),\n",
       " Timestamp('2015-02-02 00:00:00'),\n",
       " Timestamp('2015-02-02 00:00:00'),\n",
       " Timestamp('2015-02-02 00:00:00'),\n",
       " Timestamp('2015-02-02 00:00:00'),\n",
       " Timestamp('2015-02-02 00:00:00'),\n",
       " Timestamp('2015-02-01 00:00:00'),\n",
       " Timestamp('2015-02-01 00:00:00'),\n",
       " Timestamp('2015-06-17 00:00:00'),\n",
       " Timestamp('2015-02-01 00:00:00'),\n",
       " Timestamp('2015-02-01 00:00:00'),\n",
       " Timestamp('2015-02-01 00:00:00'),\n",
       " Timestamp('2015-02-01 00:00:00'),\n",
       " Timestamp('2015-01-31 00:00:00'),\n",
       " Timestamp('2015-01-31 00:00:00'),\n",
       " Timestamp('2015-01-31 00:00:00'),\n",
       " Timestamp('2015-01-31 00:00:00'),\n",
       " Timestamp('2015-01-31 00:00:00'),\n",
       " Timestamp('2015-01-31 00:00:00'),\n",
       " Timestamp('2015-06-17 00:00:00'),\n",
       " Timestamp('2015-01-31 00:00:00'),\n",
       " Timestamp('2015-01-31 00:00:00'),\n",
       " Timestamp('2015-01-31 00:00:00'),\n",
       " Timestamp('2015-01-30 00:00:00'),\n",
       " Timestamp('2015-01-30 00:00:00'),\n",
       " Timestamp('2015-01-30 00:00:00'),\n",
       " Timestamp('2015-01-30 00:00:00'),\n",
       " Timestamp('2015-01-30 00:00:00'),\n",
       " Timestamp('2015-01-30 00:00:00'),\n",
       " Timestamp('2015-01-30 00:00:00'),\n",
       " Timestamp('2015-06-17 00:00:00'),\n",
       " Timestamp('2015-01-29 00:00:00'),\n",
       " Timestamp('2015-01-29 00:00:00'),\n",
       " Timestamp('2015-01-29 00:00:00'),\n",
       " Timestamp('2015-01-29 00:00:00'),\n",
       " Timestamp('2015-01-29 00:00:00'),\n",
       " Timestamp('2015-01-29 00:00:00'),\n",
       " Timestamp('2015-01-29 00:00:00'),\n",
       " Timestamp('2015-01-28 00:00:00'),\n",
       " Timestamp('2015-01-28 00:00:00'),\n",
       " Timestamp('2015-01-28 00:00:00'),\n",
       " Timestamp('2015-06-16 00:00:00'),\n",
       " Timestamp('2015-01-28 00:00:00'),\n",
       " Timestamp('2015-01-28 00:00:00'),\n",
       " Timestamp('2015-01-28 00:00:00'),\n",
       " Timestamp('2015-01-28 00:00:00'),\n",
       " Timestamp('2015-01-27 00:00:00'),\n",
       " Timestamp('2015-01-27 00:00:00'),\n",
       " Timestamp('2015-01-27 00:00:00'),\n",
       " Timestamp('2015-01-27 00:00:00'),\n",
       " Timestamp('2015-01-27 00:00:00'),\n",
       " Timestamp('2015-01-27 00:00:00'),\n",
       " Timestamp('2015-06-16 00:00:00'),\n",
       " Timestamp('2015-01-26 00:00:00'),\n",
       " Timestamp('2015-01-26 00:00:00'),\n",
       " Timestamp('2015-01-26 00:00:00'),\n",
       " Timestamp('2015-01-26 00:00:00'),\n",
       " Timestamp('2015-01-26 00:00:00'),\n",
       " Timestamp('2015-01-26 00:00:00'),\n",
       " Timestamp('2015-01-26 00:00:00'),\n",
       " Timestamp('2015-01-25 00:00:00'),\n",
       " Timestamp('2015-01-25 00:00:00'),\n",
       " Timestamp('2015-01-25 00:00:00'),\n",
       " Timestamp('2015-06-16 00:00:00'),\n",
       " Timestamp('2015-01-24 00:00:00'),\n",
       " Timestamp('2015-01-24 00:00:00'),\n",
       " Timestamp('2015-01-23 00:00:00'),\n",
       " Timestamp('2015-01-23 00:00:00'),\n",
       " Timestamp('2015-01-23 00:00:00'),\n",
       " Timestamp('2015-01-23 00:00:00'),\n",
       " Timestamp('2015-01-23 00:00:00'),\n",
       " Timestamp('2015-01-22 00:00:00'),\n",
       " Timestamp('2015-01-22 00:00:00'),\n",
       " Timestamp('2015-01-22 00:00:00'),\n",
       " Timestamp('2015-06-16 00:00:00'),\n",
       " Timestamp('2015-01-21 00:00:00'),\n",
       " Timestamp('2015-01-21 00:00:00'),\n",
       " Timestamp('2015-01-21 00:00:00'),\n",
       " Timestamp('2015-01-20 00:00:00'),\n",
       " Timestamp('2015-01-20 00:00:00'),\n",
       " Timestamp('2015-01-20 00:00:00'),\n",
       " Timestamp('2015-01-20 00:00:00'),\n",
       " Timestamp('2015-01-20 00:00:00'),\n",
       " Timestamp('2015-01-19 00:00:00'),\n",
       " Timestamp('2015-01-19 00:00:00'),\n",
       " Timestamp('2015-06-16 00:00:00'),\n",
       " Timestamp('2015-01-19 00:00:00'),\n",
       " Timestamp('2015-01-19 00:00:00'),\n",
       " Timestamp('2015-01-19 00:00:00'),\n",
       " Timestamp('2015-01-19 00:00:00'),\n",
       " Timestamp('2015-01-19 00:00:00'),\n",
       " Timestamp('2015-01-19 00:00:00'),\n",
       " Timestamp('2015-01-19 00:00:00'),\n",
       " Timestamp('2015-01-19 00:00:00'),\n",
       " Timestamp('2015-01-19 00:00:00'),\n",
       " Timestamp('2015-01-19 00:00:00'),\n",
       " Timestamp('2015-06-16 00:00:00'),\n",
       " Timestamp('2015-01-18 00:00:00'),\n",
       " Timestamp('2015-01-18 00:00:00'),\n",
       " Timestamp('2015-01-18 00:00:00'),\n",
       " Timestamp('2015-01-17 00:00:00'),\n",
       " Timestamp('2015-01-17 00:00:00'),\n",
       " Timestamp('2015-01-16 00:00:00'),\n",
       " Timestamp('2015-01-16 00:00:00'),\n",
       " Timestamp('2015-01-16 00:00:00'),\n",
       " Timestamp('2015-01-16 00:00:00'),\n",
       " Timestamp('2015-01-16 00:00:00'),\n",
       " Timestamp('2015-07-01 00:00:00'),\n",
       " Timestamp('2015-06-16 00:00:00'),\n",
       " Timestamp('2015-01-16 00:00:00'),\n",
       " Timestamp('2015-01-16 00:00:00'),\n",
       " Timestamp('2015-01-16 00:00:00'),\n",
       " Timestamp('2015-01-15 00:00:00'),\n",
       " Timestamp('2015-01-15 00:00:00'),\n",
       " Timestamp('2015-01-14 00:00:00'),\n",
       " Timestamp('2015-01-14 00:00:00'),\n",
       " Timestamp('2015-01-14 00:00:00'),\n",
       " Timestamp('2015-01-14 00:00:00'),\n",
       " Timestamp('2015-01-14 00:00:00'),\n",
       " Timestamp('2015-06-15 00:00:00'),\n",
       " Timestamp('2015-01-13 00:00:00'),\n",
       " Timestamp('2015-01-13 00:00:00'),\n",
       " Timestamp('2015-01-13 00:00:00'),\n",
       " Timestamp('2015-01-13 00:00:00'),\n",
       " Timestamp('2015-01-13 00:00:00'),\n",
       " Timestamp('2015-01-13 00:00:00'),\n",
       " Timestamp('2015-01-13 00:00:00'),\n",
       " Timestamp('2015-01-12 00:00:00'),\n",
       " Timestamp('2015-01-12 00:00:00'),\n",
       " Timestamp('2015-01-12 00:00:00'),\n",
       " Timestamp('2015-06-15 00:00:00'),\n",
       " Timestamp('2015-01-11 00:00:00'),\n",
       " Timestamp('2015-01-11 00:00:00'),\n",
       " Timestamp('2015-01-11 00:00:00'),\n",
       " Timestamp('2015-01-11 00:00:00'),\n",
       " Timestamp('2015-01-11 00:00:00'),\n",
       " Timestamp('2015-01-11 00:00:00'),\n",
       " Timestamp('2015-01-11 00:00:00'),\n",
       " Timestamp('2015-01-10 00:00:00'),\n",
       " Timestamp('2015-01-10 00:00:00'),\n",
       " Timestamp('2015-01-09 00:00:00'),\n",
       " Timestamp('2015-06-15 00:00:00'),\n",
       " Timestamp('2015-01-09 00:00:00'),\n",
       " Timestamp('2015-01-09 00:00:00'),\n",
       " Timestamp('2015-01-09 00:00:00'),\n",
       " Timestamp('2015-01-09 00:00:00'),\n",
       " Timestamp('2015-01-09 00:00:00'),\n",
       " Timestamp('2015-01-09 00:00:00'),\n",
       " Timestamp('2015-01-09 00:00:00'),\n",
       " Timestamp('2015-01-09 00:00:00'),\n",
       " Timestamp('2015-01-08 00:00:00'),\n",
       " Timestamp('2015-01-08 00:00:00'),\n",
       " Timestamp('2015-06-15 00:00:00'),\n",
       " Timestamp('2015-01-08 00:00:00'),\n",
       " Timestamp('2015-01-08 00:00:00'),\n",
       " Timestamp('2015-01-08 00:00:00'),\n",
       " Timestamp('2015-01-08 00:00:00'),\n",
       " Timestamp('2015-01-08 00:00:00'),\n",
       " Timestamp('2015-01-07 00:00:00'),\n",
       " Timestamp('2015-01-07 00:00:00'),\n",
       " Timestamp('2015-01-07 00:00:00'),\n",
       " Timestamp('2015-01-07 00:00:00'),\n",
       " Timestamp('2015-01-07 00:00:00'),\n",
       " Timestamp('2015-06-15 00:00:00'),\n",
       " Timestamp('2015-01-07 00:00:00'),\n",
       " Timestamp('2015-01-07 00:00:00'),\n",
       " Timestamp('2015-01-07 00:00:00'),\n",
       " Timestamp('2015-01-06 00:00:00'),\n",
       " Timestamp('2015-01-06 00:00:00'),\n",
       " Timestamp('2015-01-06 00:00:00'),\n",
       " Timestamp('2015-01-06 00:00:00'),\n",
       " Timestamp('2015-01-06 00:00:00'),\n",
       " Timestamp('2015-01-06 00:00:00'),\n",
       " Timestamp('2015-01-06 00:00:00'),\n",
       " Timestamp('2015-06-15 00:00:00'),\n",
       " Timestamp('2015-01-06 00:00:00'),\n",
       " Timestamp('2015-01-06 00:00:00'),\n",
       " Timestamp('2015-01-06 00:00:00'),\n",
       " Timestamp('2015-01-05 00:00:00'),\n",
       " Timestamp('2015-01-05 00:00:00'),\n",
       " Timestamp('2015-01-05 00:00:00'),\n",
       " Timestamp('2015-01-05 00:00:00'),\n",
       " Timestamp('2015-01-05 00:00:00'),\n",
       " Timestamp('2015-01-05 00:00:00'),\n",
       " ...]"
      ]
     },
     "execution_count": 11,
     "metadata": {},
     "output_type": "execute_result"
    }
   ],
   "source": [
    "# check the ratingDate column to ensure the data are now pandas timestamps\n",
    "date_list = df['ratingDate'].tolist()\n",
    "date_list"
   ]
  },
  {
   "cell_type": "code",
   "execution_count": 12,
   "metadata": {
    "id": "To0eDV4W2XUk"
   },
   "outputs": [
    {
     "data": {
      "text/plain": [
       "(46644, 15)"
      ]
     },
     "execution_count": 12,
     "metadata": {},
     "output_type": "execute_result"
    }
   ],
   "source": [
    "# get the shape of the dataframe df\n",
    "df.shape"
   ]
  },
  {
   "cell_type": "code",
   "execution_count": 13,
   "metadata": {
    "id": "Fj2p-EKSowid"
   },
   "outputs": [
    {
     "data": {
      "text/html": [
       "<div>\n",
       "<style scoped>\n",
       "    .dataframe tbody tr th:only-of-type {\n",
       "        vertical-align: middle;\n",
       "    }\n",
       "\n",
       "    .dataframe tbody tr th {\n",
       "        vertical-align: top;\n",
       "    }\n",
       "\n",
       "    .dataframe thead th {\n",
       "        text-align: right;\n",
       "    }\n",
       "</style>\n",
       "<table border=\"1\" class=\"dataframe\">\n",
       "  <thead>\n",
       "    <tr style=\"text-align: right;\">\n",
       "      <th></th>\n",
       "      <th>gd</th>\n",
       "      <th>helpful_num</th>\n",
       "      <th>location</th>\n",
       "      <th>mgrRspnDummy</th>\n",
       "      <th>mgr_res_date</th>\n",
       "      <th>mrtext</th>\n",
       "      <th>ratingDate</th>\n",
       "      <th>review_id</th>\n",
       "      <th>reviewrating</th>\n",
       "      <th>reviewtext</th>\n",
       "      <th>reviewtitle</th>\n",
       "      <th>stay_month</th>\n",
       "      <th>stay_year</th>\n",
       "      <th>travel_category</th>\n",
       "      <th>username</th>\n",
       "    </tr>\n",
       "  </thead>\n",
       "  <tbody>\n",
       "    <tr>\n",
       "      <th>15044</th>\n",
       "      <td>g45963-d1123368</td>\n",
       "      <td>NaN</td>\n",
       "      <td>Walnut Creek, California</td>\n",
       "      <td>0</td>\n",
       "      <td>NaN</td>\n",
       "      <td>NaN</td>\n",
       "      <td>2015-07-01</td>\n",
       "      <td>284818340</td>\n",
       "      <td>5</td>\n",
       "      <td>An excellent property! The rooms are very nice...</td>\n",
       "      <td>“At the top of its game”</td>\n",
       "      <td>6.0</td>\n",
       "      <td>2015.0</td>\n",
       "      <td>business</td>\n",
       "      <td>cadby</td>\n",
       "    </tr>\n",
       "    <tr>\n",
       "      <th>15045</th>\n",
       "      <td>g45963-d1123368</td>\n",
       "      <td>NaN</td>\n",
       "      <td>Maidstone, United Kingdom</td>\n",
       "      <td>0</td>\n",
       "      <td>NaN</td>\n",
       "      <td>NaN</td>\n",
       "      <td>2015-07-01</td>\n",
       "      <td>284776986</td>\n",
       "      <td>5</td>\n",
       "      <td>My first visit to Las Vegas and WOW!! Whilst a...</td>\n",
       "      <td>“ wow!! ”</td>\n",
       "      <td>9.0</td>\n",
       "      <td>2014.0</td>\n",
       "      <td>couple</td>\n",
       "      <td>Sonia H</td>\n",
       "    </tr>\n",
       "    <tr>\n",
       "      <th>15046</th>\n",
       "      <td>g45963-d1123368</td>\n",
       "      <td>NaN</td>\n",
       "      <td>Brussels</td>\n",
       "      <td>0</td>\n",
       "      <td>NaN</td>\n",
       "      <td>NaN</td>\n",
       "      <td>2015-06-30</td>\n",
       "      <td>284187374</td>\n",
       "      <td>5</td>\n",
       "      <td>Some of the most beautiful hotel rooms in the ...</td>\n",
       "      <td>“ Mass market but luxery hotel at north end of...</td>\n",
       "      <td>6.0</td>\n",
       "      <td>2015.0</td>\n",
       "      <td>couple</td>\n",
       "      <td>Globaliser</td>\n",
       "    </tr>\n",
       "    <tr>\n",
       "      <th>15047</th>\n",
       "      <td>g45963-d1123368</td>\n",
       "      <td>NaN</td>\n",
       "      <td>Colchester, United Kingdom</td>\n",
       "      <td>0</td>\n",
       "      <td>NaN</td>\n",
       "      <td>NaN</td>\n",
       "      <td>2015-06-13</td>\n",
       "      <td>279887884</td>\n",
       "      <td>5</td>\n",
       "      <td>This Hotel is exceptional, its beautifully set...</td>\n",
       "      <td>“ Highlight of Vegas ”</td>\n",
       "      <td>5.0</td>\n",
       "      <td>2015.0</td>\n",
       "      <td>couple</td>\n",
       "      <td>Sharcoates</td>\n",
       "    </tr>\n",
       "    <tr>\n",
       "      <th>15058</th>\n",
       "      <td>g45963-d1123368</td>\n",
       "      <td>NaN</td>\n",
       "      <td>Denver, Colorado, United States</td>\n",
       "      <td>0</td>\n",
       "      <td>NaN</td>\n",
       "      <td>NaN</td>\n",
       "      <td>2015-06-13</td>\n",
       "      <td>279841140</td>\n",
       "      <td>5</td>\n",
       "      <td>My husband and I stayed here during a trip,to ...</td>\n",
       "      <td>“ Beautiful hotel, great location ”</td>\n",
       "      <td>6.0</td>\n",
       "      <td>2015.0</td>\n",
       "      <td>couple</td>\n",
       "      <td>Kimberly A</td>\n",
       "    </tr>\n",
       "  </tbody>\n",
       "</table>\n",
       "</div>"
      ],
      "text/plain": [
       "                    gd  helpful_num                         location  \\\n",
       "15044  g45963-d1123368          NaN         Walnut Creek, California   \n",
       "15045  g45963-d1123368          NaN        Maidstone, United Kingdom   \n",
       "15046  g45963-d1123368          NaN                         Brussels   \n",
       "15047  g45963-d1123368          NaN       Colchester, United Kingdom   \n",
       "15058  g45963-d1123368          NaN  Denver, Colorado, United States   \n",
       "\n",
       "       mgrRspnDummy mgr_res_date mrtext ratingDate  review_id  reviewrating  \\\n",
       "15044             0          NaN    NaN 2015-07-01  284818340             5   \n",
       "15045             0          NaN    NaN 2015-07-01  284776986             5   \n",
       "15046             0          NaN    NaN 2015-06-30  284187374             5   \n",
       "15047             0          NaN    NaN 2015-06-13  279887884             5   \n",
       "15058             0          NaN    NaN 2015-06-13  279841140             5   \n",
       "\n",
       "                                              reviewtext  \\\n",
       "15044  An excellent property! The rooms are very nice...   \n",
       "15045  My first visit to Las Vegas and WOW!! Whilst a...   \n",
       "15046  Some of the most beautiful hotel rooms in the ...   \n",
       "15047  This Hotel is exceptional, its beautifully set...   \n",
       "15058  My husband and I stayed here during a trip,to ...   \n",
       "\n",
       "                                             reviewtitle  stay_month  \\\n",
       "15044                           “At the top of its game”         6.0   \n",
       "15045                                          “ wow!! ”         9.0   \n",
       "15046  “ Mass market but luxery hotel at north end of...         6.0   \n",
       "15047                             “ Highlight of Vegas ”         5.0   \n",
       "15058                “ Beautiful hotel, great location ”         6.0   \n",
       "\n",
       "       stay_year travel_category    username  \n",
       "15044     2015.0        business       cadby  \n",
       "15045     2014.0          couple     Sonia H  \n",
       "15046     2015.0          couple  Globaliser  \n",
       "15047     2015.0          couple  Sharcoates  \n",
       "15058     2015.0          couple  Kimberly A  "
      ]
     },
     "execution_count": 13,
     "metadata": {},
     "output_type": "execute_result"
    }
   ],
   "source": [
    "# preview df\n",
    "df.head(5)"
   ]
  },
  {
   "cell_type": "code",
   "execution_count": 14,
   "metadata": {
    "id": "uAKT30tkop86"
   },
   "outputs": [
    {
     "name": "stdout",
     "output_type": "stream",
     "text": [
      "gd\n",
      "helpful_num\n",
      "location\n",
      "mgrRspnDummy\n",
      "mgr_res_date\n",
      "mrtext\n",
      "ratingDate\n",
      "review_id\n",
      "reviewrating\n",
      "reviewtext\n",
      "reviewtitle\n",
      "stay_month\n",
      "stay_year\n",
      "travel_category\n",
      "username\n"
     ]
    }
   ],
   "source": [
    "# look at the columns of df (e.g. df.columns)\n",
    "columns = df.columns\n",
    "for item in columns:\n",
    "    print(item)"
   ]
  },
  {
   "cell_type": "code",
   "execution_count": 15,
   "metadata": {
    "id": "E5RJLe-DoyWq"
   },
   "outputs": [
    {
     "data": {
      "text/plain": [
       "{'gd'}"
      ]
     },
     "execution_count": 15,
     "metadata": {},
     "output_type": "execute_result"
    }
   ],
   "source": [
    "# what are the columns that belong to both df and df_biz?\n",
    "set(df.columns).intersection(set(df_biz.columns))"
   ]
  },
  {
   "cell_type": "markdown",
   "metadata": {
    "id": "XhMYdN6jocJ8"
   },
   "source": [
    "**Answer this**\n",
    "\n",
    "Which variable or variables will allow you to merge df with df_biz? **Answer -- gd will allow the merge, i.e. can be used as primary key and is common to both dataframes**"
   ]
  },
  {
   "cell_type": "code",
   "execution_count": 16,
   "metadata": {
    "id": "QrZclScpyvho"
   },
   "outputs": [],
   "source": [
    "# merge df (left) with df_biz (right) using an *inner* merge (keep only matched rows)\n",
    "# call the reuslting dataframe, df (replace df with the merge result)\n",
    "\n",
    "df = df.merge(df_biz, how = 'inner', on = 'gd') # fill in this"
   ]
  },
  {
   "cell_type": "code",
   "execution_count": 17,
   "metadata": {
    "id": "tqoXuQyY21aa"
   },
   "outputs": [
    {
     "data": {
      "text/plain": [
       "(46644, 25)"
      ]
     },
     "execution_count": 17,
     "metadata": {},
     "output_type": "execute_result"
    }
   ],
   "source": [
    "# check the # of rows and columns of df\n",
    "# this should bee (46644,25)\n",
    "df.shape"
   ]
  },
  {
   "cell_type": "code",
   "execution_count": 18,
   "metadata": {
    "id": "sdkMqhgA2HrZ"
   },
   "outputs": [
    {
     "data": {
      "text/html": [
       "<div>\n",
       "<style scoped>\n",
       "    .dataframe tbody tr th:only-of-type {\n",
       "        vertical-align: middle;\n",
       "    }\n",
       "\n",
       "    .dataframe tbody tr th {\n",
       "        vertical-align: top;\n",
       "    }\n",
       "\n",
       "    .dataframe thead th {\n",
       "        text-align: right;\n",
       "    }\n",
       "</style>\n",
       "<table border=\"1\" class=\"dataframe\">\n",
       "  <thead>\n",
       "    <tr style=\"text-align: right;\">\n",
       "      <th></th>\n",
       "      <th>gd</th>\n",
       "      <th>helpful_num</th>\n",
       "      <th>location</th>\n",
       "      <th>mgrRspnDummy</th>\n",
       "      <th>mgr_res_date</th>\n",
       "      <th>mrtext</th>\n",
       "      <th>ratingDate</th>\n",
       "      <th>review_id</th>\n",
       "      <th>reviewrating</th>\n",
       "      <th>reviewtext</th>\n",
       "      <th>...</th>\n",
       "      <th>ranking</th>\n",
       "      <th>rating_vol</th>\n",
       "      <th>rdetails</th>\n",
       "      <th>lnglat</th>\n",
       "      <th>rsubrating</th>\n",
       "      <th>vtype</th>\n",
       "      <th>amenities</th>\n",
       "      <th>details</th>\n",
       "      <th>v_name</th>\n",
       "      <th>rating_cat</th>\n",
       "    </tr>\n",
       "  </thead>\n",
       "  <tbody>\n",
       "    <tr>\n",
       "      <th>0</th>\n",
       "      <td>g45963-d1123368</td>\n",
       "      <td>NaN</td>\n",
       "      <td>Walnut Creek, California</td>\n",
       "      <td>0</td>\n",
       "      <td>NaN</td>\n",
       "      <td>NaN</td>\n",
       "      <td>2015-07-01</td>\n",
       "      <td>284818340</td>\n",
       "      <td>5</td>\n",
       "      <td>An excellent property! The rooms are very nice...</td>\n",
       "      <td>...</td>\n",
       "      <td>[4, 267]</td>\n",
       "      <td>9453.0</td>\n",
       "      <td>NaN</td>\n",
       "      <td>[-115.164505, 36.12825]</td>\n",
       "      <td>{}</td>\n",
       "      <td>Hotel_Review</td>\n",
       "      <td>{'Room types': 'Suites Non-Smoking Rooms ', 'S...</td>\n",
       "      <td>{'Address:': '3121 Las Vegas Blvd. South, Las ...</td>\n",
       "      <td>Encore At Wynn Las Vegas</td>\n",
       "      <td>4.5</td>\n",
       "    </tr>\n",
       "    <tr>\n",
       "      <th>1</th>\n",
       "      <td>g45963-d1123368</td>\n",
       "      <td>NaN</td>\n",
       "      <td>Maidstone, United Kingdom</td>\n",
       "      <td>0</td>\n",
       "      <td>NaN</td>\n",
       "      <td>NaN</td>\n",
       "      <td>2015-07-01</td>\n",
       "      <td>284776986</td>\n",
       "      <td>5</td>\n",
       "      <td>My first visit to Las Vegas and WOW!! Whilst a...</td>\n",
       "      <td>...</td>\n",
       "      <td>[4, 267]</td>\n",
       "      <td>9453.0</td>\n",
       "      <td>NaN</td>\n",
       "      <td>[-115.164505, 36.12825]</td>\n",
       "      <td>{}</td>\n",
       "      <td>Hotel_Review</td>\n",
       "      <td>{'Room types': 'Suites Non-Smoking Rooms ', 'S...</td>\n",
       "      <td>{'Address:': '3121 Las Vegas Blvd. South, Las ...</td>\n",
       "      <td>Encore At Wynn Las Vegas</td>\n",
       "      <td>4.5</td>\n",
       "    </tr>\n",
       "    <tr>\n",
       "      <th>2</th>\n",
       "      <td>g45963-d1123368</td>\n",
       "      <td>NaN</td>\n",
       "      <td>Brussels</td>\n",
       "      <td>0</td>\n",
       "      <td>NaN</td>\n",
       "      <td>NaN</td>\n",
       "      <td>2015-06-30</td>\n",
       "      <td>284187374</td>\n",
       "      <td>5</td>\n",
       "      <td>Some of the most beautiful hotel rooms in the ...</td>\n",
       "      <td>...</td>\n",
       "      <td>[4, 267]</td>\n",
       "      <td>9453.0</td>\n",
       "      <td>NaN</td>\n",
       "      <td>[-115.164505, 36.12825]</td>\n",
       "      <td>{}</td>\n",
       "      <td>Hotel_Review</td>\n",
       "      <td>{'Room types': 'Suites Non-Smoking Rooms ', 'S...</td>\n",
       "      <td>{'Address:': '3121 Las Vegas Blvd. South, Las ...</td>\n",
       "      <td>Encore At Wynn Las Vegas</td>\n",
       "      <td>4.5</td>\n",
       "    </tr>\n",
       "    <tr>\n",
       "      <th>3</th>\n",
       "      <td>g45963-d1123368</td>\n",
       "      <td>NaN</td>\n",
       "      <td>Colchester, United Kingdom</td>\n",
       "      <td>0</td>\n",
       "      <td>NaN</td>\n",
       "      <td>NaN</td>\n",
       "      <td>2015-06-13</td>\n",
       "      <td>279887884</td>\n",
       "      <td>5</td>\n",
       "      <td>This Hotel is exceptional, its beautifully set...</td>\n",
       "      <td>...</td>\n",
       "      <td>[4, 267]</td>\n",
       "      <td>9453.0</td>\n",
       "      <td>NaN</td>\n",
       "      <td>[-115.164505, 36.12825]</td>\n",
       "      <td>{}</td>\n",
       "      <td>Hotel_Review</td>\n",
       "      <td>{'Room types': 'Suites Non-Smoking Rooms ', 'S...</td>\n",
       "      <td>{'Address:': '3121 Las Vegas Blvd. South, Las ...</td>\n",
       "      <td>Encore At Wynn Las Vegas</td>\n",
       "      <td>4.5</td>\n",
       "    </tr>\n",
       "    <tr>\n",
       "      <th>4</th>\n",
       "      <td>g45963-d1123368</td>\n",
       "      <td>NaN</td>\n",
       "      <td>Denver, Colorado, United States</td>\n",
       "      <td>0</td>\n",
       "      <td>NaN</td>\n",
       "      <td>NaN</td>\n",
       "      <td>2015-06-13</td>\n",
       "      <td>279841140</td>\n",
       "      <td>5</td>\n",
       "      <td>My husband and I stayed here during a trip,to ...</td>\n",
       "      <td>...</td>\n",
       "      <td>[4, 267]</td>\n",
       "      <td>9453.0</td>\n",
       "      <td>NaN</td>\n",
       "      <td>[-115.164505, 36.12825]</td>\n",
       "      <td>{}</td>\n",
       "      <td>Hotel_Review</td>\n",
       "      <td>{'Room types': 'Suites Non-Smoking Rooms ', 'S...</td>\n",
       "      <td>{'Address:': '3121 Las Vegas Blvd. South, Las ...</td>\n",
       "      <td>Encore At Wynn Las Vegas</td>\n",
       "      <td>4.5</td>\n",
       "    </tr>\n",
       "  </tbody>\n",
       "</table>\n",
       "<p>5 rows × 25 columns</p>\n",
       "</div>"
      ],
      "text/plain": [
       "                gd  helpful_num                         location  \\\n",
       "0  g45963-d1123368          NaN         Walnut Creek, California   \n",
       "1  g45963-d1123368          NaN        Maidstone, United Kingdom   \n",
       "2  g45963-d1123368          NaN                         Brussels   \n",
       "3  g45963-d1123368          NaN       Colchester, United Kingdom   \n",
       "4  g45963-d1123368          NaN  Denver, Colorado, United States   \n",
       "\n",
       "   mgrRspnDummy mgr_res_date mrtext ratingDate  review_id  reviewrating  \\\n",
       "0             0          NaN    NaN 2015-07-01  284818340             5   \n",
       "1             0          NaN    NaN 2015-07-01  284776986             5   \n",
       "2             0          NaN    NaN 2015-06-30  284187374             5   \n",
       "3             0          NaN    NaN 2015-06-13  279887884             5   \n",
       "4             0          NaN    NaN 2015-06-13  279841140             5   \n",
       "\n",
       "                                          reviewtext  ...   ranking  \\\n",
       "0  An excellent property! The rooms are very nice...  ...  [4, 267]   \n",
       "1  My first visit to Las Vegas and WOW!! Whilst a...  ...  [4, 267]   \n",
       "2  Some of the most beautiful hotel rooms in the ...  ...  [4, 267]   \n",
       "3  This Hotel is exceptional, its beautifully set...  ...  [4, 267]   \n",
       "4  My husband and I stayed here during a trip,to ...  ...  [4, 267]   \n",
       "\n",
       "   rating_vol  rdetails                   lnglat rsubrating         vtype  \\\n",
       "0      9453.0       NaN  [-115.164505, 36.12825]         {}  Hotel_Review   \n",
       "1      9453.0       NaN  [-115.164505, 36.12825]         {}  Hotel_Review   \n",
       "2      9453.0       NaN  [-115.164505, 36.12825]         {}  Hotel_Review   \n",
       "3      9453.0       NaN  [-115.164505, 36.12825]         {}  Hotel_Review   \n",
       "4      9453.0       NaN  [-115.164505, 36.12825]         {}  Hotel_Review   \n",
       "\n",
       "                                           amenities  \\\n",
       "0  {'Room types': 'Suites Non-Smoking Rooms ', 'S...   \n",
       "1  {'Room types': 'Suites Non-Smoking Rooms ', 'S...   \n",
       "2  {'Room types': 'Suites Non-Smoking Rooms ', 'S...   \n",
       "3  {'Room types': 'Suites Non-Smoking Rooms ', 'S...   \n",
       "4  {'Room types': 'Suites Non-Smoking Rooms ', 'S...   \n",
       "\n",
       "                                             details  \\\n",
       "0  {'Address:': '3121 Las Vegas Blvd. South, Las ...   \n",
       "1  {'Address:': '3121 Las Vegas Blvd. South, Las ...   \n",
       "2  {'Address:': '3121 Las Vegas Blvd. South, Las ...   \n",
       "3  {'Address:': '3121 Las Vegas Blvd. South, Las ...   \n",
       "4  {'Address:': '3121 Las Vegas Blvd. South, Las ...   \n",
       "\n",
       "                     v_name rating_cat  \n",
       "0  Encore At Wynn Las Vegas        4.5  \n",
       "1  Encore At Wynn Las Vegas        4.5  \n",
       "2  Encore At Wynn Las Vegas        4.5  \n",
       "3  Encore At Wynn Las Vegas        4.5  \n",
       "4  Encore At Wynn Las Vegas        4.5  \n",
       "\n",
       "[5 rows x 25 columns]"
      ]
     },
     "execution_count": 18,
     "metadata": {},
     "output_type": "execute_result"
    }
   ],
   "source": [
    "# preview your dataframe\n",
    "df.head()"
   ]
  },
  {
   "cell_type": "code",
   "execution_count": 19,
   "metadata": {
    "id": "B7ZJC3lxvSHl"
   },
   "outputs": [
    {
     "data": {
      "text/plain": [
       "34"
      ]
     },
     "execution_count": 19,
     "metadata": {},
     "output_type": "execute_result"
    }
   ],
   "source": [
    "# check unique number of gd's (recall the .nunique() method for pandas data series)\n",
    "\n",
    "df.gd.nunique()"
   ]
  },
  {
   "cell_type": "markdown",
   "metadata": {
    "id": "IiNDsi_yEqMw"
   },
   "source": [
    "**answer this**\n",
    "\n",
    "How many hotels are there? **Answer -- 34 hotels**"
   ]
  },
  {
   "cell_type": "code",
   "execution_count": 20,
   "metadata": {
    "id": "REcdj0Vd7ycV"
   },
   "outputs": [
    {
     "name": "stdout",
     "output_type": "stream",
     "text": [
      "Encore At Wynn Las Vegas\n",
      "New York - New York Hotel and Casino\n",
      "Bally's Las Vegas\n",
      "Venetian Resort Hotel Casino\n",
      "Rio All-Suite Hotel & Casino\n",
      "Wynn Las Vegas\n",
      "MGM Grand Hotel and Casino\n",
      "Tropicana Las Vegas - A DoubleTree by Hilton Hotel\n",
      "Excalibur Hotel & Casino\n",
      "Monte Carlo Resort & Casino\n",
      "The LINQ Hotel & Casino\n",
      "Hard Rock Hotel and Casino\n",
      "Paris Las Vegas\n",
      "The Mirage Hotel & Casino\n",
      "Trump International Hotel Las Vegas\n",
      "Plaza Hotel & Casino\n",
      "Caesars Palace\n",
      "Luxor Las Vegas\n",
      "Signature at MGM\n",
      "Planet Hollywood Resort & Casino\n",
      "Vdara Hotel & Spa\n",
      "Golden Nugget Hotel\n",
      "Treasure Island - TI Hotel & Casino\n",
      "Stratosphere Hotel, Casino and Tower\n",
      "Mandalay Bay Resort & Casino\n",
      "The Cosmopolitan of Las Vegas, Autograph Collection\n",
      "SLS Las Vegas Hotel & Casino\n",
      "Bellagio Las Vegas\n",
      "Circus Circus Hotel & Casino Las Vegas\n",
      "Flamingo Las Vegas Hotel & Casino\n",
      "Delano Las Vegas\n",
      "Harrah's Las Vegas\n",
      "The Palazzo Resort Hotel Casino\n",
      "ARIA Resort & Casino\n"
     ]
    }
   ],
   "source": [
    "# print out the unique hotel names\n",
    "hotels = df.v_name.unique()\n",
    "for hotel in hotels:\n",
    "    print(hotel)"
   ]
  },
  {
   "cell_type": "markdown",
   "metadata": {
    "id": "JcigV3skE3Ej"
   },
   "source": [
    "# Sentiment Analysis (3 points)"
   ]
  },
  {
   "cell_type": "markdown",
   "metadata": {
    "id": "PeQhtf_3FNsX"
   },
   "source": [
    "## Remove non-English reviews"
   ]
  },
  {
   "cell_type": "markdown",
   "metadata": {
    "id": "G3CYr25fFS_1"
   },
   "source": [
    "**Answer this question**\n",
    "\n",
    "How can we use \"stopwords\" to detect non-English reviews? Describe in some detail the idea of this method **in your own words**. Do not explain the technical details of the code, conceptually describe the overall steps.\n",
    "\n",
    "**Answer below**\n",
    "\n",
    "Give big picture overview (replace w/ your answer).\n",
    "\n",
    "1. step 1.. Sort the comments based on the percentage of stop words found in each.\n",
    "1. step 2...Use a histogram to see if the distribution of comments based on % stop words is bimodal or skewed.\n",
    "1. step 3...Examine a small sample of the comments exhibiting inordinately low % use of stop words.\n",
    "1. step 4...If that sample of comments are not english or disproprionatenly not english (since english comments will presumably use a higher % of stop words), then categorically exclude the bucket of comments with low % stop words usage from the data set.\n",
    "\n",
    "\n"
   ]
  },
  {
   "cell_type": "code",
   "execution_count": 21,
   "metadata": {
    "id": "4B-hvtAeu0XF"
   },
   "outputs": [
    {
     "name": "stderr",
     "output_type": "stream",
     "text": [
      "[nltk_data] Downloading package stopwords to /home/bob/nltk_data...\n",
      "[nltk_data]   Package stopwords is already up-to-date!\n"
     ]
    }
   ],
   "source": [
    "# import stopwords\n",
    "import nltk\n",
    "nltk.download('stopwords') # download stopwords from NLTK servers\n",
    "from nltk.corpus import stopwords # import them\n",
    "sw = stopwords.words('english')"
   ]
  },
  {
   "cell_type": "code",
   "execution_count": 22,
   "metadata": {
    "id": "EYlcVDlPFENX"
   },
   "outputs": [
    {
     "name": "stdout",
     "output_type": "stream",
     "text": [
      "['i', 'me', 'my', 'myself', 'we', 'our', 'ours', 'ourselves', 'you', \"you're\", \"you've\", \"you'll\", \"you'd\", 'your', 'yours', 'yourself', 'yourselves', 'he', 'him', 'his', 'himself', 'she', \"she's\", 'her', 'hers', 'herself', 'it', \"it's\", 'its', 'itself', 'they', 'them', 'their', 'theirs', 'themselves', 'what', 'which', 'who', 'whom', 'this', 'that', \"that'll\", 'these', 'those', 'am', 'is', 'are', 'was', 'were', 'be', 'been', 'being', 'have', 'has', 'had', 'having', 'do', 'does', 'did', 'doing', 'a', 'an', 'the', 'and', 'but', 'if', 'or', 'because', 'as', 'until', 'while', 'of', 'at', 'by', 'for', 'with', 'about', 'against', 'between', 'into', 'through', 'during', 'before', 'after', 'above', 'below', 'to', 'from', 'up', 'down', 'in', 'out', 'on', 'off', 'over', 'under', 'again', 'further', 'then', 'once', 'here', 'there', 'when', 'where', 'why', 'how', 'all', 'any', 'both', 'each', 'few', 'more', 'most', 'other', 'some', 'such', 'no', 'nor', 'not', 'only', 'own', 'same', 'so', 'than', 'too', 'very', 's', 't', 'can', 'will', 'just', 'don', \"don't\", 'should', \"should've\", 'now', 'd', 'll', 'm', 'o', 're', 've', 'y', 'ain', 'aren', \"aren't\", 'couldn', \"couldn't\", 'didn', \"didn't\", 'doesn', \"doesn't\", 'hadn', \"hadn't\", 'hasn', \"hasn't\", 'haven', \"haven't\", 'isn', \"isn't\", 'ma', 'mightn', \"mightn't\", 'mustn', \"mustn't\", 'needn', \"needn't\", 'shan', \"shan't\", 'shouldn', \"shouldn't\", 'wasn', \"wasn't\", 'weren', \"weren't\", 'won', \"won't\", 'wouldn', \"wouldn't\"]\n"
     ]
    }
   ],
   "source": [
    "# print the stopwords\n",
    "print(sw)"
   ]
  },
  {
   "cell_type": "code",
   "execution_count": 23,
   "metadata": {
    "id": "dXq82hMgvITg"
   },
   "outputs": [],
   "source": [
    "# compute the number of stopwords in each review\n",
    "df['nstopwords'] = df.reviewtext.str.lower().str.split().apply(lambda x: len([w for w in x if w in sw]))"
   ]
  },
  {
   "cell_type": "code",
   "execution_count": 24,
   "metadata": {},
   "outputs": [
    {
     "data": {
      "text/html": [
       "<div>\n",
       "<style scoped>\n",
       "    .dataframe tbody tr th:only-of-type {\n",
       "        vertical-align: middle;\n",
       "    }\n",
       "\n",
       "    .dataframe tbody tr th {\n",
       "        vertical-align: top;\n",
       "    }\n",
       "\n",
       "    .dataframe thead th {\n",
       "        text-align: right;\n",
       "    }\n",
       "</style>\n",
       "<table border=\"1\" class=\"dataframe\">\n",
       "  <thead>\n",
       "    <tr style=\"text-align: right;\">\n",
       "      <th></th>\n",
       "      <th>gd</th>\n",
       "      <th>helpful_num</th>\n",
       "      <th>location</th>\n",
       "      <th>mgrRspnDummy</th>\n",
       "      <th>mgr_res_date</th>\n",
       "      <th>mrtext</th>\n",
       "      <th>ratingDate</th>\n",
       "      <th>review_id</th>\n",
       "      <th>reviewrating</th>\n",
       "      <th>reviewtext</th>\n",
       "      <th>...</th>\n",
       "      <th>rating_vol</th>\n",
       "      <th>rdetails</th>\n",
       "      <th>lnglat</th>\n",
       "      <th>rsubrating</th>\n",
       "      <th>vtype</th>\n",
       "      <th>amenities</th>\n",
       "      <th>details</th>\n",
       "      <th>v_name</th>\n",
       "      <th>rating_cat</th>\n",
       "      <th>nstopwords</th>\n",
       "    </tr>\n",
       "  </thead>\n",
       "  <tbody>\n",
       "    <tr>\n",
       "      <th>0</th>\n",
       "      <td>g45963-d1123368</td>\n",
       "      <td>NaN</td>\n",
       "      <td>Walnut Creek, California</td>\n",
       "      <td>0</td>\n",
       "      <td>NaN</td>\n",
       "      <td>NaN</td>\n",
       "      <td>2015-07-01</td>\n",
       "      <td>284818340</td>\n",
       "      <td>5</td>\n",
       "      <td>An excellent property! The rooms are very nice...</td>\n",
       "      <td>...</td>\n",
       "      <td>9453.0</td>\n",
       "      <td>NaN</td>\n",
       "      <td>[-115.164505, 36.12825]</td>\n",
       "      <td>{}</td>\n",
       "      <td>Hotel_Review</td>\n",
       "      <td>{'Room types': 'Suites Non-Smoking Rooms ', 'S...</td>\n",
       "      <td>{'Address:': '3121 Las Vegas Blvd. South, Las ...</td>\n",
       "      <td>Encore At Wynn Las Vegas</td>\n",
       "      <td>4.5</td>\n",
       "      <td>34</td>\n",
       "    </tr>\n",
       "    <tr>\n",
       "      <th>1</th>\n",
       "      <td>g45963-d1123368</td>\n",
       "      <td>NaN</td>\n",
       "      <td>Maidstone, United Kingdom</td>\n",
       "      <td>0</td>\n",
       "      <td>NaN</td>\n",
       "      <td>NaN</td>\n",
       "      <td>2015-07-01</td>\n",
       "      <td>284776986</td>\n",
       "      <td>5</td>\n",
       "      <td>My first visit to Las Vegas and WOW!! Whilst a...</td>\n",
       "      <td>...</td>\n",
       "      <td>9453.0</td>\n",
       "      <td>NaN</td>\n",
       "      <td>[-115.164505, 36.12825]</td>\n",
       "      <td>{}</td>\n",
       "      <td>Hotel_Review</td>\n",
       "      <td>{'Room types': 'Suites Non-Smoking Rooms ', 'S...</td>\n",
       "      <td>{'Address:': '3121 Las Vegas Blvd. South, Las ...</td>\n",
       "      <td>Encore At Wynn Las Vegas</td>\n",
       "      <td>4.5</td>\n",
       "      <td>46</td>\n",
       "    </tr>\n",
       "    <tr>\n",
       "      <th>2</th>\n",
       "      <td>g45963-d1123368</td>\n",
       "      <td>NaN</td>\n",
       "      <td>Brussels</td>\n",
       "      <td>0</td>\n",
       "      <td>NaN</td>\n",
       "      <td>NaN</td>\n",
       "      <td>2015-06-30</td>\n",
       "      <td>284187374</td>\n",
       "      <td>5</td>\n",
       "      <td>Some of the most beautiful hotel rooms in the ...</td>\n",
       "      <td>...</td>\n",
       "      <td>9453.0</td>\n",
       "      <td>NaN</td>\n",
       "      <td>[-115.164505, 36.12825]</td>\n",
       "      <td>{}</td>\n",
       "      <td>Hotel_Review</td>\n",
       "      <td>{'Room types': 'Suites Non-Smoking Rooms ', 'S...</td>\n",
       "      <td>{'Address:': '3121 Las Vegas Blvd. South, Las ...</td>\n",
       "      <td>Encore At Wynn Las Vegas</td>\n",
       "      <td>4.5</td>\n",
       "      <td>61</td>\n",
       "    </tr>\n",
       "    <tr>\n",
       "      <th>3</th>\n",
       "      <td>g45963-d1123368</td>\n",
       "      <td>NaN</td>\n",
       "      <td>Colchester, United Kingdom</td>\n",
       "      <td>0</td>\n",
       "      <td>NaN</td>\n",
       "      <td>NaN</td>\n",
       "      <td>2015-06-13</td>\n",
       "      <td>279887884</td>\n",
       "      <td>5</td>\n",
       "      <td>This Hotel is exceptional, its beautifully set...</td>\n",
       "      <td>...</td>\n",
       "      <td>9453.0</td>\n",
       "      <td>NaN</td>\n",
       "      <td>[-115.164505, 36.12825]</td>\n",
       "      <td>{}</td>\n",
       "      <td>Hotel_Review</td>\n",
       "      <td>{'Room types': 'Suites Non-Smoking Rooms ', 'S...</td>\n",
       "      <td>{'Address:': '3121 Las Vegas Blvd. South, Las ...</td>\n",
       "      <td>Encore At Wynn Las Vegas</td>\n",
       "      <td>4.5</td>\n",
       "      <td>77</td>\n",
       "    </tr>\n",
       "    <tr>\n",
       "      <th>4</th>\n",
       "      <td>g45963-d1123368</td>\n",
       "      <td>NaN</td>\n",
       "      <td>Denver, Colorado, United States</td>\n",
       "      <td>0</td>\n",
       "      <td>NaN</td>\n",
       "      <td>NaN</td>\n",
       "      <td>2015-06-13</td>\n",
       "      <td>279841140</td>\n",
       "      <td>5</td>\n",
       "      <td>My husband and I stayed here during a trip,to ...</td>\n",
       "      <td>...</td>\n",
       "      <td>9453.0</td>\n",
       "      <td>NaN</td>\n",
       "      <td>[-115.164505, 36.12825]</td>\n",
       "      <td>{}</td>\n",
       "      <td>Hotel_Review</td>\n",
       "      <td>{'Room types': 'Suites Non-Smoking Rooms ', 'S...</td>\n",
       "      <td>{'Address:': '3121 Las Vegas Blvd. South, Las ...</td>\n",
       "      <td>Encore At Wynn Las Vegas</td>\n",
       "      <td>4.5</td>\n",
       "      <td>80</td>\n",
       "    </tr>\n",
       "    <tr>\n",
       "      <th>...</th>\n",
       "      <td>...</td>\n",
       "      <td>...</td>\n",
       "      <td>...</td>\n",
       "      <td>...</td>\n",
       "      <td>...</td>\n",
       "      <td>...</td>\n",
       "      <td>...</td>\n",
       "      <td>...</td>\n",
       "      <td>...</td>\n",
       "      <td>...</td>\n",
       "      <td>...</td>\n",
       "      <td>...</td>\n",
       "      <td>...</td>\n",
       "      <td>...</td>\n",
       "      <td>...</td>\n",
       "      <td>...</td>\n",
       "      <td>...</td>\n",
       "      <td>...</td>\n",
       "      <td>...</td>\n",
       "      <td>...</td>\n",
       "      <td>...</td>\n",
       "    </tr>\n",
       "    <tr>\n",
       "      <th>46639</th>\n",
       "      <td>g45963-d91925</td>\n",
       "      <td>3.0</td>\n",
       "      <td>Washington DC, District of Columbia</td>\n",
       "      <td>1</td>\n",
       "      <td>2015-03-16</td>\n",
       "      <td>Thank you for your wonderful review. It is gre...</td>\n",
       "      <td>2015-03-15</td>\n",
       "      <td>259656436</td>\n",
       "      <td>5</td>\n",
       "      <td>Aria is one of the top hotels in the strip and...</td>\n",
       "      <td>...</td>\n",
       "      <td>21627.0</td>\n",
       "      <td>NaN</td>\n",
       "      <td>[-115.17628, 36.107323]</td>\n",
       "      <td>{}</td>\n",
       "      <td>Hotel_Review</td>\n",
       "      <td>{'Things to do': 'Pool Fitness Center with Gym...</td>\n",
       "      <td>{'Address:': '3730 Las Vegas Boulevard South, ...</td>\n",
       "      <td>ARIA Resort &amp; Casino</td>\n",
       "      <td>4.5</td>\n",
       "      <td>39</td>\n",
       "    </tr>\n",
       "    <tr>\n",
       "      <th>46640</th>\n",
       "      <td>g45963-d91925</td>\n",
       "      <td>NaN</td>\n",
       "      <td>Portland, Oregon</td>\n",
       "      <td>1</td>\n",
       "      <td>2015-03-16</td>\n",
       "      <td>Dear Bobbi, Thank you so much for choosing ARI...</td>\n",
       "      <td>2015-03-15</td>\n",
       "      <td>259650112</td>\n",
       "      <td>5</td>\n",
       "      <td>My husband and I just returned from Aria yeste...</td>\n",
       "      <td>...</td>\n",
       "      <td>21627.0</td>\n",
       "      <td>NaN</td>\n",
       "      <td>[-115.17628, 36.107323]</td>\n",
       "      <td>{}</td>\n",
       "      <td>Hotel_Review</td>\n",
       "      <td>{'Things to do': 'Pool Fitness Center with Gym...</td>\n",
       "      <td>{'Address:': '3730 Las Vegas Boulevard South, ...</td>\n",
       "      <td>ARIA Resort &amp; Casino</td>\n",
       "      <td>4.5</td>\n",
       "      <td>168</td>\n",
       "    </tr>\n",
       "    <tr>\n",
       "      <th>46641</th>\n",
       "      <td>g45963-d91925</td>\n",
       "      <td>NaN</td>\n",
       "      <td>MANCHESTER</td>\n",
       "      <td>1</td>\n",
       "      <td>2015-03-19</td>\n",
       "      <td>Thank you for your recommendation and sharing ...</td>\n",
       "      <td>2015-03-15</td>\n",
       "      <td>259639795</td>\n",
       "      <td>5</td>\n",
       "      <td>9 years since my last visit to Vegas &amp; this ho...</td>\n",
       "      <td>...</td>\n",
       "      <td>21627.0</td>\n",
       "      <td>NaN</td>\n",
       "      <td>[-115.17628, 36.107323]</td>\n",
       "      <td>{}</td>\n",
       "      <td>Hotel_Review</td>\n",
       "      <td>{'Things to do': 'Pool Fitness Center with Gym...</td>\n",
       "      <td>{'Address:': '3730 Las Vegas Boulevard South, ...</td>\n",
       "      <td>ARIA Resort &amp; Casino</td>\n",
       "      <td>4.5</td>\n",
       "      <td>80</td>\n",
       "    </tr>\n",
       "    <tr>\n",
       "      <th>46642</th>\n",
       "      <td>g45963-d91925</td>\n",
       "      <td>NaN</td>\n",
       "      <td>NaN</td>\n",
       "      <td>1</td>\n",
       "      <td>2015-03-16</td>\n",
       "      <td>Dear Ramiro, Thank you for staying at ARIA to ...</td>\n",
       "      <td>2015-03-15</td>\n",
       "      <td>259601035</td>\n",
       "      <td>5</td>\n",
       "      <td>Stayed for one night for friends birthday. Gre...</td>\n",
       "      <td>...</td>\n",
       "      <td>21627.0</td>\n",
       "      <td>NaN</td>\n",
       "      <td>[-115.17628, 36.107323]</td>\n",
       "      <td>{}</td>\n",
       "      <td>Hotel_Review</td>\n",
       "      <td>{'Things to do': 'Pool Fitness Center with Gym...</td>\n",
       "      <td>{'Address:': '3730 Las Vegas Boulevard South, ...</td>\n",
       "      <td>ARIA Resort &amp; Casino</td>\n",
       "      <td>4.5</td>\n",
       "      <td>16</td>\n",
       "    </tr>\n",
       "    <tr>\n",
       "      <th>46643</th>\n",
       "      <td>g45963-d91925</td>\n",
       "      <td>2.0</td>\n",
       "      <td>wa st</td>\n",
       "      <td>1</td>\n",
       "      <td>2015-03-16</td>\n",
       "      <td>Dear RJ, Thank you for your recent stay at ARI...</td>\n",
       "      <td>2015-03-14</td>\n",
       "      <td>259479582</td>\n",
       "      <td>4</td>\n",
       "      <td>I stay here just because the bed and pillows a...</td>\n",
       "      <td>...</td>\n",
       "      <td>21627.0</td>\n",
       "      <td>NaN</td>\n",
       "      <td>[-115.17628, 36.107323]</td>\n",
       "      <td>{}</td>\n",
       "      <td>Hotel_Review</td>\n",
       "      <td>{'Things to do': 'Pool Fitness Center with Gym...</td>\n",
       "      <td>{'Address:': '3730 Las Vegas Boulevard South, ...</td>\n",
       "      <td>ARIA Resort &amp; Casino</td>\n",
       "      <td>4.5</td>\n",
       "      <td>30</td>\n",
       "    </tr>\n",
       "  </tbody>\n",
       "</table>\n",
       "<p>46644 rows × 26 columns</p>\n",
       "</div>"
      ],
      "text/plain": [
       "                    gd  helpful_num                             location  \\\n",
       "0      g45963-d1123368          NaN             Walnut Creek, California   \n",
       "1      g45963-d1123368          NaN            Maidstone, United Kingdom   \n",
       "2      g45963-d1123368          NaN                             Brussels   \n",
       "3      g45963-d1123368          NaN           Colchester, United Kingdom   \n",
       "4      g45963-d1123368          NaN      Denver, Colorado, United States   \n",
       "...                ...          ...                                  ...   \n",
       "46639    g45963-d91925          3.0  Washington DC, District of Columbia   \n",
       "46640    g45963-d91925          NaN                     Portland, Oregon   \n",
       "46641    g45963-d91925          NaN                           MANCHESTER   \n",
       "46642    g45963-d91925          NaN                                  NaN   \n",
       "46643    g45963-d91925          2.0                                wa st   \n",
       "\n",
       "       mgrRspnDummy mgr_res_date  \\\n",
       "0                 0          NaN   \n",
       "1                 0          NaN   \n",
       "2                 0          NaN   \n",
       "3                 0          NaN   \n",
       "4                 0          NaN   \n",
       "...             ...          ...   \n",
       "46639             1   2015-03-16   \n",
       "46640             1   2015-03-16   \n",
       "46641             1   2015-03-19   \n",
       "46642             1   2015-03-16   \n",
       "46643             1   2015-03-16   \n",
       "\n",
       "                                                  mrtext ratingDate  \\\n",
       "0                                                    NaN 2015-07-01   \n",
       "1                                                    NaN 2015-07-01   \n",
       "2                                                    NaN 2015-06-30   \n",
       "3                                                    NaN 2015-06-13   \n",
       "4                                                    NaN 2015-06-13   \n",
       "...                                                  ...        ...   \n",
       "46639  Thank you for your wonderful review. It is gre... 2015-03-15   \n",
       "46640  Dear Bobbi, Thank you so much for choosing ARI... 2015-03-15   \n",
       "46641  Thank you for your recommendation and sharing ... 2015-03-15   \n",
       "46642  Dear Ramiro, Thank you for staying at ARIA to ... 2015-03-15   \n",
       "46643  Dear RJ, Thank you for your recent stay at ARI... 2015-03-14   \n",
       "\n",
       "       review_id  reviewrating  \\\n",
       "0      284818340             5   \n",
       "1      284776986             5   \n",
       "2      284187374             5   \n",
       "3      279887884             5   \n",
       "4      279841140             5   \n",
       "...          ...           ...   \n",
       "46639  259656436             5   \n",
       "46640  259650112             5   \n",
       "46641  259639795             5   \n",
       "46642  259601035             5   \n",
       "46643  259479582             4   \n",
       "\n",
       "                                              reviewtext  ... rating_vol  \\\n",
       "0      An excellent property! The rooms are very nice...  ...     9453.0   \n",
       "1      My first visit to Las Vegas and WOW!! Whilst a...  ...     9453.0   \n",
       "2      Some of the most beautiful hotel rooms in the ...  ...     9453.0   \n",
       "3      This Hotel is exceptional, its beautifully set...  ...     9453.0   \n",
       "4      My husband and I stayed here during a trip,to ...  ...     9453.0   \n",
       "...                                                  ...  ...        ...   \n",
       "46639  Aria is one of the top hotels in the strip and...  ...    21627.0   \n",
       "46640  My husband and I just returned from Aria yeste...  ...    21627.0   \n",
       "46641  9 years since my last visit to Vegas & this ho...  ...    21627.0   \n",
       "46642  Stayed for one night for friends birthday. Gre...  ...    21627.0   \n",
       "46643  I stay here just because the bed and pillows a...  ...    21627.0   \n",
       "\n",
       "       rdetails                   lnglat rsubrating         vtype  \\\n",
       "0           NaN  [-115.164505, 36.12825]         {}  Hotel_Review   \n",
       "1           NaN  [-115.164505, 36.12825]         {}  Hotel_Review   \n",
       "2           NaN  [-115.164505, 36.12825]         {}  Hotel_Review   \n",
       "3           NaN  [-115.164505, 36.12825]         {}  Hotel_Review   \n",
       "4           NaN  [-115.164505, 36.12825]         {}  Hotel_Review   \n",
       "...         ...                      ...        ...           ...   \n",
       "46639       NaN  [-115.17628, 36.107323]         {}  Hotel_Review   \n",
       "46640       NaN  [-115.17628, 36.107323]         {}  Hotel_Review   \n",
       "46641       NaN  [-115.17628, 36.107323]         {}  Hotel_Review   \n",
       "46642       NaN  [-115.17628, 36.107323]         {}  Hotel_Review   \n",
       "46643       NaN  [-115.17628, 36.107323]         {}  Hotel_Review   \n",
       "\n",
       "                                               amenities  \\\n",
       "0      {'Room types': 'Suites Non-Smoking Rooms ', 'S...   \n",
       "1      {'Room types': 'Suites Non-Smoking Rooms ', 'S...   \n",
       "2      {'Room types': 'Suites Non-Smoking Rooms ', 'S...   \n",
       "3      {'Room types': 'Suites Non-Smoking Rooms ', 'S...   \n",
       "4      {'Room types': 'Suites Non-Smoking Rooms ', 'S...   \n",
       "...                                                  ...   \n",
       "46639  {'Things to do': 'Pool Fitness Center with Gym...   \n",
       "46640  {'Things to do': 'Pool Fitness Center with Gym...   \n",
       "46641  {'Things to do': 'Pool Fitness Center with Gym...   \n",
       "46642  {'Things to do': 'Pool Fitness Center with Gym...   \n",
       "46643  {'Things to do': 'Pool Fitness Center with Gym...   \n",
       "\n",
       "                                                 details  \\\n",
       "0      {'Address:': '3121 Las Vegas Blvd. South, Las ...   \n",
       "1      {'Address:': '3121 Las Vegas Blvd. South, Las ...   \n",
       "2      {'Address:': '3121 Las Vegas Blvd. South, Las ...   \n",
       "3      {'Address:': '3121 Las Vegas Blvd. South, Las ...   \n",
       "4      {'Address:': '3121 Las Vegas Blvd. South, Las ...   \n",
       "...                                                  ...   \n",
       "46639  {'Address:': '3730 Las Vegas Boulevard South, ...   \n",
       "46640  {'Address:': '3730 Las Vegas Boulevard South, ...   \n",
       "46641  {'Address:': '3730 Las Vegas Boulevard South, ...   \n",
       "46642  {'Address:': '3730 Las Vegas Boulevard South, ...   \n",
       "46643  {'Address:': '3730 Las Vegas Boulevard South, ...   \n",
       "\n",
       "                         v_name rating_cat nstopwords  \n",
       "0      Encore At Wynn Las Vegas        4.5         34  \n",
       "1      Encore At Wynn Las Vegas        4.5         46  \n",
       "2      Encore At Wynn Las Vegas        4.5         61  \n",
       "3      Encore At Wynn Las Vegas        4.5         77  \n",
       "4      Encore At Wynn Las Vegas        4.5         80  \n",
       "...                         ...        ...        ...  \n",
       "46639      ARIA Resort & Casino        4.5         39  \n",
       "46640      ARIA Resort & Casino        4.5        168  \n",
       "46641      ARIA Resort & Casino        4.5         80  \n",
       "46642      ARIA Resort & Casino        4.5         16  \n",
       "46643      ARIA Resort & Casino        4.5         30  \n",
       "\n",
       "[46644 rows x 26 columns]"
      ]
     },
     "execution_count": 24,
     "metadata": {},
     "output_type": "execute_result"
    }
   ],
   "source": [
    "df"
   ]
  },
  {
   "cell_type": "markdown",
   "metadata": {
    "id": "qFPWV4jSJE3A"
   },
   "source": [
    "**Answer below questions in your own words**\n",
    "\n",
    "1. What does `.str.lower()` do? \n",
    "    1. **Answer:   Converts all characters contained in reviewtext cell to lowercase**\n",
    "1. What does `str.split()` do?\n",
    "    1. **Answer:  Splits the string of characters in the reviewtext cell into individual individual strings based on space as a delimiter**\n",
    "1. What is the purpose of `apply(lambda x: ...)`?\n",
    "    1. **Answer:  This applys a lambda function to create the new cell value for nstopwords**\n",
    "1. What does `[w for w in x if w in sw]` do?\n",
    "    1. **Answer:  This is a list comprehension that cycles through the entire list of individual strings from reviewtext created by split function, one by one, and checks to see if the individual string is in the list of stop words; if it is, it creates a list of those stop words found**\n",
    "1. What does `len(...)` do?\n",
    "    1. **Answer:  The \"len\" function obtains the length of the list created by the prior step, which is the number of stopwords in reviewtext, so that the number can ultimately be used to populate the nstopwords cell**"
   ]
  },
  {
   "cell_type": "code",
   "execution_count": 25,
   "metadata": {
    "id": "zbkmm6Gyvii_"
   },
   "outputs": [],
   "source": [
    "# compute total number of words in review\n",
    "df['textlen'] = df.reviewtext.str.split().map(len)\n",
    "# compute percentage of stopwords\n",
    "df['pct_stopwords'] = df.nstopwords/df.textlen"
   ]
  },
  {
   "cell_type": "code",
   "execution_count": 26,
   "metadata": {
    "id": "n82oyQkAvqwx"
   },
   "outputs": [
    {
     "data": {
      "text/plain": [
       "<matplotlib.axes._subplots.AxesSubplot at 0x7f786bea8d10>"
      ]
     },
     "execution_count": 26,
     "metadata": {},
     "output_type": "execute_result"
    },
    {
     "data": {
      "image/png": "[encoded data removed]",
      "text/plain": [
       "<Figure size 432x288 with 1 Axes>"
      ]
     },
     "metadata": {
      "needs_background": "light"
     },
     "output_type": "display_data"
    }
   ],
   "source": [
    "# Plot the histgraom of stopwords\n",
    "df.pct_stopwords.hist() # distribution of stopwords"
   ]
  },
  {
   "cell_type": "code",
   "execution_count": 27,
   "metadata": {
    "id": "oniK4hsgvulL"
   },
   "outputs": [
    {
     "data": {
      "text/plain": [
       "2018     Good service csdgh jhggrr hfdsew bczss hgdsssa...\n",
       "8014     良かったところ： 高級感あふれるホテル内装の装飾が素敵でした。 とにかく何でも高価なので、高...\n",
       "38546    good value, nice pool & seafood buffet...........\n",
       "42284    Great stay. !!!!!!!!!!!!Great stay. !!!!!!!!!!...\n",
       "Name: reviewtext, dtype: object"
      ]
     },
     "execution_count": 27,
     "metadata": {},
     "output_type": "execute_result"
    }
   ],
   "source": [
    "# select reviews with 0 percent stopwords\n",
    "# use df.loc[condition, 'reviewtext'] with the appropriate condition\n",
    "df.loc[df.pct_stopwords==.0, 'reviewtext']"
   ]
  },
  {
   "cell_type": "markdown",
   "metadata": {
    "id": "DxqY5mhsKXMg"
   },
   "source": [
    "**Answer this**\n",
    "There should only be 1 non-English review above. What is its index number?\n",
    "\n",
    "1. 8014"
   ]
  },
  {
   "cell_type": "code",
   "execution_count": 28,
   "metadata": {
    "id": "I__OMSwvKjBV"
   },
   "outputs": [],
   "source": [
    "# remove the non-english review\n",
    "# use df = df.loc[df.index != the non-english review index].reset_index()\n",
    "\n",
    "df = df.loc[df.index != 8014].reset_index() # fill this in"
   ]
  },
  {
   "cell_type": "code",
   "execution_count": 29,
   "metadata": {
    "id": "2TII4zujwhZr"
   },
   "outputs": [],
   "source": [
    "# compute the polarity and subjectiity using the TextBlob library for every review\n",
    "# create 2 new columns for these values: 'polarity' and 'subjectivity'\n",
    "\n",
    "df['polarity'] = df['reviewtext'].apply(lambda x: TextBlob(x).sentiment.polarity) # calculate polarity and subjectivity in one shot\n",
    "df['subjectivity'] = df['reviewtext'].apply(lambda x: TextBlob(x).sentiment.subjectivity) # calculate polarity and subjectivity in one shot\n",
    "\n",
    "# this may take a few minutes to run"
   ]
  },
  {
   "cell_type": "code",
   "execution_count": 30,
   "metadata": {
    "id": "pCp9yQnnxMji"
   },
   "outputs": [
    {
     "data": {
      "text/html": [
       "<div>\n",
       "<style scoped>\n",
       "    .dataframe tbody tr th:only-of-type {\n",
       "        vertical-align: middle;\n",
       "    }\n",
       "\n",
       "    .dataframe tbody tr th {\n",
       "        vertical-align: top;\n",
       "    }\n",
       "\n",
       "    .dataframe thead th {\n",
       "        text-align: right;\n",
       "    }\n",
       "</style>\n",
       "<table border=\"1\" class=\"dataframe\">\n",
       "  <thead>\n",
       "    <tr style=\"text-align: right;\">\n",
       "      <th></th>\n",
       "      <th>reviewrating</th>\n",
       "      <th>polarity</th>\n",
       "      <th>subjectivity</th>\n",
       "    </tr>\n",
       "  </thead>\n",
       "  <tbody>\n",
       "    <tr>\n",
       "      <th>reviewrating</th>\n",
       "      <td>1.000000</td>\n",
       "      <td>0.591453</td>\n",
       "      <td>0.237701</td>\n",
       "    </tr>\n",
       "    <tr>\n",
       "      <th>polarity</th>\n",
       "      <td>0.591453</td>\n",
       "      <td>1.000000</td>\n",
       "      <td>0.440534</td>\n",
       "    </tr>\n",
       "    <tr>\n",
       "      <th>subjectivity</th>\n",
       "      <td>0.237701</td>\n",
       "      <td>0.440534</td>\n",
       "      <td>1.000000</td>\n",
       "    </tr>\n",
       "  </tbody>\n",
       "</table>\n",
       "</div>"
      ],
      "text/plain": [
       "              reviewrating  polarity  subjectivity\n",
       "reviewrating      1.000000  0.591453      0.237701\n",
       "polarity          0.591453  1.000000      0.440534\n",
       "subjectivity      0.237701  0.440534      1.000000"
      ]
     },
     "execution_count": 30,
     "metadata": {},
     "output_type": "execute_result"
    }
   ],
   "source": [
    "# compute the correlation matrix betwee reviewrating, polarity, and subjectivity\n",
    "df[['reviewrating', 'polarity', 'subjectivity']].corr()"
   ]
  },
  {
   "cell_type": "markdown",
   "metadata": {
    "id": "P_UF2gMIMIbT"
   },
   "source": [
    "**Answer this**\n",
    "What does the correlation between review rating and subjectivity tell you about the information contained in the review text vs. the rating? Is review rating an adequate summary statistic about the review text's polarity?\n",
    "\n",
    "1. **Answer here:  because reviewrating and subjectivity are not predictive of one another (low correlation means that the variation in reviewrating doesn't explain much of the variation in subjectivity), this means that review text isn't very predictive of rating**\n",
    "\n",
    "What about the correlation between polarity and subjectivity, what can you conclude about reviewers' emotionality (subjectivity) as a function of polarity? (Review what correlation measures and then apply that logic to these 2 sentiment variables) \n",
    "\n",
    "1. **Answer here:  polarity and subjectivity are more highly correlated (meaning here that 44% of the variation in subjectivity can be explained by variation in polarity.  As polarity goes up, so does subjectivity.**"
   ]
  },
  {
   "cell_type": "code",
   "execution_count": 31,
   "metadata": {
    "id": "3GfR6gb-x0qW"
   },
   "outputs": [
    {
     "data": {
      "text/plain": [
       "<matplotlib.axes._subplots.AxesSubplot at 0x7f7866815dd0>"
      ]
     },
     "execution_count": 31,
     "metadata": {},
     "output_type": "execute_result"
    },
    {
     "data": {
      "image/png": "[encoded data removed]",
      "text/plain": [
       "<Figure size 432x288 with 1 Axes>"
      ]
     },
     "metadata": {
      "needs_background": "light"
     },
     "output_type": "display_data"
    }
   ],
   "source": [
    "# plot the histogram of review rating\n",
    "df.reviewrating.hist()"
   ]
  },
  {
   "cell_type": "code",
   "execution_count": 32,
   "metadata": {
    "id": "mYgsvYyyySat"
   },
   "outputs": [
    {
     "data": {
      "text/plain": [
       "<matplotlib.axes._subplots.AxesSubplot at 0x7f786682d050>"
      ]
     },
     "execution_count": 32,
     "metadata": {},
     "output_type": "execute_result"
    },
    {
     "data": {
      "image/png": "[encoded data removed]",
      "text/plain": [
       "<Figure size 432x288 with 1 Axes>"
      ]
     },
     "metadata": {
      "needs_background": "light"
     },
     "output_type": "display_data"
    }
   ],
   "source": [
    "# plot the histogram of polarity\n",
    "df.polarity.hist()"
   ]
  },
  {
   "cell_type": "code",
   "execution_count": 33,
   "metadata": {
    "id": "sbh_m_lTMA4E"
   },
   "outputs": [
    {
     "data": {
      "text/plain": [
       "<matplotlib.axes._subplots.AxesSubplot at 0x7f786681f5d0>"
      ]
     },
     "execution_count": 33,
     "metadata": {},
     "output_type": "execute_result"
    },
    {
     "data": {
      "image/png": "[encoded data removed]",
      "text/plain": [
       "<Figure size 432x288 with 1 Axes>"
      ]
     },
     "metadata": {
      "needs_background": "light"
     },
     "output_type": "display_data"
    }
   ],
   "source": [
    "# plot the histogram of subjectivity\n",
    "df.subjectivity.hist()"
   ]
  },
  {
   "cell_type": "markdown",
   "metadata": {
    "id": "C8GYA4coM5lF"
   },
   "source": [
    "**Answer this**\n",
    "1. Are most reviews positive or negative?\n",
    "    1. **Answer:  most of the reviews were positive (more 4's and 5's than anything else)**\n",
    "1. Are most reviews subjective or objective? (subjective >.5)\n",
    "    1. **Answer: most of the reviews are subjective**"
   ]
  },
  {
   "cell_type": "code",
   "execution_count": 34,
   "metadata": {
    "id": "fCpET2bsyT3p"
   },
   "outputs": [
    {
     "name": "stderr",
     "output_type": "stream",
     "text": [
      "/home/bob/anaconda3/lib/python3.7/site-packages/ipykernel_launcher.py:3: FutureWarning: Indexing with multiple keys (implicitly converted to a tuple of keys) will be deprecated, use a list instead.\n",
      "  This is separate from the ipykernel package so we can avoid doing imports until\n"
     ]
    },
    {
     "data": {
      "text/html": [
       "<div>\n",
       "<style scoped>\n",
       "    .dataframe tbody tr th:only-of-type {\n",
       "        vertical-align: middle;\n",
       "    }\n",
       "\n",
       "    .dataframe tbody tr th {\n",
       "        vertical-align: top;\n",
       "    }\n",
       "\n",
       "    .dataframe thead th {\n",
       "        text-align: right;\n",
       "    }\n",
       "</style>\n",
       "<table border=\"1\" class=\"dataframe\">\n",
       "  <thead>\n",
       "    <tr style=\"text-align: right;\">\n",
       "      <th></th>\n",
       "      <th>polarity</th>\n",
       "      <th>reviewrating</th>\n",
       "    </tr>\n",
       "    <tr>\n",
       "      <th>travel_category</th>\n",
       "      <th></th>\n",
       "      <th></th>\n",
       "    </tr>\n",
       "  </thead>\n",
       "  <tbody>\n",
       "    <tr>\n",
       "      <th>business</th>\n",
       "      <td>0.262430</td>\n",
       "      <td>3.900085</td>\n",
       "    </tr>\n",
       "    <tr>\n",
       "      <th>solo</th>\n",
       "      <td>0.279972</td>\n",
       "      <td>4.080357</td>\n",
       "    </tr>\n",
       "    <tr>\n",
       "      <th>friends</th>\n",
       "      <td>0.282550</td>\n",
       "      <td>3.988150</td>\n",
       "    </tr>\n",
       "    <tr>\n",
       "      <th>family</th>\n",
       "      <td>0.285480</td>\n",
       "      <td>4.054054</td>\n",
       "    </tr>\n",
       "    <tr>\n",
       "      <th>couple</th>\n",
       "      <td>0.286445</td>\n",
       "      <td>4.119497</td>\n",
       "    </tr>\n",
       "  </tbody>\n",
       "</table>\n",
       "</div>"
      ],
      "text/plain": [
       "                 polarity  reviewrating\n",
       "travel_category                        \n",
       "business         0.262430      3.900085\n",
       "solo             0.279972      4.080357\n",
       "friends          0.282550      3.988150\n",
       "family           0.285480      4.054054\n",
       "couple           0.286445      4.119497"
      ]
     },
     "execution_count": 34,
     "metadata": {},
     "output_type": "execute_result"
    }
   ],
   "source": [
    "# compute the average polarity and review rating by travel_category\n",
    "# use a groupby statement \n",
    "df.groupby('travel_category')['polarity', 'reviewrating'].mean().sort_values(by = 'polarity')"
   ]
  },
  {
   "cell_type": "markdown",
   "metadata": {
    "id": "lIOxge4lNYAP"
   },
   "source": [
    "**Answer this**\n",
    "\n",
    "Are the ranks of categories by review rating the same as the ranks by polarity? If not, posit some potential explanations.\n",
    "\n",
    "**Answer here:  There seems to be a central tendencey for both (polarity around .27 and .28 and reviewrating around 3.9 and 4.0; therefore it may be that when comparing the two values, the shape of the distribution of each (and where each value falls in their respective distribution) is more important for a comparison than the comparison of raw value.**"
   ]
  },
  {
   "cell_type": "markdown",
   "metadata": {
    "id": "7vlDqmfWN6Ow"
   },
   "source": [
    "# Preprocessing for topic analysis (1)\n",
    "\n",
    "Before we can do topic analysis, we need to pre-process the texts.\n",
    "\n",
    "1. Lemmatization\n",
    "1. Phrase detection\n",
    "\n",
    "These steps may take some time.\n"
   ]
  },
  {
   "cell_type": "markdown",
   "metadata": {
    "id": "eZ7KVireN87X"
   },
   "source": [
    "## Lemmatization"
   ]
  },
  {
   "cell_type": "markdown",
   "metadata": {
    "id": "sDntp8gbN896"
   },
   "source": [
    "**Answer this** \n",
    "\n",
    "1. What is the purpose of lemmatization? \n",
    "    1. **Answer here:  The purpose of lemmatization is to taken different forms of a word and treat them as the same entity**\n",
    "1. How does lemmatization help simplify the topic modeling problem? \n",
    "    1. **Answer here: Lemmatization simplies the topic modeling problem by simplifying units of meaning and their relationship to other such units**\n",
    "1. Give at least 3 examples of how some words may be lemmatized.\n",
    "    1. Riding --> Ride\n",
    "    1. Better --> Good\n",
    "    1. Was --> Be"
   ]
  },
  {
   "cell_type": "code",
   "execution_count": 35,
   "metadata": {
    "id": "pFz-jasROUS7"
   },
   "outputs": [],
   "source": [
    "# Create an nlp subfolder if it doesn't yet exist\n",
    "# call this subfolder nlppath\n",
    "nlppath = fpath + '/nlppath/'\n",
    "try:\n",
    "    os.listdir(nlppath)\n",
    "except:\n",
    "    pass\n",
    "##    os.mkdir(nlppath)"
   ]
  },
  {
   "cell_type": "code",
   "execution_count": 36,
   "metadata": {
    "id": "GJq5Kx_wQBHT"
   },
   "outputs": [],
   "source": [
    "# remove any return or new line characters from the review texts\n",
    "# replace reviewtext column with the cleaned up review texts\n",
    "df['reviewtext'] = df.reviewtext.str.replace('\\r', '').str.replace('\\n', '')"
   ]
  },
  {
   "cell_type": "code",
   "execution_count": 37,
   "metadata": {
    "id": "oXeWyiWxOUVL"
   },
   "outputs": [],
   "source": [
    "# create a list of review texts from column of review texts\n",
    "texts = list(df.reviewtext)\n",
    "\n",
    "# write the raw texts to disk where 1 row = 1 review\n",
    "with open(nlppath + 'rawtexts.txt', 'w', encoding = 'utf-8') as f:\n",
    "    f.write('\\n'.join(texts))"
   ]
  },
  {
   "cell_type": "code",
   "execution_count": 38,
   "metadata": {
    "id": "7S2oYsOPRi0o"
   },
   "outputs": [],
   "source": [
    "# import stopwords again\n",
    "sw = stopwords.words('english')\n"
   ]
  },
  {
   "cell_type": "code",
   "execution_count": 39,
   "metadata": {
    "id": "3HJAVD20RXhx"
   },
   "outputs": [],
   "source": [
    "# use the spacy library, create the variable nlp which is the english language model\n",
    "# i.e. nlp = spacy.load(...)\n",
    "nlp = spacy.load('en_core_web_sm')"
   ]
  },
  {
   "cell_type": "code",
   "execution_count": 40,
   "metadata": {
    "id": "gx3TThO5OUXv"
   },
   "outputs": [
    {
     "name": "stdout",
     "output_type": "stream",
     "text": [
      "Success\n"
     ]
    }
   ],
   "source": [
    "# use the write_parsed_sentence_corpus function to lemmatize the reviews\n",
    "# do not stop this cell, if you do, you must reload the nlp function in previous cell before executing again\n",
    "\n",
    "readfile = nlppath + 'rawtexts.txt' # use the location of the raw review texts\n",
    "writefile = nlppath + 'review_sentences.txt' # specify a location for the lemmatized review sentences\n",
    "\n",
    "t0 = time.time() # time your code\n",
    "write_parsed_sentence_corpus(readfile, writefile, nlp, batch_size = 1000, n_threads = 1, sw=sw, exclusions = ['-PRON-'], encode = 'utf-8')\n",
    "td = (time.time()-t0)/60"
   ]
  },
  {
   "cell_type": "code",
   "execution_count": 41,
   "metadata": {
    "id": "BnxzkIzgP5Ei"
   },
   "outputs": [
    {
     "name": "stdout",
     "output_type": "stream",
     "text": [
      "Took 4.70 minutes\n"
     ]
    }
   ],
   "source": [
    "# print out how long it took to run\n",
    "print('Took {:.2f} minutes'.format(td)) "
   ]
  },
  {
   "cell_type": "markdown",
   "metadata": {
    "id": "tgM-pwyk8GS-"
   },
   "source": [
    "**Answer these**\n",
    "1. Explain the logic behind how phrase detection (aka phrase modeling) works.\n",
    "    1. **Answer:  It takes words that have a greater probability to be found together and treats them as a signle unit.  Examples would be \"New York City\" or \"crazy good\" or \"wild ride\" or \"runaway inflation.** \n",
    "1. If phrase modeling is run twice, what is the maximum length of a detected phrase?\n",
    "    1. **Answer:  4-word phrases**"
   ]
  },
  {
   "cell_type": "code",
   "execution_count": 42,
   "metadata": {
    "id": "mvc1E-DgP5HF"
   },
   "outputs": [],
   "source": [
    "# run phrase detection\n",
    "t0 = time.time() # time your code\n",
    "# ngrams = phrase_detection(....)\n",
    "ngrams = phrase_detection(nlppath + 'review_sentences.txt', nlppath)  # runs 2 iterations by default\n",
    "td = (time.time()-t0)/60 #calculate time difference"
   ]
  },
  {
   "cell_type": "code",
   "execution_count": 43,
   "metadata": {
    "id": "C7THUz0CP5MG"
   },
   "outputs": [
    {
     "name": "stdout",
     "output_type": "stream",
     "text": [
      "Took 0.43 minutes\n"
     ]
    }
   ],
   "source": [
    "print('Took {:.2f} minutes'.format(td))"
   ]
  },
  {
   "cell_type": "code",
   "execution_count": 44,
   "metadata": {
    "id": "ha7cBhF0l7ve"
   },
   "outputs": [
    {
     "data": {
      "text/plain": [
       "['lda60.lda.id2word',\n",
       " 'lda20.lda.expElogbeta.npy',\n",
       " 'lda60.lda',\n",
       " 'phrase_model_1.phrasemodel',\n",
       " 'phrase_model_2.phrasemodel',\n",
       " 'lda60.lda.expElogbeta.npy',\n",
       " 'lda40.lda.id2word',\n",
       " 'rawtexts.txt',\n",
       " 'sent_gram_1.txt',\n",
       " 'lda20.lda.id2word',\n",
       " 'lda20.lda.state',\n",
       " 'lda40.lda.state',\n",
       " 'review_sentences.txt',\n",
       " 'parsed_reviews.txt',\n",
       " 'sent_gram_2.txt',\n",
       " 'lda20.lda',\n",
       " 'TripAdvisor_parsed.csv',\n",
       " 'lda40.lda',\n",
       " 'lda40.lda.expElogbeta.npy',\n",
       " 'lda60.lda.state']"
      ]
     },
     "execution_count": 44,
     "metadata": {},
     "output_type": "execute_result"
    }
   ],
   "source": [
    "# list the nlppath directory\n",
    "os.listdir(nlppath)"
   ]
  },
  {
   "cell_type": "code",
   "execution_count": 45,
   "metadata": {
    "id": "al1G0LBTv82F"
   },
   "outputs": [],
   "source": [
    "# use line_doc to preview a few sentences from sent_gram_2\n",
    "# construct line generator here, call it \"lines\":\n",
    "lines = line_doc(nlppath + 'sent_gram_2.txt')"
   ]
  },
  {
   "cell_type": "code",
   "execution_count": 46,
   "metadata": {
    "id": "MkzfD8XgwGmJ"
   },
   "outputs": [
    {
     "data": {
      "text/plain": [
       "'excellent property\\n'"
      ]
     },
     "execution_count": 46,
     "metadata": {},
     "output_type": "execute_result"
    }
   ],
   "source": [
    "# preview sentences here, run this cell a few times, make sure you see some phrases\n",
    "# phrases are denoted by \"_\" combining 2 words\n",
    "next(lines) "
   ]
  },
  {
   "cell_type": "code",
   "execution_count": 47,
   "metadata": {
    "id": "iXwseVWKwbrJ"
   },
   "outputs": [],
   "source": [
    "# use phrase_prediction function to produce a file that is lemmatized and phrased and 1 line = 1 **review**\n",
    "# each review will be lemmatized and phrase-detected\n",
    "nlp = spacy.load('en_core_web_sm')\n",
    "\n",
    "t0 = time.time()\n",
    "phrase_prediction(nlppath + 'rawtexts.txt', nlppath + 'parsed_reviews.txt',nlp, ngrams, sw = sw, exclusions = ['-PRON-'], batch_size = 500, n_threads = 2, encode = 'utf-8')\n",
    "td = (time.time()-t0)/60 #calculate time difference"
   ]
  },
  {
   "cell_type": "code",
   "execution_count": 48,
   "metadata": {
    "id": "JKM4UVHKy7YC"
   },
   "outputs": [
    {
     "name": "stdout",
     "output_type": "stream",
     "text": [
      "Took 4.85 minutes\n"
     ]
    }
   ],
   "source": [
    "print('Took {:.2f} minutes'.format(td))"
   ]
  },
  {
   "cell_type": "code",
   "execution_count": 49,
   "metadata": {},
   "outputs": [
    {
     "data": {
      "text/plain": [
       "['lda60.lda.id2word',\n",
       " 'lda20.lda.expElogbeta.npy',\n",
       " 'lda60.lda',\n",
       " 'phrase_model_1.phrasemodel',\n",
       " 'phrase_model_2.phrasemodel',\n",
       " 'lda60.lda.expElogbeta.npy',\n",
       " 'lda40.lda.id2word',\n",
       " 'rawtexts.txt',\n",
       " 'sent_gram_1.txt',\n",
       " 'lda20.lda.id2word',\n",
       " 'lda20.lda.state',\n",
       " 'lda40.lda.state',\n",
       " 'review_sentences.txt',\n",
       " 'parsed_reviews.txt',\n",
       " 'sent_gram_2.txt',\n",
       " 'lda20.lda',\n",
       " 'TripAdvisor_parsed.csv',\n",
       " 'lda40.lda',\n",
       " 'lda40.lda.expElogbeta.npy',\n",
       " 'lda60.lda.state']"
      ]
     },
     "execution_count": 49,
     "metadata": {},
     "output_type": "execute_result"
    }
   ],
   "source": [
    "os.listdir(nlppath)"
   ]
  },
  {
   "cell_type": "code",
   "execution_count": 50,
   "metadata": {
    "id": "DNBQvgvMzTwG"
   },
   "outputs": [],
   "source": [
    "# let's take a look at what we did\n",
    "# construct line generator here, call it \"lines\", to preview the output of the \n",
    "# phrase prediction step\n",
    "\n",
    "lines = line_doc(nlppath + 'parsed_reviews.txt') # fill this in here"
   ]
  },
  {
   "cell_type": "code",
   "execution_count": 52,
   "metadata": {
    "id": "B9US4fGqzTyi"
   },
   "outputs": [
    {
     "data": {
      "text/plain": [
       "'first visit_las_vegas wow whilst hotel strip give wow_factor wynn_encore outstanding accommodation staff also like fact pool open resident friend resident feel_like_royalty choice restaurant give choice whether want spend plenty little apply gambling area want good evening speak concierge get vip access triste nightclub xs_nightclub little cost\\n'"
      ]
     },
     "execution_count": 52,
     "metadata": {},
     "output_type": "execute_result"
    }
   ],
   "source": [
    "# look at a few reviews\n",
    "next(lines)"
   ]
  },
  {
   "cell_type": "code",
   "execution_count": 53,
   "metadata": {
    "id": "bGMod-hd194f"
   },
   "outputs": [],
   "source": [
    "# read in reviews file as list of reviews\n",
    "with open(nlppath + 'parsed_reviews.txt', 'r', encoding = 'utf-8') as f:\n",
    "    reviews = f.readlines()"
   ]
  },
  {
   "cell_type": "code",
   "execution_count": 54,
   "metadata": {
    "id": "ioGk6u-72DOl"
   },
   "outputs": [
    {
     "data": {
      "text/plain": [
       "(46643, 46643)"
      ]
     },
     "execution_count": 54,
     "metadata": {},
     "output_type": "execute_result"
    }
   ],
   "source": [
    "# make sure list of parsed reviews is the same length as the dataframe\n",
    "len(reviews), len(df)"
   ]
  },
  {
   "cell_type": "code",
   "execution_count": 55,
   "metadata": {
    "id": "ONNKvay-2Jsl"
   },
   "outputs": [],
   "source": [
    "# set column, parsed, to equal list of parsed reviews\n",
    "df['parsed'] = reviews"
   ]
  },
  {
   "cell_type": "code",
   "execution_count": 56,
   "metadata": {
    "id": "wIGRY8u32PT3"
   },
   "outputs": [],
   "source": [
    "# Save the dataframe\n",
    "if 1==1:\n",
    "    df.to_csv(nlppath + 'TripAdvisor_parsed.csv', encoding = 'utf-8')\n",
    "else:\n",
    "    df = pd.read_csv(nlppath + 'TripAdvisor_parsed.csv', index_col = 0, encoding = 'utf-8')"
   ]
  },
  {
   "cell_type": "markdown",
   "metadata": {
    "id": "7-yHBurtzT1R"
   },
   "source": [
    "# TFIDF Model (3 points)"
   ]
  },
  {
   "cell_type": "markdown",
   "metadata": {
    "id": "iqJTccg83E3x"
   },
   "source": [
    "**Answer these**\n",
    "1. What does TF-IDF stand for? \n",
    "    1. **Answer here:  Term Frequency x Inverse Document Frequency**\n",
    "1. What are the 2 fundamental ways of counting word frequencies that is embedded into the logic of TF-IDF? In your own words, what is the logical relationship between each type of word frequency and the word's importance in representing a document.\n",
    "    1. **First one**\n",
    "        1. **Explain logic:  Term Frequence.  The number of times a term appears in a document/total number of terms in the document (document length). This upweights words based on their frequency within a single document. The more the word is used in the document, the more important it presumably is.**\n",
    "    1. **Second one**\n",
    "        1. **Explain logic:  Inverse Document Frequency.  The number of times a terms appears across documents. Words that appear in all documents are downweighted--they don't vary with other words or factors, they are omnipresent and so add nothing to the model.**"
   ]
  },
  {
   "cell_type": "markdown",
   "metadata": {
    "id": "4TDs8ME81338"
   },
   "source": [
    "## Construct dictionary and corpus"
   ]
  },
  {
   "cell_type": "code",
   "execution_count": 57,
   "metadata": {
    "id": "xGSAvnK-136y"
   },
   "outputs": [
    {
     "name": "stdout",
     "output_type": "stream",
     "text": [
      "45735\n"
     ]
    }
   ],
   "source": [
    "# list of documents as list of words where 1 document = all reviews for a business\n",
    "reviews = list(df.parsed.str.split()) # construct list of list of words (outer list is per review)\n",
    "\n",
    "# compute dictionary\n",
    "dictionary = corpora.Dictionary(reviews)\n",
    "\n",
    "# look at number of words in vocabulary\n",
    "print(len(dictionary))"
   ]
  },
  {
   "cell_type": "markdown",
   "metadata": {
    "id": "yfoPujBq6YLd"
   },
   "source": [
    "**Answer these**\n",
    "\n",
    "1. Why might you want to filter out words that appear in too few documents?\n",
    "    1. **Answer this:  Words that appear in too few documents may be difficult to use in a model because there is not an opportunity to observe the words being used (or not used) in conjunction with other words.  A word that appears once in all documents ads nothing.**\n",
    "1. Why might you want to filter out words that appear in too many documents?\n",
    "    1. **Answer this:  Words that appear everywhere, i.e. in every document, (\"food\" in restaurant reviews), doesn't add much to the model because there is no occasion to see the words vary in usage in conjunction with other words.**\n"
   ]
  },
  {
   "cell_type": "code",
   "execution_count": 58,
   "metadata": {
    "id": "IZG3bDY214BS"
   },
   "outputs": [
    {
     "name": "stdout",
     "output_type": "stream",
     "text": [
      "11445\n"
     ]
    }
   ],
   "source": [
    "# filter out too frequent or too infrequent words\n",
    "dictionary.filter_extremes(no_below=10, no_above=.10)\n",
    "# no_below is the lower qualifying limit of documents in which a word appears\n",
    "# no_above is the upper qualifying proportional limit in which a word appears\n",
    "print(len(dictionary))\n"
   ]
  },
  {
   "cell_type": "code",
   "execution_count": 59,
   "metadata": {
    "id": "mkmP3fri7FvH"
   },
   "outputs": [],
   "source": [
    "# construct a corpus which is like list of bag of words\n",
    "# where each bag of words is a dictionary of word ID's mapped to word count in document\n",
    "corpus = [dictionary.doc2bow(r) for r in reviews]"
   ]
  },
  {
   "cell_type": "markdown",
   "metadata": {
    "id": "hFeARNh67Wkc"
   },
   "source": [
    "## Create the TF-IDF model, look at keywords for a few reviews"
   ]
  },
  {
   "cell_type": "code",
   "execution_count": 60,
   "metadata": {
    "id": "58rvnaRs7Y9Z"
   },
   "outputs": [],
   "source": [
    "tfidf = tfidfmodel.TfidfModel(corpus, dictionary = dictionary) # compute the tfidf model"
   ]
  },
  {
   "cell_type": "code",
   "execution_count": 61,
   "metadata": {
    "id": "GThx0G177_s7"
   },
   "outputs": [],
   "source": [
    "def tfidf_keywords(txt, tfidf, dictionary, topn = 5):\n",
    "    \"\"\"\n",
    "    Takes in a parsed string, txt\n",
    "    a tfidf mode, tfidf\n",
    "    a gensim dictionary, dictionary,\n",
    "    and parameter topn that defines the number of top keywords to return\n",
    "    outputs topk, a list of tuples (keyword, keyword tfidf score)\n",
    "    \"\"\"\n",
    "    topk = sorted([(dictionary[t],f) for t,f in tfidf[dictionary.doc2bow(txt)]], key=lambda x: -x[-1])[:topn]\n",
    "    return topk"
   ]
  },
  {
   "cell_type": "code",
   "execution_count": 62,
   "metadata": {
    "id": "2SEdbnWu9ILA"
   },
   "outputs": [],
   "source": [
    "# create column of top5 words\n",
    "df['top5_tfidf'] = df.parsed.str.split().apply(lambda x: tfidf_keywords(x, tfidf, dictionary, topn = 5))"
   ]
  },
  {
   "cell_type": "code",
   "execution_count": 63,
   "metadata": {
    "id": "S68vfGBz-uB5"
   },
   "outputs": [
    {
     "name": "stdout",
     "output_type": "stream",
     "text": [
      "5 star review The Cosmopolitan of Las Vegas, Autograph Collection\n",
      "First ever time to Vegas and won't be our last, we got married on our balcony of our room at The Cosmopolitan and it was incredible, the view over the Bellagio Fountains from our wraparound suite was amazing, The staff were very friendly and helpful when needed. Highly recommend this hotel and when we go back we won't stay anywhere else as you cannot beat the balcony to sit and watch the world go by and soak up the atmosphere.\n",
      "[('balcony', 0.4407347680513857), ('view_bellagio_fountains', 0.34280382205121157), ('soak', 0.296147802530386), ('get_marry', 0.27806502600657473), ('stay_anywhere_else', 0.25424417662697907)]\n"
     ]
    }
   ],
   "source": [
    "# randomly sample a review (run a few times)\n",
    "r = df.sample(1) # sample a single row, r\n",
    "txt = r.reviewtext.iloc[0] # extract review text\n",
    "rating = r.reviewrating.iloc[0]\n",
    "hotel = r.v_name.iloc[0]\n",
    "keywords = r.top5_tfidf.iloc[0] # extract TFIDF keywords \n",
    "print('{} star review'.format(rating), hotel)\n",
    "print(txt)\n",
    "print(keywords)"
   ]
  },
  {
   "cell_type": "markdown",
   "metadata": {
    "id": "ngDFbxIIAuLE"
   },
   "source": [
    "**Answer this**\n",
    "\n",
    "Try to sample a few reviews and their respective keywords, did they make sense? Explain.\n",
    "\n",
    "1. **Answer here:  Some did and some didn't.  In some cases the keywords seemed to intuitively correspond to the rating/polarity.  However, in other cases, the key words were nouns that seemed to be neutral and not add much value.  In one review \"stay anywhere else\" was identified as a key word, but this could be used in very high or very low rated hotel reviews.  Additionally, since \"won't\" is in our list of stop words, it seems like the baby has been thrown out with the bath water--the words that determine the directionality of \"stay anywhere else\" have already been eliminated from the corpus.**"
   ]
  },
  {
   "cell_type": "markdown",
   "metadata": {
    "id": "5Dzl3ZmeCOQ5"
   },
   "source": [
    "# Run LDA Model, explore topics (4 points)"
   ]
  },
  {
   "cell_type": "markdown",
   "metadata": {
    "id": "AqwinYyhCfOe"
   },
   "source": [
    "**Answer this**\n",
    "\n",
    "In your own words, 1) describe LDA model 2) what advantages does it have over TF-IDF?\n",
    "\n",
    "1. **Describe -- LDA model is based on the generation of topics that words are associated with and then analyzing the documents based on those topics and their relation to one another.**\n",
    "2. **Advantages-- The advantage is that the analysis is similar to how we think about words in relation to semantics, which revovles around the use and inter-relation of topics.**"
   ]
  },
  {
   "cell_type": "code",
   "execution_count": null,
   "metadata": {
    "id": "FRB9ZBgQCe23"
   },
   "outputs": [
    {
     "name": "stdout",
     "output_type": "stream",
     "text": [
      "20\n",
      "40\n",
      "60\n"
     ]
    }
   ],
   "source": [
    "from gensim.models.ldamulticore import LdaMulticore # import lda function\n",
    "run = True\n",
    "if run:\n",
    "    t0 = time.time()\n",
    "    perplexity = list()\n",
    "    # define a training and testing set\n",
    "    corpus_train, corpus_test = train_test_split(corpus, test_size = .05)\n",
    "    for numtopics in range(20, 201, 20): # loop through 20,40,...200 topics\n",
    "        lda = LdaMulticore(corpus_train, id2word=dictionary, num_topics=numtopics, workers=7)\n",
    "        lda.save(nlppath+'lda{}.lda'.format(numtopics)) # save the model so we can load it up again later w/o running the model\n",
    "        p = lda.log_perplexity(corpus_test) # compute the perplexity on testing set\n",
    "        # save numtopics,p to the perplexity list \n",
    "        perplexity.append([numtopics, p])\n",
    "        # print out number of topics\n",
    "        print(numtopics)\n",
    "    perplexity = pd.DataFrame(perplexity, columns = ['ntopics', 'perplexity'])\n",
    "    td = time.time()-t0\n",
    "    print('Took {:.2f} minutes'.format(td/60))"
   ]
  },
  {
   "cell_type": "code",
   "execution_count": null,
   "metadata": {
    "id": "AU4U0_oNUUUC"
   },
   "outputs": [],
   "source": [
    "if run:\n",
    "    plt.plot(perplexity.ntopics, perplexity.perplexity)"
   ]
  },
  {
   "cell_type": "markdown",
   "metadata": {
    "id": "tD7RJzfaUmWl"
   },
   "source": [
    "**Answer Question**\n",
    "\n",
    "How many topics appear to minimize perplexity? **Answer**"
   ]
  },
  {
   "cell_type": "code",
   "execution_count": null,
   "metadata": {
    "id": "HJARvor3YlX9"
   },
   "outputs": [],
   "source": [
    "# Load lda best model\n",
    "ntopics = 200\n",
    "lda = LdaMulticore.load(nlppath + 'lda{}.lda'.format(ntopics))\n",
    "lda.minimum_probability = 0."
   ]
  },
  {
   "cell_type": "code",
   "execution_count": null,
   "metadata": {
    "id": "t0loLA6GDqwd"
   },
   "outputs": [],
   "source": [
    "# view all topics\n",
    "lda.show_topics(ntopics)"
   ]
  },
  {
   "cell_type": "markdown",
   "metadata": {
    "id": "6U3JciILEMeC"
   },
   "source": [
    "**Answer this**\n",
    "\n",
    "Pick 3 topics that you can label. Explain your label choice. \n",
    "\n",
    "1. \n",
    "2. \n",
    "3. \n",
    "\n",
    "**Answer here**\n"
   ]
  },
  {
   "cell_type": "markdown",
   "metadata": {
    "id": "Fot5FBuqgXlS"
   },
   "source": [
    "**Explore topics**"
   ]
  },
  {
   "cell_type": "code",
   "execution_count": null,
   "metadata": {
    "id": "vZjF2FwxdoyO"
   },
   "outputs": [],
   "source": [
    "# predict back the topic weights on each review\n",
    "df['topic_probs'] = df.parsed.str.split().apply(lambda x: dict(lda[dictionary.doc2bow(x)]))\n"
   ]
  },
  {
   "cell_type": "code",
   "execution_count": null,
   "metadata": {
    "id": "mE9KzQ4de2Zj"
   },
   "outputs": [],
   "source": [
    "# create top_k  columns for k = 0,...,ntopics\n",
    "# where top_k is the probability of each review representing topic k\n",
    "for t in range(ntopics):\n",
    "    df['top_{}'.format(t)] = df.topic_probs.apply(lambda x: x.get(t))\n"
   ]
  },
  {
   "cell_type": "code",
   "execution_count": null,
   "metadata": {
    "id": "0qv7ZdF_gjJz"
   },
   "outputs": [],
   "source": [
    "# create a variable that contains the list of top_k column names\n",
    "topiccols = ['top_{}'.format(t) for t in range(ntopics)]"
   ]
  },
  {
   "cell_type": "markdown",
   "metadata": {
    "id": "JTBfBlNFDTk5"
   },
   "source": [
    "### Topics by travel category"
   ]
  },
  {
   "cell_type": "code",
   "execution_count": null,
   "metadata": {
    "id": "1dHOt9qyf2EX"
   },
   "outputs": [],
   "source": [
    "# for each travel category, compute the average of all the topiccols \n",
    "# use .T at the end to transpose (i.e. rotate 90 deg) the dataframe\n",
    "topicmeans = df.groupby('travel_category')[topiccols].mean().T"
   ]
  },
  {
   "cell_type": "code",
   "execution_count": null,
   "metadata": {
    "id": "4oNf5GcIimiF"
   },
   "outputs": [],
   "source": [
    "# preview the topicmeans dataframe\n",
    "topicmeans.head()"
   ]
  },
  {
   "cell_type": "code",
   "execution_count": null,
   "metadata": {
    "id": "o2iUpoPTisxC"
   },
   "outputs": [],
   "source": [
    "# use sort_values on topicmeans to find the common topic among solo travelers\n",
    "# use ascending = False option in sort_values to sort from largest to smallest\n",
    "topicmeans.sort_values(by = 'solo', ascending = False)"
   ]
  },
  {
   "cell_type": "markdown",
   "metadata": {
    "id": "hpdJJ1VHjEMo"
   },
   "source": [
    "**Answer this**\n",
    "\n",
    "What is the topic ID for solo travelers' most likely review topic? **Answer**"
   ]
  },
  {
   "cell_type": "code",
   "execution_count": null,
   "metadata": {
    "id": "MWLWEjBji8hr"
   },
   "outputs": [],
   "source": [
    "# take a look at the top solo traveler topic\n",
    "top_solo = ... # use the most common solo traveler topic ID here\n",
    "pd.DataFrame(lda.show_topic(top_solo))"
   ]
  },
  {
   "cell_type": "code",
   "execution_count": null,
   "metadata": {
    "id": "95Amq4nKjdfG"
   },
   "outputs": [],
   "source": [
    "# look at the most common topic for business travelers\n"
   ]
  },
  {
   "cell_type": "code",
   "execution_count": null,
   "metadata": {
    "id": "jBiHuw5Zjdiw"
   },
   "outputs": [],
   "source": [
    "# preview the most common topic for business travelers\n"
   ]
  },
  {
   "cell_type": "code",
   "execution_count": null,
   "metadata": {
    "id": "AYXRaxsRj0a7"
   },
   "outputs": [],
   "source": [
    "# look at the most common topic for couples\n"
   ]
  },
  {
   "cell_type": "code",
   "execution_count": null,
   "metadata": {
    "id": "OjrQGDKijdlj"
   },
   "outputs": [],
   "source": [
    "# preview the most common topic for business travelers\n"
   ]
  },
  {
   "cell_type": "markdown",
   "metadata": {
    "id": "hBibeypqDY53"
   },
   "source": [
    "### Topics by rating for 1 hotel"
   ]
  },
  {
   "cell_type": "code",
   "execution_count": null,
   "metadata": {
    "id": "kOXHaa3iEWd6"
   },
   "outputs": [],
   "source": [
    "# print out unique hotels\n",
    "df.v_name.unique()"
   ]
  },
  {
   "cell_type": "code",
   "execution_count": null,
   "metadata": {
    "id": "0zqKx1U4S7Dm"
   },
   "outputs": [],
   "source": [
    "# pick out a hotel to analyze in detail\n",
    "hotel = 'Wynn Las Vegas'\n",
    "df_h = df.loc[df.v_name==hotel].reset_index(drop = True)"
   ]
  },
  {
   "cell_type": "code",
   "execution_count": null,
   "metadata": {
    "id": "3BdDf4WxS7F5"
   },
   "outputs": [],
   "source": [
    "# compute the average topic probability for each rating level\n",
    "topicmeans = df_h.groupby('reviewrating')[topiccols].mean().T"
   ]
  },
  {
   "cell_type": "code",
   "execution_count": null,
   "metadata": {
    "id": "Z66AcGGLS7Il"
   },
   "outputs": [],
   "source": [
    "# look at top topics for 1 star ratings\n",
    "topicmeans.sort_values(by = 1, ascending = False)"
   ]
  },
  {
   "cell_type": "code",
   "execution_count": null,
   "metadata": {
    "id": "K0KttLbIoRMt"
   },
   "outputs": [],
   "source": [
    "# look at the highest rated topic for 1 star ratings\n",
    "lda.show_topic(...) "
   ]
  },
  {
   "cell_type": "code",
   "execution_count": null,
   "metadata": {
    "id": "q5X-f8iZS7Lb"
   },
   "outputs": [],
   "source": [
    "# look at top topics for 5 star ratings\n",
    "\n"
   ]
  },
  {
   "cell_type": "code",
   "execution_count": null,
   "metadata": {
    "id": "fObyEjlAoZE9"
   },
   "outputs": [],
   "source": [
    "# look at the highest rated topic for 5 star ratings\n",
    "# that are not in the top 5 for 1 star ratings\n",
    "\n"
   ]
  },
  {
   "cell_type": "markdown",
   "metadata": {
    "id": "6ODePDkrJPV9"
   },
   "source": [
    "**Answer Question**\n",
    "\n",
    "Any intuition behind the distinctive 5 star topic and the top 1 star topic? Explain.\n",
    "\n",
    "1. **Answer**"
   ]
  },
  {
   "cell_type": "markdown",
   "metadata": {
    "id": "PyHJz_FaI1Vf"
   },
   "source": [
    "# Create wordcloud from LDA (+2 Bonus)\n",
    "\n"
   ]
  },
  {
   "cell_type": "markdown",
   "metadata": {
    "id": "d5eJIMJGtYIU"
   },
   "source": [
    "## Example for creating 1 wordcloud"
   ]
  },
  {
   "cell_type": "code",
   "execution_count": null,
   "metadata": {
    "id": "iA78Q6rjrnNa"
   },
   "outputs": [],
   "source": [
    "# to get the topic weights for topic k:\n",
    "k = 0\n",
    "# topn = number of top words to use\n",
    "topicwts = dict(lda.show_topic(k, topn = 100))"
   ]
  },
  {
   "cell_type": "code",
   "execution_count": null,
   "metadata": {
    "id": "fHudGG8NrfRn"
   },
   "outputs": [],
   "source": [
    "from wordcloud import WordCloud\n",
    "wc = WordCloud(width = 1920, height = 1080, background_color = 'white').fit_words(topicwts) # specify w/h for HD figure"
   ]
  },
  {
   "cell_type": "code",
   "execution_count": null,
   "metadata": {
    "id": "xnJVX9Txsaae"
   },
   "outputs": [],
   "source": [
    "# plot wc\n",
    "plt.figure(figsize = (10,5))\n",
    "plt.imshow(wc, interpolation='bilinear')\n",
    "plt.title('Topic {}'.format(k))\n",
    "plt.axis('off')\n",
    "plt.show()"
   ]
  },
  {
   "cell_type": "markdown",
   "metadata": {
    "id": "bXjgXZqSsrsC"
   },
   "source": [
    "## Challenge problem (for the bonus): \n",
    "Use only the data from your chosen hotel, i.e. df_h.\n",
    "\n",
    "For positive and negative reviews, where positive is 4-5 stars and negative is 1-3 stars, create a wordcloud for any of the top 5 topics for that category of ratings that are not in the top 5 of the other category. For instance, if topic 88 is one of the top 5 topics for negative reviews and **not** one of the top 5 topics for positive reviews, then create a wordcloud for it. Make sure that the title of the wordcloud image reflects the review type (positive/negative) and the topic number: e.g., 'Positive review topic: 88'.\n",
    "\n",
    "*Use what you have learned throughout the semester and the internet to figure out how to do this without any hard-coded results, especially with respect to selecting the topics to visualize. For example: use code to write a generic solution such that you do not have to manually select the topics used for word cloud. If you had to re-run the code where top 5 topics is now top 3 topics, you should only have to change the 5 to 3 once in the code.\n",
    "\n"
   ]
  },
  {
   "cell_type": "code",
   "execution_count": null,
   "metadata": {
    "id": "jP4SGPydwRRZ"
   },
   "outputs": [],
   "source": [
    "# solution below, feel free to add multiple additional cells"
   ]
  }
 ],
 "metadata": {
  "colab": {
   "collapsed_sections": [],
   "name": "A10 Text_Analysis_Tutorial.ipynb",
   "provenance": []
  },
  "kernelspec": {
   "display_name": "Python 3",
   "language": "python",
   "name": "python3"
  },
  "language_info": {
   "codemirror_mode": {
    "name": "ipython",
    "version": 3
   },
   "file_extension": ".py",
   "mimetype": "text/x-python",
   "name": "python",
   "nbconvert_exporter": "python",
   "pygments_lexer": "ipython3",
   "version": "3.7.6"
  }
 },
 "nbformat": 4,
 "nbformat_minor": 1
}
